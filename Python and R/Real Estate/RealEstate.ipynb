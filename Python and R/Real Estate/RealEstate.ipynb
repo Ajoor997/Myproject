{
 "cells": [
  {
   "cell_type": "markdown",
   "metadata": {},
   "source": [
    "# Real Estate Project"
   ]
  },
  {
   "cell_type": "code",
   "execution_count": 1,
   "metadata": {
    "ExecuteTime": {
     "end_time": "2020-02-09T04:30:47.704918Z",
     "start_time": "2020-02-09T04:30:42.255393Z"
    }
   },
   "outputs": [],
   "source": [
    "import pandas as pd\n",
    "import numpy as np\n",
    "import math\n",
    "\n",
    "import matplotlib.pyplot as plt\n",
    "%matplotlib inline"
   ]
  },
  {
   "cell_type": "code",
   "execution_count": 2,
   "metadata": {
    "ExecuteTime": {
     "end_time": "2020-02-09T04:30:47.717028Z",
     "start_time": "2020-02-09T04:30:47.708837Z"
    }
   },
   "outputs": [],
   "source": [
    "file_name = 'Bengaluru_House_Data.csv'"
   ]
  },
  {
   "cell_type": "code",
   "execution_count": 3,
   "metadata": {
    "ExecuteTime": {
     "end_time": "2020-02-09T04:30:47.799335Z",
     "start_time": "2020-02-09T04:30:47.723082Z"
    }
   },
   "outputs": [],
   "source": [
    "df = pd.read_csv(file_name)"
   ]
  },
  {
   "cell_type": "code",
   "execution_count": 4,
   "metadata": {
    "ExecuteTime": {
     "end_time": "2020-02-09T04:30:47.856914Z",
     "start_time": "2020-02-09T04:30:47.805340Z"
    }
   },
   "outputs": [
    {
     "data": {
      "text/html": [
       "<div>\n",
       "<style scoped>\n",
       "    .dataframe tbody tr th:only-of-type {\n",
       "        vertical-align: middle;\n",
       "    }\n",
       "\n",
       "    .dataframe tbody tr th {\n",
       "        vertical-align: top;\n",
       "    }\n",
       "\n",
       "    .dataframe thead th {\n",
       "        text-align: right;\n",
       "    }\n",
       "</style>\n",
       "<table border=\"1\" class=\"dataframe\">\n",
       "  <thead>\n",
       "    <tr style=\"text-align: right;\">\n",
       "      <th></th>\n",
       "      <th>area_type</th>\n",
       "      <th>availability</th>\n",
       "      <th>location</th>\n",
       "      <th>size</th>\n",
       "      <th>society</th>\n",
       "      <th>total_sqft</th>\n",
       "      <th>bath</th>\n",
       "      <th>balcony</th>\n",
       "      <th>price</th>\n",
       "    </tr>\n",
       "  </thead>\n",
       "  <tbody>\n",
       "    <tr>\n",
       "      <td>0</td>\n",
       "      <td>Super built-up  Area</td>\n",
       "      <td>19-Dec</td>\n",
       "      <td>Electronic City Phase II</td>\n",
       "      <td>2 BHK</td>\n",
       "      <td>Coomee</td>\n",
       "      <td>1056</td>\n",
       "      <td>2.0</td>\n",
       "      <td>1.0</td>\n",
       "      <td>39.07</td>\n",
       "    </tr>\n",
       "    <tr>\n",
       "      <td>1</td>\n",
       "      <td>Plot  Area</td>\n",
       "      <td>Ready To Move</td>\n",
       "      <td>Chikka Tirupathi</td>\n",
       "      <td>4 Bedroom</td>\n",
       "      <td>Theanmp</td>\n",
       "      <td>2600</td>\n",
       "      <td>5.0</td>\n",
       "      <td>3.0</td>\n",
       "      <td>120.00</td>\n",
       "    </tr>\n",
       "    <tr>\n",
       "      <td>2</td>\n",
       "      <td>Built-up  Area</td>\n",
       "      <td>Ready To Move</td>\n",
       "      <td>Uttarahalli</td>\n",
       "      <td>3 BHK</td>\n",
       "      <td>NaN</td>\n",
       "      <td>1440</td>\n",
       "      <td>2.0</td>\n",
       "      <td>3.0</td>\n",
       "      <td>62.00</td>\n",
       "    </tr>\n",
       "    <tr>\n",
       "      <td>3</td>\n",
       "      <td>Super built-up  Area</td>\n",
       "      <td>Ready To Move</td>\n",
       "      <td>Lingadheeranahalli</td>\n",
       "      <td>3 BHK</td>\n",
       "      <td>Soiewre</td>\n",
       "      <td>1521</td>\n",
       "      <td>3.0</td>\n",
       "      <td>1.0</td>\n",
       "      <td>95.00</td>\n",
       "    </tr>\n",
       "    <tr>\n",
       "      <td>4</td>\n",
       "      <td>Super built-up  Area</td>\n",
       "      <td>Ready To Move</td>\n",
       "      <td>Kothanur</td>\n",
       "      <td>2 BHK</td>\n",
       "      <td>NaN</td>\n",
       "      <td>1200</td>\n",
       "      <td>2.0</td>\n",
       "      <td>1.0</td>\n",
       "      <td>51.00</td>\n",
       "    </tr>\n",
       "  </tbody>\n",
       "</table>\n",
       "</div>"
      ],
      "text/plain": [
       "              area_type   availability                  location       size  \\\n",
       "0  Super built-up  Area         19-Dec  Electronic City Phase II      2 BHK   \n",
       "1            Plot  Area  Ready To Move          Chikka Tirupathi  4 Bedroom   \n",
       "2        Built-up  Area  Ready To Move               Uttarahalli      3 BHK   \n",
       "3  Super built-up  Area  Ready To Move        Lingadheeranahalli      3 BHK   \n",
       "4  Super built-up  Area  Ready To Move                  Kothanur      2 BHK   \n",
       "\n",
       "   society total_sqft  bath  balcony   price  \n",
       "0  Coomee        1056   2.0      1.0   39.07  \n",
       "1  Theanmp       2600   5.0      3.0  120.00  \n",
       "2      NaN       1440   2.0      3.0   62.00  \n",
       "3  Soiewre       1521   3.0      1.0   95.00  \n",
       "4      NaN       1200   2.0      1.0   51.00  "
      ]
     },
     "execution_count": 4,
     "metadata": {},
     "output_type": "execute_result"
    }
   ],
   "source": [
    "df.head()"
   ]
  },
  {
   "cell_type": "code",
   "execution_count": 5,
   "metadata": {
    "ExecuteTime": {
     "end_time": "2020-02-09T04:30:47.877122Z",
     "start_time": "2020-02-09T04:30:47.860816Z"
    }
   },
   "outputs": [
    {
     "data": {
      "text/plain": [
       "Index(['area_type', 'availability', 'location', 'size', 'society',\n",
       "       'total_sqft', 'bath', 'balcony', 'price'],\n",
       "      dtype='object')"
      ]
     },
     "execution_count": 5,
     "metadata": {},
     "output_type": "execute_result"
    }
   ],
   "source": [
    "df.columns"
   ]
  },
  {
   "cell_type": "code",
   "execution_count": 6,
   "metadata": {
    "ExecuteTime": {
     "end_time": "2020-02-09T04:30:47.976457Z",
     "start_time": "2020-02-09T04:30:47.885180Z"
    }
   },
   "outputs": [
    {
     "name": "stdout",
     "output_type": "stream",
     "text": [
      "Shape: (13320, 9)\n",
      "----------------------------------\n",
      "Columns: Index(['area_type', 'availability', 'location', 'size', 'society',\n",
      "       'total_sqft', 'bath', 'balcony', 'price'],\n",
      "      dtype='object')\n",
      "----------------------------------\n",
      "area_type:  ['Super built-up  Area' 'Plot  Area' 'Built-up  Area' 'Carpet  Area']\n",
      "----------------------------------\n",
      "availability:  ['19-Dec' 'Ready To Move' '18-May' '18-Feb' '18-Nov' '20-Dec' '17-Oct'\n",
      " '21-Dec' '19-Sep' '20-Sep' '18-Mar' '20-Feb' '18-Apr' '20-Aug' '18-Oct'\n",
      " '19-Mar' '17-Sep' '18-Dec' '17-Aug' '19-Apr' '18-Jun' '22-Dec' '22-Jan'\n",
      " '18-Aug' '19-Jan' '17-Jul' '18-Jul' '21-Jun' '20-May' '19-Aug' '18-Sep'\n",
      " '17-May' '17-Jun' '21-May' '18-Jan' '20-Mar' '17-Dec' '16-Mar' '19-Jun'\n",
      " '22-Jun' '19-Jul' '21-Feb' 'Immediate Possession' '19-May' '17-Nov'\n",
      " '20-Oct' '20-Jun' '19-Feb' '21-Oct' '21-Jan' '17-Mar' '17-Apr' '22-May'\n",
      " '19-Oct' '21-Jul' '21-Nov' '21-Mar' '16-Dec' '22-Mar' '20-Jan' '21-Sep'\n",
      " '21-Aug' '14-Nov' '19-Nov' '15-Nov' '16-Jul' '15-Jun' '17-Feb' '20-Nov'\n",
      " '20-Jul' '16-Sep' '15-Oct' '15-Dec' '16-Oct' '22-Nov' '15-Aug' '17-Jan'\n",
      " '16-Nov' '20-Apr' '16-Jan' '14-Jul']\n",
      "----------------------------------\n",
      "location:  ['Electronic City Phase II' 'Chikka Tirupathi' 'Uttarahalli' ...\n",
      " '12th cross srinivas nagar banshankari 3rd stage' 'Havanur extension'\n",
      " 'Abshot Layout']\n",
      "----------------------------------\n",
      "size:  ['2 BHK' '4 Bedroom' '3 BHK' '4 BHK' '6 Bedroom' '3 Bedroom' '1 BHK'\n",
      " '1 RK' '1 Bedroom' '8 Bedroom' '2 Bedroom' '7 Bedroom' '5 BHK' '7 BHK'\n",
      " '6 BHK' '5 Bedroom' '11 BHK' '9 BHK' nan '9 Bedroom' '27 BHK'\n",
      " '10 Bedroom' '11 Bedroom' '10 BHK' '19 BHK' '16 BHK' '43 Bedroom'\n",
      " '14 BHK' '8 BHK' '12 Bedroom' '13 BHK' '18 Bedroom']\n",
      "----------------------------------\n",
      "society:  ['Coomee ' 'Theanmp' nan ... 'SJovest' 'ThhtsV ' 'RSntsAp']\n",
      "----------------------------------\n",
      "bath:  [ 2.  5.  3.  4.  6.  1.  9. nan  8.  7. 11. 10. 14. 27. 12. 16. 40. 15.\n",
      " 13. 18.]\n",
      "----------------------------------\n",
      "balcony:  [ 1.  3. nan  2.  0.]\n",
      "----------------------------------\n",
      "<class 'pandas.core.frame.DataFrame'>\n",
      "RangeIndex: 13320 entries, 0 to 13319\n",
      "Data columns (total 9 columns):\n",
      "area_type       13320 non-null object\n",
      "availability    13320 non-null object\n",
      "location        13319 non-null object\n",
      "size            13304 non-null object\n",
      "society         7818 non-null object\n",
      "total_sqft      13320 non-null object\n",
      "bath            13247 non-null float64\n",
      "balcony         12711 non-null float64\n",
      "price           13320 non-null float64\n",
      "dtypes: float64(3), object(6)\n",
      "memory usage: 936.7+ KB\n",
      "None\n"
     ]
    }
   ],
   "source": [
    "# Inspecting the first dataframe\n",
    "print('Shape:', df.shape)\n",
    "print (\"----------------------------------\")\n",
    "print('Columns:', df.columns)\n",
    "print (\"----------------------------------\")\n",
    "print (\"area_type: \",df['area_type'].unique())\n",
    "print (\"----------------------------------\")\n",
    "print (\"availability: \",df['availability'].unique())\n",
    "print (\"----------------------------------\")\n",
    "print (\"location: \",df['location'].unique())\n",
    "print (\"----------------------------------\")\n",
    "print (\"size: \",df['size'].unique())\n",
    "print (\"----------------------------------\")\n",
    "print (\"society: \",df['society'].unique())\n",
    "print (\"----------------------------------\")\n",
    "print (\"bath: \",df['bath'].unique())\n",
    "print (\"----------------------------------\")\n",
    "print (\"balcony: \",df['balcony'].unique())\n",
    "print (\"----------------------------------\")\n",
    "print (df.info())"
   ]
  },
  {
   "cell_type": "markdown",
   "metadata": {},
   "source": [
    "- variable types are NOT correct\n",
    "- 6 columns/variables contain Nan, what to do with them ?\n",
    "- balcony and bath are count thus they should be int\n",
    "- Further invetigation into the catogrical variables are required."
   ]
  },
  {
   "cell_type": "code",
   "execution_count": 7,
   "metadata": {
    "ExecuteTime": {
     "end_time": "2020-02-09T04:30:48.030737Z",
     "start_time": "2020-02-09T04:30:47.980449Z"
    }
   },
   "outputs": [
    {
     "data": {
      "text/plain": [
       "Super built-up  Area    0.66\n",
       "Built-up  Area          0.18\n",
       "Plot  Area              0.15\n",
       "Carpet  Area            0.01\n",
       "Name: area_type, dtype: float64"
      ]
     },
     "execution_count": 7,
     "metadata": {},
     "output_type": "execute_result"
    }
   ],
   "source": [
    "round(df['area_type'].value_counts(normalize=True, dropna=False ),2)"
   ]
  },
  {
   "cell_type": "markdown",
   "metadata": {},
   "source": [
    "- No NaNs values (very good)\n",
    "- Data Not Balanced, 66% are of type super built-up area\n",
    "- Ordinal Categorical Variable?\n",
    "- **What are the difference between them ?**"
   ]
  },
  {
   "cell_type": "code",
   "execution_count": 8,
   "metadata": {
    "ExecuteTime": {
     "end_time": "2020-02-09T04:30:48.058514Z",
     "start_time": "2020-02-09T04:30:48.034726Z"
    }
   },
   "outputs": [
    {
     "data": {
      "text/plain": [
       "Ready To Move    0.79\n",
       "18-Dec           0.02\n",
       "18-May           0.02\n",
       "18-Apr           0.02\n",
       "18-Aug           0.02\n",
       "                 ... \n",
       "15-Dec           0.00\n",
       "16-Jan           0.00\n",
       "15-Aug           0.00\n",
       "14-Nov           0.00\n",
       "17-Jan           0.00\n",
       "Name: availability, Length: 81, dtype: float64"
      ]
     },
     "execution_count": 8,
     "metadata": {},
     "output_type": "execute_result"
    }
   ],
   "source": [
    "round(df['availability'].value_counts(normalize=True, dropna=False ),2)"
   ]
  },
  {
   "cell_type": "markdown",
   "metadata": {},
   "source": [
    "- No NaNs values (very good)\n",
    "- Data extremely Not Balanced, 80% are of type ready to move\n",
    "- **maybe consider packing them by season (fall, summer, spring, winter)**"
   ]
  },
  {
   "cell_type": "code",
   "execution_count": 9,
   "metadata": {
    "ExecuteTime": {
     "end_time": "2020-02-09T04:30:48.087930Z",
     "start_time": "2020-02-09T04:30:48.062531Z"
    }
   },
   "outputs": [
    {
     "name": "stdout",
     "output_type": "stream",
     "text": [
      "Whitefield            0.0405\n",
      "Sarjapur  Road        0.0300\n",
      "Electronic City       0.0227\n",
      "Kanakpura Road        0.0205\n",
      "Thanisandra           0.0176\n",
      "                       ...  \n",
      "Chickpet              0.0001\n",
      "Javarandoddi          0.0001\n",
      "Kanakadasa Layout     0.0001\n",
      "West of Chord Road    0.0001\n",
      "NaN                   0.0001\n",
      "Name: location, Length: 1306, dtype: float64\n",
      "There are 1 Nan value in this column.\n"
     ]
    }
   ],
   "source": [
    "print(round(df['location'].value_counts(normalize=True, dropna=False ),4))\n",
    "print(\"There are {} Nan value in this column.\".format(df['location'].isna().sum()))"
   ]
  },
  {
   "cell_type": "markdown",
   "metadata": {},
   "source": [
    "- 1% of of the observation in location column is missing , maybe it should be droped off ?\n",
    "- Data is somewhat balanced"
   ]
  },
  {
   "cell_type": "code",
   "execution_count": 10,
   "metadata": {
    "ExecuteTime": {
     "end_time": "2020-02-09T04:30:48.118283Z",
     "start_time": "2020-02-09T04:30:48.089884Z"
    }
   },
   "outputs": [
    {
     "name": "stdout",
     "output_type": "stream",
     "text": [
      "2 BHK         0.3903\n",
      "3 BHK         0.3236\n",
      "4 Bedroom     0.0620\n",
      "4 BHK         0.0444\n",
      "3 Bedroom     0.0411\n",
      "1 BHK         0.0404\n",
      "2 Bedroom     0.0247\n",
      "5 Bedroom     0.0223\n",
      "6 Bedroom     0.0143\n",
      "1 Bedroom     0.0079\n",
      "8 Bedroom     0.0063\n",
      "7 Bedroom     0.0062\n",
      "5 BHK         0.0044\n",
      "9 Bedroom     0.0035\n",
      "6 BHK         0.0023\n",
      "7 BHK         0.0013\n",
      "NaN           0.0012\n",
      "1 RK          0.0010\n",
      "10 Bedroom    0.0009\n",
      "9 BHK         0.0006\n",
      "8 BHK         0.0004\n",
      "11 Bedroom    0.0002\n",
      "10 BHK        0.0002\n",
      "11 BHK        0.0002\n",
      "13 BHK        0.0001\n",
      "14 BHK        0.0001\n",
      "19 BHK        0.0001\n",
      "12 Bedroom    0.0001\n",
      "43 Bedroom    0.0001\n",
      "16 BHK        0.0001\n",
      "27 BHK        0.0001\n",
      "18 Bedroom    0.0001\n",
      "Name: size, dtype: float64\n",
      "There are 16 Nan value in this column.\n"
     ]
    }
   ],
   "source": [
    "print(round(df['size'].value_counts(normalize=True, dropna=False ),4))\n",
    "print(\"There are {} Nan value in this column.\".format(df['size'].isna().sum()))"
   ]
  },
  {
   "cell_type": "markdown",
   "metadata": {},
   "source": [
    "- 0.1% of of the observation in size column is missing , What should be done with it.\n",
    "- Data seems to be balanced.\n",
    "- **is 2 bedrom = 2BHK ?**"
   ]
  },
  {
   "cell_type": "code",
   "execution_count": 11,
   "metadata": {
    "ExecuteTime": {
     "end_time": "2020-02-09T04:30:48.150848Z",
     "start_time": "2020-02-09T04:30:48.120881Z"
    }
   },
   "outputs": [
    {
     "name": "stdout",
     "output_type": "stream",
     "text": [
      "NaN        0.41\n",
      "GrrvaGr    0.01\n",
      "PrarePa    0.01\n",
      "Sryalan    0.00\n",
      "Prtates    0.00\n",
      "           ... \n",
      "LuncyRe    0.00\n",
      "Satanan    0.00\n",
      "Cedusy     0.00\n",
      "NCenega    0.00\n",
      "Bebalrk    0.00\n",
      "Name: society, Length: 2689, dtype: float64\n",
      "There are 5502 Nan value in this column.\n"
     ]
    }
   ],
   "source": [
    "print(round(df['society'].value_counts(normalize=True, dropna=False ),2))\n",
    "print(\"There are {} Nan value in this column.\".format(df['society'].isna().sum()))"
   ]
  },
  {
   "cell_type": "markdown",
   "metadata": {},
   "source": [
    "- **40% of of the observation in society column is missing which is really big**"
   ]
  },
  {
   "cell_type": "code",
   "execution_count": 12,
   "metadata": {
    "ExecuteTime": {
     "end_time": "2020-02-09T04:30:48.181008Z",
     "start_time": "2020-02-09T04:30:48.153428Z"
    }
   },
   "outputs": [
    {
     "name": "stdout",
     "output_type": "stream",
     "text": [
      "2.0     0.52\n",
      "3.0     0.25\n",
      "4.0     0.09\n",
      "1.0     0.06\n",
      "5.0     0.04\n",
      "6.0     0.02\n",
      "7.0     0.01\n",
      "NaN     0.01\n",
      "8.0     0.00\n",
      "9.0     0.00\n",
      "10.0    0.00\n",
      "12.0    0.00\n",
      "11.0    0.00\n",
      "13.0    0.00\n",
      "16.0    0.00\n",
      "18.0    0.00\n",
      "14.0    0.00\n",
      "40.0    0.00\n",
      "15.0    0.00\n",
      "27.0    0.00\n",
      "Name: bath, dtype: float64\n",
      "There are 73 Nan value in this column.\n"
     ]
    }
   ],
   "source": [
    "print(round(df['bath'].value_counts(normalize=True, dropna=False ),2))\n",
    "print(\"There are {} Nan value in this column.\".format(df['bath'].isna().sum()))"
   ]
  },
  {
   "cell_type": "markdown",
   "metadata": {},
   "source": [
    "- 0.1% of of the observation in size column is missing , What should be done with it.\n",
    "    - **replace with values of median of the same group**"
   ]
  },
  {
   "cell_type": "code",
   "execution_count": 13,
   "metadata": {
    "ExecuteTime": {
     "end_time": "2020-02-09T04:30:48.206991Z",
     "start_time": "2020-02-09T04:30:48.187430Z"
    }
   },
   "outputs": [
    {
     "name": "stdout",
     "output_type": "stream",
     "text": [
      "2.0    0.38\n",
      "1.0    0.37\n",
      "3.0    0.13\n",
      "0.0    0.08\n",
      "NaN    0.05\n",
      "Name: balcony, dtype: float64\n",
      "There are 609 Nan value in this column.\n"
     ]
    }
   ],
   "source": [
    "print(round(df['balcony'].value_counts(normalize=True, dropna=False ),2))\n",
    "print(\"There are {} Nan value in this column.\".format(df['balcony'].isna().sum()))"
   ]
  },
  {
   "cell_type": "markdown",
   "metadata": {},
   "source": [
    "- 0.1% of of the observation in size column is missing , What should be done with it.\n",
    "    - **replace with values of median of the same group**"
   ]
  },
  {
   "cell_type": "code",
   "execution_count": 14,
   "metadata": {
    "ExecuteTime": {
     "end_time": "2020-02-09T04:30:48.282659Z",
     "start_time": "2020-02-09T04:30:48.210987Z"
    }
   },
   "outputs": [
    {
     "data": {
      "text/html": [
       "<div>\n",
       "<style scoped>\n",
       "    .dataframe tbody tr th:only-of-type {\n",
       "        vertical-align: middle;\n",
       "    }\n",
       "\n",
       "    .dataframe tbody tr th {\n",
       "        vertical-align: top;\n",
       "    }\n",
       "\n",
       "    .dataframe thead th {\n",
       "        text-align: right;\n",
       "    }\n",
       "</style>\n",
       "<table border=\"1\" class=\"dataframe\">\n",
       "  <thead>\n",
       "    <tr style=\"text-align: right;\">\n",
       "      <th></th>\n",
       "      <th>bath</th>\n",
       "      <th>balcony</th>\n",
       "      <th>price</th>\n",
       "    </tr>\n",
       "  </thead>\n",
       "  <tbody>\n",
       "    <tr>\n",
       "      <td>count</td>\n",
       "      <td>13247.000000</td>\n",
       "      <td>12711.000000</td>\n",
       "      <td>13320.000000</td>\n",
       "    </tr>\n",
       "    <tr>\n",
       "      <td>mean</td>\n",
       "      <td>2.692610</td>\n",
       "      <td>1.584376</td>\n",
       "      <td>112.565627</td>\n",
       "    </tr>\n",
       "    <tr>\n",
       "      <td>std</td>\n",
       "      <td>1.341458</td>\n",
       "      <td>0.817263</td>\n",
       "      <td>148.971674</td>\n",
       "    </tr>\n",
       "    <tr>\n",
       "      <td>min</td>\n",
       "      <td>1.000000</td>\n",
       "      <td>0.000000</td>\n",
       "      <td>8.000000</td>\n",
       "    </tr>\n",
       "    <tr>\n",
       "      <td>25%</td>\n",
       "      <td>2.000000</td>\n",
       "      <td>1.000000</td>\n",
       "      <td>50.000000</td>\n",
       "    </tr>\n",
       "    <tr>\n",
       "      <td>50%</td>\n",
       "      <td>2.000000</td>\n",
       "      <td>2.000000</td>\n",
       "      <td>72.000000</td>\n",
       "    </tr>\n",
       "    <tr>\n",
       "      <td>75%</td>\n",
       "      <td>3.000000</td>\n",
       "      <td>2.000000</td>\n",
       "      <td>120.000000</td>\n",
       "    </tr>\n",
       "    <tr>\n",
       "      <td>max</td>\n",
       "      <td>40.000000</td>\n",
       "      <td>3.000000</td>\n",
       "      <td>3600.000000</td>\n",
       "    </tr>\n",
       "  </tbody>\n",
       "</table>\n",
       "</div>"
      ],
      "text/plain": [
       "               bath       balcony         price\n",
       "count  13247.000000  12711.000000  13320.000000\n",
       "mean       2.692610      1.584376    112.565627\n",
       "std        1.341458      0.817263    148.971674\n",
       "min        1.000000      0.000000      8.000000\n",
       "25%        2.000000      1.000000     50.000000\n",
       "50%        2.000000      2.000000     72.000000\n",
       "75%        3.000000      2.000000    120.000000\n",
       "max       40.000000      3.000000   3600.000000"
      ]
     },
     "execution_count": 14,
     "metadata": {},
     "output_type": "execute_result"
    }
   ],
   "source": [
    "df.describe()"
   ]
  },
  {
   "cell_type": "markdown",
   "metadata": {},
   "source": [
    "Based on the **uncleaned and explored data**:\n",
    "- bath seems to be skewed to the right\n",
    "- balcony seems to be skewed to the left\n",
    "- pirce seems to be heavily skewed to the right"
   ]
  },
  {
   "cell_type": "markdown",
   "metadata": {},
   "source": [
    "## Dealing with NaNs"
   ]
  },
  {
   "cell_type": "markdown",
   "metadata": {},
   "source": [
    "### Location"
   ]
  },
  {
   "cell_type": "code",
   "execution_count": 15,
   "metadata": {
    "ExecuteTime": {
     "end_time": "2020-02-09T04:30:48.325902Z",
     "start_time": "2020-02-09T04:30:48.286543Z"
    }
   },
   "outputs": [
    {
     "name": "stdout",
     "output_type": "stream",
     "text": [
      "<class 'pandas.core.frame.DataFrame'>\n",
      "RangeIndex: 13320 entries, 0 to 13319\n",
      "Data columns (total 9 columns):\n",
      "area_type       13320 non-null object\n",
      "availability    13320 non-null object\n",
      "location        13319 non-null object\n",
      "size            13304 non-null object\n",
      "society         7818 non-null object\n",
      "total_sqft      13320 non-null object\n",
      "bath            13247 non-null float64\n",
      "balcony         12711 non-null float64\n",
      "price           13320 non-null float64\n",
      "dtypes: float64(3), object(6)\n",
      "memory usage: 936.7+ KB\n"
     ]
    }
   ],
   "source": [
    "df.info()"
   ]
  },
  {
   "cell_type": "code",
   "execution_count": 16,
   "metadata": {
    "ExecuteTime": {
     "end_time": "2020-02-09T04:30:48.374525Z",
     "start_time": "2020-02-09T04:30:48.329843Z"
    }
   },
   "outputs": [
    {
     "data": {
      "text/html": [
       "<div>\n",
       "<style scoped>\n",
       "    .dataframe tbody tr th:only-of-type {\n",
       "        vertical-align: middle;\n",
       "    }\n",
       "\n",
       "    .dataframe tbody tr th {\n",
       "        vertical-align: top;\n",
       "    }\n",
       "\n",
       "    .dataframe thead th {\n",
       "        text-align: right;\n",
       "    }\n",
       "</style>\n",
       "<table border=\"1\" class=\"dataframe\">\n",
       "  <thead>\n",
       "    <tr style=\"text-align: right;\">\n",
       "      <th></th>\n",
       "      <th>area_type</th>\n",
       "      <th>availability</th>\n",
       "      <th>location</th>\n",
       "      <th>size</th>\n",
       "      <th>society</th>\n",
       "      <th>total_sqft</th>\n",
       "      <th>bath</th>\n",
       "      <th>balcony</th>\n",
       "      <th>price</th>\n",
       "    </tr>\n",
       "  </thead>\n",
       "  <tbody>\n",
       "    <tr>\n",
       "      <td>568</td>\n",
       "      <td>Super built-up  Area</td>\n",
       "      <td>Ready To Move</td>\n",
       "      <td>NaN</td>\n",
       "      <td>3 BHK</td>\n",
       "      <td>Grare S</td>\n",
       "      <td>1600</td>\n",
       "      <td>3.0</td>\n",
       "      <td>2.0</td>\n",
       "      <td>86.0</td>\n",
       "    </tr>\n",
       "  </tbody>\n",
       "</table>\n",
       "</div>"
      ],
      "text/plain": [
       "                area_type   availability location   size  society total_sqft  \\\n",
       "568  Super built-up  Area  Ready To Move      NaN  3 BHK  Grare S       1600   \n",
       "\n",
       "     bath  balcony  price  \n",
       "568   3.0      2.0   86.0  "
      ]
     },
     "execution_count": 16,
     "metadata": {},
     "output_type": "execute_result"
    }
   ],
   "source": [
    "df[df['location'].isna()]"
   ]
  },
  {
   "cell_type": "code",
   "execution_count": 17,
   "metadata": {
    "ExecuteTime": {
     "end_time": "2020-02-09T04:30:48.418050Z",
     "start_time": "2020-02-09T04:30:48.375843Z"
    }
   },
   "outputs": [
    {
     "data": {
      "text/html": [
       "<div>\n",
       "<style scoped>\n",
       "    .dataframe tbody tr th:only-of-type {\n",
       "        vertical-align: middle;\n",
       "    }\n",
       "\n",
       "    .dataframe tbody tr th {\n",
       "        vertical-align: top;\n",
       "    }\n",
       "\n",
       "    .dataframe thead th {\n",
       "        text-align: right;\n",
       "    }\n",
       "</style>\n",
       "<table border=\"1\" class=\"dataframe\">\n",
       "  <thead>\n",
       "    <tr style=\"text-align: right;\">\n",
       "      <th></th>\n",
       "      <th>area_type</th>\n",
       "      <th>availability</th>\n",
       "      <th>location</th>\n",
       "      <th>size</th>\n",
       "      <th>society</th>\n",
       "      <th>total_sqft</th>\n",
       "      <th>bath</th>\n",
       "      <th>balcony</th>\n",
       "      <th>price</th>\n",
       "    </tr>\n",
       "  </thead>\n",
       "  <tbody>\n",
       "    <tr>\n",
       "      <td>568</td>\n",
       "      <td>Super built-up  Area</td>\n",
       "      <td>Ready To Move</td>\n",
       "      <td>NaN</td>\n",
       "      <td>3 BHK</td>\n",
       "      <td>Grare S</td>\n",
       "      <td>1600</td>\n",
       "      <td>3.0</td>\n",
       "      <td>2.0</td>\n",
       "      <td>86.0</td>\n",
       "    </tr>\n",
       "    <tr>\n",
       "      <td>12238</td>\n",
       "      <td>Carpet  Area</td>\n",
       "      <td>Ready To Move</td>\n",
       "      <td>Anantapura</td>\n",
       "      <td>3 BHK</td>\n",
       "      <td>Grare S</td>\n",
       "      <td>1600</td>\n",
       "      <td>3.0</td>\n",
       "      <td>2.0</td>\n",
       "      <td>77.0</td>\n",
       "    </tr>\n",
       "  </tbody>\n",
       "</table>\n",
       "</div>"
      ],
      "text/plain": [
       "                  area_type   availability    location   size  society  \\\n",
       "568    Super built-up  Area  Ready To Move         NaN  3 BHK  Grare S   \n",
       "12238          Carpet  Area  Ready To Move  Anantapura  3 BHK  Grare S   \n",
       "\n",
       "      total_sqft  bath  balcony  price  \n",
       "568         1600   3.0      2.0   86.0  \n",
       "12238       1600   3.0      2.0   77.0  "
      ]
     },
     "execution_count": 17,
     "metadata": {},
     "output_type": "execute_result"
    }
   ],
   "source": [
    "df[df['society']==\"Grare S\"]"
   ]
  },
  {
   "cell_type": "code",
   "execution_count": 18,
   "metadata": {
    "ExecuteTime": {
     "end_time": "2020-02-09T04:30:48.474137Z",
     "start_time": "2020-02-09T04:30:48.430139Z"
    }
   },
   "outputs": [
    {
     "data": {
      "text/html": [
       "<div>\n",
       "<style scoped>\n",
       "    .dataframe tbody tr th:only-of-type {\n",
       "        vertical-align: middle;\n",
       "    }\n",
       "\n",
       "    .dataframe tbody tr th {\n",
       "        vertical-align: top;\n",
       "    }\n",
       "\n",
       "    .dataframe thead th {\n",
       "        text-align: right;\n",
       "    }\n",
       "</style>\n",
       "<table border=\"1\" class=\"dataframe\">\n",
       "  <thead>\n",
       "    <tr style=\"text-align: right;\">\n",
       "      <th></th>\n",
       "      <th>area_type</th>\n",
       "      <th>availability</th>\n",
       "      <th>location</th>\n",
       "      <th>size</th>\n",
       "      <th>society</th>\n",
       "      <th>total_sqft</th>\n",
       "      <th>bath</th>\n",
       "      <th>balcony</th>\n",
       "      <th>price</th>\n",
       "    </tr>\n",
       "  </thead>\n",
       "  <tbody>\n",
       "    <tr>\n",
       "      <td>3956</td>\n",
       "      <td>Built-up  Area</td>\n",
       "      <td>Ready To Move</td>\n",
       "      <td>Raja Rajeshwari Nagar</td>\n",
       "      <td>2 BHK</td>\n",
       "      <td>Mahla T</td>\n",
       "      <td>1023</td>\n",
       "      <td>2.0</td>\n",
       "      <td>2.0</td>\n",
       "      <td>42.0</td>\n",
       "    </tr>\n",
       "    <tr>\n",
       "      <td>13317</td>\n",
       "      <td>Built-up  Area</td>\n",
       "      <td>Ready To Move</td>\n",
       "      <td>Raja Rajeshwari Nagar</td>\n",
       "      <td>2 BHK</td>\n",
       "      <td>Mahla T</td>\n",
       "      <td>1141</td>\n",
       "      <td>2.0</td>\n",
       "      <td>1.0</td>\n",
       "      <td>60.0</td>\n",
       "    </tr>\n",
       "  </tbody>\n",
       "</table>\n",
       "</div>"
      ],
      "text/plain": [
       "            area_type   availability               location   size  society  \\\n",
       "3956   Built-up  Area  Ready To Move  Raja Rajeshwari Nagar  2 BHK  Mahla T   \n",
       "13317  Built-up  Area  Ready To Move  Raja Rajeshwari Nagar  2 BHK  Mahla T   \n",
       "\n",
       "      total_sqft  bath  balcony  price  \n",
       "3956        1023   2.0      2.0   42.0  \n",
       "13317       1141   2.0      1.0   60.0  "
      ]
     },
     "execution_count": 18,
     "metadata": {},
     "output_type": "execute_result"
    }
   ],
   "source": [
    "# is society and location are releated ? it seems like they both means the same thing! collinearity?\n",
    "df[df['society']==\"Mahla T\"].head(5)"
   ]
  },
  {
   "cell_type": "code",
   "execution_count": 19,
   "metadata": {
    "ExecuteTime": {
     "end_time": "2020-02-09T04:30:48.509619Z",
     "start_time": "2020-02-09T04:30:48.482136Z"
    }
   },
   "outputs": [
    {
     "data": {
      "text/plain": [
       "GrrvaGr    80\n",
       "Prllsan     9\n",
       "NaonySy     5\n",
       "GRvanun     3\n",
       "Lancyey     3\n",
       "Neess P     2\n",
       "Vaw 1il     2\n",
       "i1rtsCo     2\n",
       "Mahla T     2\n",
       "DwntsAp     2\n",
       "Dehts H     2\n",
       "Deade A     1\n",
       "Nencei      1\n",
       "7 ise P     1\n",
       "Vaderla     1\n",
       "Cee 2du     1\n",
       "SGandea     1\n",
       "Lancy R     1\n",
       "Avlya A     1\n",
       "Spensas     1\n",
       "AcisePa     1\n",
       "ChionCo     1\n",
       "Avlls H     1\n",
       "Elleyt      1\n",
       "Sithand     1\n",
       "Shmai D     1\n",
       "DScon S     1\n",
       "Cedusy      1\n",
       "PrrvaPl     1\n",
       "Tentsw      1\n",
       "MaaveDu     1\n",
       "Keave E     1\n",
       "Ely 3Em     1\n",
       "Arnis A     1\n",
       "Name: society, dtype: int64"
      ]
     },
     "execution_count": 19,
     "metadata": {},
     "output_type": "execute_result"
    }
   ],
   "source": [
    "#lets investigate more, seems not, a location could have multipal different societies!\n",
    "df[df['location']==\"Raja Rajeshwari Nagar\"].society.value_counts()"
   ]
  },
  {
   "cell_type": "code",
   "execution_count": 20,
   "metadata": {
    "ExecuteTime": {
     "end_time": "2020-02-09T04:30:48.527101Z",
     "start_time": "2020-02-09T04:30:48.513555Z"
    }
   },
   "outputs": [
    {
     "name": "stderr",
     "output_type": "stream",
     "text": [
      "C:\\Users\\ajoor\\Anaconda3\\lib\\site-packages\\ipykernel_launcher.py:1: SettingWithCopyWarning: \n",
      "A value is trying to be set on a copy of a slice from a DataFrame\n",
      "\n",
      "See the caveats in the documentation: http://pandas.pydata.org/pandas-docs/stable/user_guide/indexing.html#returning-a-view-versus-a-copy\n",
      "  \"\"\"Entry point for launching an IPython kernel.\n"
     ]
    }
   ],
   "source": [
    "df.loc[:,\"location\"][568] = df.loc[:,\"location\"][12238]"
   ]
  },
  {
   "cell_type": "code",
   "execution_count": 21,
   "metadata": {
    "ExecuteTime": {
     "end_time": "2020-02-09T04:30:48.566939Z",
     "start_time": "2020-02-09T04:30:48.531009Z"
    }
   },
   "outputs": [
    {
     "data": {
      "text/html": [
       "<div>\n",
       "<style scoped>\n",
       "    .dataframe tbody tr th:only-of-type {\n",
       "        vertical-align: middle;\n",
       "    }\n",
       "\n",
       "    .dataframe tbody tr th {\n",
       "        vertical-align: top;\n",
       "    }\n",
       "\n",
       "    .dataframe thead th {\n",
       "        text-align: right;\n",
       "    }\n",
       "</style>\n",
       "<table border=\"1\" class=\"dataframe\">\n",
       "  <thead>\n",
       "    <tr style=\"text-align: right;\">\n",
       "      <th></th>\n",
       "      <th>area_type</th>\n",
       "      <th>availability</th>\n",
       "      <th>location</th>\n",
       "      <th>size</th>\n",
       "      <th>society</th>\n",
       "      <th>total_sqft</th>\n",
       "      <th>bath</th>\n",
       "      <th>balcony</th>\n",
       "      <th>price</th>\n",
       "    </tr>\n",
       "  </thead>\n",
       "  <tbody>\n",
       "    <tr>\n",
       "      <td>568</td>\n",
       "      <td>Super built-up  Area</td>\n",
       "      <td>Ready To Move</td>\n",
       "      <td>Anantapura</td>\n",
       "      <td>3 BHK</td>\n",
       "      <td>Grare S</td>\n",
       "      <td>1600</td>\n",
       "      <td>3.0</td>\n",
       "      <td>2.0</td>\n",
       "      <td>86.0</td>\n",
       "    </tr>\n",
       "    <tr>\n",
       "      <td>12238</td>\n",
       "      <td>Carpet  Area</td>\n",
       "      <td>Ready To Move</td>\n",
       "      <td>Anantapura</td>\n",
       "      <td>3 BHK</td>\n",
       "      <td>Grare S</td>\n",
       "      <td>1600</td>\n",
       "      <td>3.0</td>\n",
       "      <td>2.0</td>\n",
       "      <td>77.0</td>\n",
       "    </tr>\n",
       "  </tbody>\n",
       "</table>\n",
       "</div>"
      ],
      "text/plain": [
       "                  area_type   availability    location   size  society  \\\n",
       "568    Super built-up  Area  Ready To Move  Anantapura  3 BHK  Grare S   \n",
       "12238          Carpet  Area  Ready To Move  Anantapura  3 BHK  Grare S   \n",
       "\n",
       "      total_sqft  bath  balcony  price  \n",
       "568         1600   3.0      2.0   86.0  \n",
       "12238       1600   3.0      2.0   77.0  "
      ]
     },
     "execution_count": 21,
     "metadata": {},
     "output_type": "execute_result"
    }
   ],
   "source": [
    "df[df['society']==\"Grare S\"] # it is no longer an Nan value"
   ]
  },
  {
   "cell_type": "markdown",
   "metadata": {},
   "source": [
    "### Size"
   ]
  },
  {
   "cell_type": "code",
   "execution_count": 22,
   "metadata": {
    "ExecuteTime": {
     "end_time": "2020-02-09T04:30:48.603965Z",
     "start_time": "2020-02-09T04:30:48.568693Z"
    }
   },
   "outputs": [
    {
     "data": {
      "text/html": [
       "<div>\n",
       "<style scoped>\n",
       "    .dataframe tbody tr th:only-of-type {\n",
       "        vertical-align: middle;\n",
       "    }\n",
       "\n",
       "    .dataframe tbody tr th {\n",
       "        vertical-align: top;\n",
       "    }\n",
       "\n",
       "    .dataframe thead th {\n",
       "        text-align: right;\n",
       "    }\n",
       "</style>\n",
       "<table border=\"1\" class=\"dataframe\">\n",
       "  <thead>\n",
       "    <tr style=\"text-align: right;\">\n",
       "      <th></th>\n",
       "      <th>area_type</th>\n",
       "      <th>availability</th>\n",
       "      <th>location</th>\n",
       "      <th>size</th>\n",
       "      <th>society</th>\n",
       "      <th>total_sqft</th>\n",
       "      <th>bath</th>\n",
       "      <th>balcony</th>\n",
       "      <th>price</th>\n",
       "    </tr>\n",
       "  </thead>\n",
       "  <tbody>\n",
       "    <tr>\n",
       "      <td>0</td>\n",
       "      <td>Super built-up  Area</td>\n",
       "      <td>19-Dec</td>\n",
       "      <td>Electronic City Phase II</td>\n",
       "      <td>2 BHK</td>\n",
       "      <td>Coomee</td>\n",
       "      <td>1056</td>\n",
       "      <td>2.0</td>\n",
       "      <td>1.0</td>\n",
       "      <td>39.07</td>\n",
       "    </tr>\n",
       "    <tr>\n",
       "      <td>1</td>\n",
       "      <td>Plot  Area</td>\n",
       "      <td>Ready To Move</td>\n",
       "      <td>Chikka Tirupathi</td>\n",
       "      <td>4 Bedroom</td>\n",
       "      <td>Theanmp</td>\n",
       "      <td>2600</td>\n",
       "      <td>5.0</td>\n",
       "      <td>3.0</td>\n",
       "      <td>120.00</td>\n",
       "    </tr>\n",
       "    <tr>\n",
       "      <td>2</td>\n",
       "      <td>Built-up  Area</td>\n",
       "      <td>Ready To Move</td>\n",
       "      <td>Uttarahalli</td>\n",
       "      <td>3 BHK</td>\n",
       "      <td>NaN</td>\n",
       "      <td>1440</td>\n",
       "      <td>2.0</td>\n",
       "      <td>3.0</td>\n",
       "      <td>62.00</td>\n",
       "    </tr>\n",
       "    <tr>\n",
       "      <td>3</td>\n",
       "      <td>Super built-up  Area</td>\n",
       "      <td>Ready To Move</td>\n",
       "      <td>Lingadheeranahalli</td>\n",
       "      <td>3 BHK</td>\n",
       "      <td>Soiewre</td>\n",
       "      <td>1521</td>\n",
       "      <td>3.0</td>\n",
       "      <td>1.0</td>\n",
       "      <td>95.00</td>\n",
       "    </tr>\n",
       "    <tr>\n",
       "      <td>4</td>\n",
       "      <td>Super built-up  Area</td>\n",
       "      <td>Ready To Move</td>\n",
       "      <td>Kothanur</td>\n",
       "      <td>2 BHK</td>\n",
       "      <td>NaN</td>\n",
       "      <td>1200</td>\n",
       "      <td>2.0</td>\n",
       "      <td>1.0</td>\n",
       "      <td>51.00</td>\n",
       "    </tr>\n",
       "  </tbody>\n",
       "</table>\n",
       "</div>"
      ],
      "text/plain": [
       "              area_type   availability                  location       size  \\\n",
       "0  Super built-up  Area         19-Dec  Electronic City Phase II      2 BHK   \n",
       "1            Plot  Area  Ready To Move          Chikka Tirupathi  4 Bedroom   \n",
       "2        Built-up  Area  Ready To Move               Uttarahalli      3 BHK   \n",
       "3  Super built-up  Area  Ready To Move        Lingadheeranahalli      3 BHK   \n",
       "4  Super built-up  Area  Ready To Move                  Kothanur      2 BHK   \n",
       "\n",
       "   society total_sqft  bath  balcony   price  \n",
       "0  Coomee        1056   2.0      1.0   39.07  \n",
       "1  Theanmp       2600   5.0      3.0  120.00  \n",
       "2      NaN       1440   2.0      3.0   62.00  \n",
       "3  Soiewre       1521   3.0      1.0   95.00  \n",
       "4      NaN       1200   2.0      1.0   51.00  "
      ]
     },
     "execution_count": 22,
     "metadata": {},
     "output_type": "execute_result"
    }
   ],
   "source": [
    "df.head()"
   ]
  },
  {
   "cell_type": "code",
   "execution_count": 23,
   "metadata": {
    "ExecuteTime": {
     "end_time": "2020-02-09T04:30:48.633753Z",
     "start_time": "2020-02-09T04:30:48.607992Z"
    }
   },
   "outputs": [
    {
     "name": "stdout",
     "output_type": "stream",
     "text": [
      "<class 'pandas.core.frame.DataFrame'>\n",
      "RangeIndex: 13320 entries, 0 to 13319\n",
      "Data columns (total 9 columns):\n",
      "area_type       13320 non-null object\n",
      "availability    13320 non-null object\n",
      "location        13320 non-null object\n",
      "size            13304 non-null object\n",
      "society         7818 non-null object\n",
      "total_sqft      13320 non-null object\n",
      "bath            13247 non-null float64\n",
      "balcony         12711 non-null float64\n",
      "price           13320 non-null float64\n",
      "dtypes: float64(3), object(6)\n",
      "memory usage: 936.7+ KB\n"
     ]
    }
   ],
   "source": [
    "df.info()"
   ]
  },
  {
   "cell_type": "code",
   "execution_count": 24,
   "metadata": {
    "ExecuteTime": {
     "end_time": "2020-02-09T04:30:48.678070Z",
     "start_time": "2020-02-09T04:30:48.637638Z"
    }
   },
   "outputs": [
    {
     "data": {
      "text/html": [
       "<div>\n",
       "<style scoped>\n",
       "    .dataframe tbody tr th:only-of-type {\n",
       "        vertical-align: middle;\n",
       "    }\n",
       "\n",
       "    .dataframe tbody tr th {\n",
       "        vertical-align: top;\n",
       "    }\n",
       "\n",
       "    .dataframe thead th {\n",
       "        text-align: right;\n",
       "    }\n",
       "</style>\n",
       "<table border=\"1\" class=\"dataframe\">\n",
       "  <thead>\n",
       "    <tr style=\"text-align: right;\">\n",
       "      <th></th>\n",
       "      <th>area_type</th>\n",
       "      <th>availability</th>\n",
       "      <th>location</th>\n",
       "      <th>size</th>\n",
       "      <th>society</th>\n",
       "      <th>total_sqft</th>\n",
       "      <th>bath</th>\n",
       "      <th>balcony</th>\n",
       "      <th>price</th>\n",
       "    </tr>\n",
       "  </thead>\n",
       "  <tbody>\n",
       "    <tr>\n",
       "      <td>579</td>\n",
       "      <td>Plot  Area</td>\n",
       "      <td>Immediate Possession</td>\n",
       "      <td>Sarjapur  Road</td>\n",
       "      <td>NaN</td>\n",
       "      <td>Asiss B</td>\n",
       "      <td>1200 - 2400</td>\n",
       "      <td>NaN</td>\n",
       "      <td>NaN</td>\n",
       "      <td>34.185</td>\n",
       "    </tr>\n",
       "    <tr>\n",
       "      <td>1775</td>\n",
       "      <td>Plot  Area</td>\n",
       "      <td>Immediate Possession</td>\n",
       "      <td>IVC Road</td>\n",
       "      <td>NaN</td>\n",
       "      <td>Orana N</td>\n",
       "      <td>2000 - 5634</td>\n",
       "      <td>NaN</td>\n",
       "      <td>NaN</td>\n",
       "      <td>124.000</td>\n",
       "    </tr>\n",
       "    <tr>\n",
       "      <td>2264</td>\n",
       "      <td>Plot  Area</td>\n",
       "      <td>Immediate Possession</td>\n",
       "      <td>Banashankari</td>\n",
       "      <td>NaN</td>\n",
       "      <td>NaN</td>\n",
       "      <td>2400</td>\n",
       "      <td>NaN</td>\n",
       "      <td>NaN</td>\n",
       "      <td>460.000</td>\n",
       "    </tr>\n",
       "    <tr>\n",
       "      <td>2809</td>\n",
       "      <td>Plot  Area</td>\n",
       "      <td>Immediate Possession</td>\n",
       "      <td>Sarjapur  Road</td>\n",
       "      <td>NaN</td>\n",
       "      <td>AsdiaAr</td>\n",
       "      <td>1200 - 2400</td>\n",
       "      <td>NaN</td>\n",
       "      <td>NaN</td>\n",
       "      <td>28.785</td>\n",
       "    </tr>\n",
       "    <tr>\n",
       "      <td>2862</td>\n",
       "      <td>Plot  Area</td>\n",
       "      <td>Immediate Possession</td>\n",
       "      <td>Devanahalli</td>\n",
       "      <td>NaN</td>\n",
       "      <td>Ajleyor</td>\n",
       "      <td>1500 - 2400</td>\n",
       "      <td>NaN</td>\n",
       "      <td>NaN</td>\n",
       "      <td>46.800</td>\n",
       "    </tr>\n",
       "    <tr>\n",
       "      <td>5333</td>\n",
       "      <td>Plot  Area</td>\n",
       "      <td>Immediate Possession</td>\n",
       "      <td>Devanahalli</td>\n",
       "      <td>NaN</td>\n",
       "      <td>Emngs S</td>\n",
       "      <td>2100 - 5405</td>\n",
       "      <td>NaN</td>\n",
       "      <td>NaN</td>\n",
       "      <td>177.115</td>\n",
       "    </tr>\n",
       "    <tr>\n",
       "      <td>6423</td>\n",
       "      <td>Plot  Area</td>\n",
       "      <td>Immediate Possession</td>\n",
       "      <td>Whitefield</td>\n",
       "      <td>NaN</td>\n",
       "      <td>SRniaGa</td>\n",
       "      <td>2324</td>\n",
       "      <td>NaN</td>\n",
       "      <td>NaN</td>\n",
       "      <td>26.730</td>\n",
       "    </tr>\n",
       "    <tr>\n",
       "      <td>6636</td>\n",
       "      <td>Plot  Area</td>\n",
       "      <td>Immediate Possession</td>\n",
       "      <td>Jigani</td>\n",
       "      <td>NaN</td>\n",
       "      <td>S2enste</td>\n",
       "      <td>1500</td>\n",
       "      <td>NaN</td>\n",
       "      <td>NaN</td>\n",
       "      <td>25.490</td>\n",
       "    </tr>\n",
       "    <tr>\n",
       "      <td>6719</td>\n",
       "      <td>Plot  Area</td>\n",
       "      <td>Immediate Possession</td>\n",
       "      <td>Hoskote</td>\n",
       "      <td>NaN</td>\n",
       "      <td>SJowsn</td>\n",
       "      <td>800 - 2660</td>\n",
       "      <td>NaN</td>\n",
       "      <td>NaN</td>\n",
       "      <td>28.545</td>\n",
       "    </tr>\n",
       "    <tr>\n",
       "      <td>7680</td>\n",
       "      <td>Plot  Area</td>\n",
       "      <td>Immediate Possession</td>\n",
       "      <td>Kasavanhalli</td>\n",
       "      <td>NaN</td>\n",
       "      <td>NaN</td>\n",
       "      <td>5000</td>\n",
       "      <td>NaN</td>\n",
       "      <td>NaN</td>\n",
       "      <td>400.000</td>\n",
       "    </tr>\n",
       "    <tr>\n",
       "      <td>8306</td>\n",
       "      <td>Plot  Area</td>\n",
       "      <td>Immediate Possession</td>\n",
       "      <td>Anekal</td>\n",
       "      <td>NaN</td>\n",
       "      <td>Vaensnd</td>\n",
       "      <td>1453</td>\n",
       "      <td>NaN</td>\n",
       "      <td>NaN</td>\n",
       "      <td>16.500</td>\n",
       "    </tr>\n",
       "    <tr>\n",
       "      <td>8565</td>\n",
       "      <td>Plot  Area</td>\n",
       "      <td>Immediate Possession</td>\n",
       "      <td>Carmelaram</td>\n",
       "      <td>NaN</td>\n",
       "      <td>Ocezes</td>\n",
       "      <td>2000</td>\n",
       "      <td>NaN</td>\n",
       "      <td>NaN</td>\n",
       "      <td>120.000</td>\n",
       "    </tr>\n",
       "    <tr>\n",
       "      <td>8703</td>\n",
       "      <td>Plot  Area</td>\n",
       "      <td>Immediate Possession</td>\n",
       "      <td>Mysore Road</td>\n",
       "      <td>NaN</td>\n",
       "      <td>Naoden</td>\n",
       "      <td>1200 - 2400</td>\n",
       "      <td>NaN</td>\n",
       "      <td>NaN</td>\n",
       "      <td>42.300</td>\n",
       "    </tr>\n",
       "    <tr>\n",
       "      <td>10634</td>\n",
       "      <td>Plot  Area</td>\n",
       "      <td>Immediate Possession</td>\n",
       "      <td>Rajankunte</td>\n",
       "      <td>NaN</td>\n",
       "      <td>NaN</td>\n",
       "      <td>1575</td>\n",
       "      <td>NaN</td>\n",
       "      <td>NaN</td>\n",
       "      <td>31.110</td>\n",
       "    </tr>\n",
       "    <tr>\n",
       "      <td>11019</td>\n",
       "      <td>Plot  Area</td>\n",
       "      <td>Immediate Possession</td>\n",
       "      <td>Yelahanka</td>\n",
       "      <td>NaN</td>\n",
       "      <td>Saaveha</td>\n",
       "      <td>1200 - 1800</td>\n",
       "      <td>NaN</td>\n",
       "      <td>NaN</td>\n",
       "      <td>12.750</td>\n",
       "    </tr>\n",
       "    <tr>\n",
       "      <td>11569</td>\n",
       "      <td>Plot  Area</td>\n",
       "      <td>Immediate Possession</td>\n",
       "      <td>Hosur Road</td>\n",
       "      <td>NaN</td>\n",
       "      <td>AVeldun</td>\n",
       "      <td>1350</td>\n",
       "      <td>NaN</td>\n",
       "      <td>NaN</td>\n",
       "      <td>8.440</td>\n",
       "    </tr>\n",
       "  </tbody>\n",
       "</table>\n",
       "</div>"
      ],
      "text/plain": [
       "        area_type          availability        location size  society  \\\n",
       "579    Plot  Area  Immediate Possession  Sarjapur  Road  NaN  Asiss B   \n",
       "1775   Plot  Area  Immediate Possession        IVC Road  NaN  Orana N   \n",
       "2264   Plot  Area  Immediate Possession    Banashankari  NaN      NaN   \n",
       "2809   Plot  Area  Immediate Possession  Sarjapur  Road  NaN  AsdiaAr   \n",
       "2862   Plot  Area  Immediate Possession     Devanahalli  NaN  Ajleyor   \n",
       "5333   Plot  Area  Immediate Possession     Devanahalli  NaN  Emngs S   \n",
       "6423   Plot  Area  Immediate Possession      Whitefield  NaN  SRniaGa   \n",
       "6636   Plot  Area  Immediate Possession          Jigani  NaN  S2enste   \n",
       "6719   Plot  Area  Immediate Possession         Hoskote  NaN  SJowsn    \n",
       "7680   Plot  Area  Immediate Possession    Kasavanhalli  NaN      NaN   \n",
       "8306   Plot  Area  Immediate Possession          Anekal  NaN  Vaensnd   \n",
       "8565   Plot  Area  Immediate Possession      Carmelaram  NaN  Ocezes    \n",
       "8703   Plot  Area  Immediate Possession     Mysore Road  NaN  Naoden    \n",
       "10634  Plot  Area  Immediate Possession      Rajankunte  NaN      NaN   \n",
       "11019  Plot  Area  Immediate Possession       Yelahanka  NaN  Saaveha   \n",
       "11569  Plot  Area  Immediate Possession      Hosur Road  NaN  AVeldun   \n",
       "\n",
       "        total_sqft  bath  balcony    price  \n",
       "579    1200 - 2400   NaN      NaN   34.185  \n",
       "1775   2000 - 5634   NaN      NaN  124.000  \n",
       "2264          2400   NaN      NaN  460.000  \n",
       "2809   1200 - 2400   NaN      NaN   28.785  \n",
       "2862   1500 - 2400   NaN      NaN   46.800  \n",
       "5333   2100 - 5405   NaN      NaN  177.115  \n",
       "6423          2324   NaN      NaN   26.730  \n",
       "6636          1500   NaN      NaN   25.490  \n",
       "6719    800 - 2660   NaN      NaN   28.545  \n",
       "7680          5000   NaN      NaN  400.000  \n",
       "8306          1453   NaN      NaN   16.500  \n",
       "8565          2000   NaN      NaN  120.000  \n",
       "8703   1200 - 2400   NaN      NaN   42.300  \n",
       "10634         1575   NaN      NaN   31.110  \n",
       "11019  1200 - 1800   NaN      NaN   12.750  \n",
       "11569         1350   NaN      NaN    8.440  "
      ]
     },
     "execution_count": 24,
     "metadata": {},
     "output_type": "execute_result"
    }
   ],
   "source": [
    "df[df['size'].isna()] "
   ]
  },
  {
   "cell_type": "markdown",
   "metadata": {},
   "source": [
    "- Does this mean an empty land ? The meaning of area_type **must be explored** to answer this questions"
   ]
  },
  {
   "cell_type": "markdown",
   "metadata": {},
   "source": [
    "- **Carpet Area:** Carpet area is the actual area you get for use in a housing unit\n",
    "- **Built-Up Area:** Carpet Area + Wall area\n",
    "- **Super Built-Up Area*:** Built-Up Area + common area\n",
    "- **Plot Area:** The area which is surrounded by a boundary line (fencing)"
   ]
  },
  {
   "cell_type": "markdown",
   "metadata": {},
   "source": [
    "- My question is still unanswered, lets explore the rest of data of the type **Plot Area**"
   ]
  },
  {
   "cell_type": "code",
   "execution_count": 25,
   "metadata": {
    "ExecuteTime": {
     "end_time": "2020-02-09T04:30:48.731887Z",
     "start_time": "2020-02-09T04:30:48.682066Z"
    }
   },
   "outputs": [
    {
     "data": {
      "text/html": [
       "<div>\n",
       "<style scoped>\n",
       "    .dataframe tbody tr th:only-of-type {\n",
       "        vertical-align: middle;\n",
       "    }\n",
       "\n",
       "    .dataframe tbody tr th {\n",
       "        vertical-align: top;\n",
       "    }\n",
       "\n",
       "    .dataframe thead th {\n",
       "        text-align: right;\n",
       "    }\n",
       "</style>\n",
       "<table border=\"1\" class=\"dataframe\">\n",
       "  <thead>\n",
       "    <tr style=\"text-align: right;\">\n",
       "      <th></th>\n",
       "      <th>area_type</th>\n",
       "      <th>availability</th>\n",
       "      <th>location</th>\n",
       "      <th>size</th>\n",
       "      <th>society</th>\n",
       "      <th>total_sqft</th>\n",
       "      <th>bath</th>\n",
       "      <th>balcony</th>\n",
       "      <th>price</th>\n",
       "    </tr>\n",
       "  </thead>\n",
       "  <tbody>\n",
       "    <tr>\n",
       "      <td>1</td>\n",
       "      <td>Plot  Area</td>\n",
       "      <td>Ready To Move</td>\n",
       "      <td>Chikka Tirupathi</td>\n",
       "      <td>4 Bedroom</td>\n",
       "      <td>Theanmp</td>\n",
       "      <td>2600</td>\n",
       "      <td>5.0</td>\n",
       "      <td>3.0</td>\n",
       "      <td>120.0</td>\n",
       "    </tr>\n",
       "    <tr>\n",
       "      <td>9</td>\n",
       "      <td>Plot  Area</td>\n",
       "      <td>Ready To Move</td>\n",
       "      <td>Gandhi Bazar</td>\n",
       "      <td>6 Bedroom</td>\n",
       "      <td>NaN</td>\n",
       "      <td>1020</td>\n",
       "      <td>6.0</td>\n",
       "      <td>NaN</td>\n",
       "      <td>370.0</td>\n",
       "    </tr>\n",
       "    <tr>\n",
       "      <td>11</td>\n",
       "      <td>Plot  Area</td>\n",
       "      <td>Ready To Move</td>\n",
       "      <td>Whitefield</td>\n",
       "      <td>4 Bedroom</td>\n",
       "      <td>Prrry M</td>\n",
       "      <td>2785</td>\n",
       "      <td>5.0</td>\n",
       "      <td>3.0</td>\n",
       "      <td>295.0</td>\n",
       "    </tr>\n",
       "    <tr>\n",
       "      <td>14</td>\n",
       "      <td>Plot  Area</td>\n",
       "      <td>Ready To Move</td>\n",
       "      <td>Sarjapur</td>\n",
       "      <td>3 Bedroom</td>\n",
       "      <td>Skityer</td>\n",
       "      <td>2250</td>\n",
       "      <td>3.0</td>\n",
       "      <td>2.0</td>\n",
       "      <td>148.0</td>\n",
       "    </tr>\n",
       "    <tr>\n",
       "      <td>22</td>\n",
       "      <td>Plot  Area</td>\n",
       "      <td>Ready To Move</td>\n",
       "      <td>Thanisandra</td>\n",
       "      <td>4 Bedroom</td>\n",
       "      <td>Soitya</td>\n",
       "      <td>2800</td>\n",
       "      <td>5.0</td>\n",
       "      <td>2.0</td>\n",
       "      <td>380.0</td>\n",
       "    </tr>\n",
       "    <tr>\n",
       "      <td>...</td>\n",
       "      <td>...</td>\n",
       "      <td>...</td>\n",
       "      <td>...</td>\n",
       "      <td>...</td>\n",
       "      <td>...</td>\n",
       "      <td>...</td>\n",
       "      <td>...</td>\n",
       "      <td>...</td>\n",
       "      <td>...</td>\n",
       "    </tr>\n",
       "    <tr>\n",
       "      <td>13291</td>\n",
       "      <td>Plot  Area</td>\n",
       "      <td>18-Jan</td>\n",
       "      <td>Weavers Colony</td>\n",
       "      <td>1 Bedroom</td>\n",
       "      <td>NaN</td>\n",
       "      <td>812</td>\n",
       "      <td>1.0</td>\n",
       "      <td>0.0</td>\n",
       "      <td>26.0</td>\n",
       "    </tr>\n",
       "    <tr>\n",
       "      <td>13300</td>\n",
       "      <td>Plot  Area</td>\n",
       "      <td>Ready To Move</td>\n",
       "      <td>Hosakerehalli</td>\n",
       "      <td>5 Bedroom</td>\n",
       "      <td>NaN</td>\n",
       "      <td>1500</td>\n",
       "      <td>6.0</td>\n",
       "      <td>2.0</td>\n",
       "      <td>145.0</td>\n",
       "    </tr>\n",
       "    <tr>\n",
       "      <td>13303</td>\n",
       "      <td>Plot  Area</td>\n",
       "      <td>Ready To Move</td>\n",
       "      <td>Vidyaranyapura</td>\n",
       "      <td>5 Bedroom</td>\n",
       "      <td>NaN</td>\n",
       "      <td>774</td>\n",
       "      <td>5.0</td>\n",
       "      <td>3.0</td>\n",
       "      <td>70.0</td>\n",
       "    </tr>\n",
       "    <tr>\n",
       "      <td>13306</td>\n",
       "      <td>Plot  Area</td>\n",
       "      <td>Ready To Move</td>\n",
       "      <td>Rajarajeshwari Nagara</td>\n",
       "      <td>4 Bedroom</td>\n",
       "      <td>NaN</td>\n",
       "      <td>1200</td>\n",
       "      <td>5.0</td>\n",
       "      <td>NaN</td>\n",
       "      <td>325.0</td>\n",
       "    </tr>\n",
       "    <tr>\n",
       "      <td>13311</td>\n",
       "      <td>Plot  Area</td>\n",
       "      <td>Ready To Move</td>\n",
       "      <td>Ramamurthy Nagar</td>\n",
       "      <td>7 Bedroom</td>\n",
       "      <td>NaN</td>\n",
       "      <td>1500</td>\n",
       "      <td>9.0</td>\n",
       "      <td>2.0</td>\n",
       "      <td>250.0</td>\n",
       "    </tr>\n",
       "  </tbody>\n",
       "</table>\n",
       "<p>2025 rows × 9 columns</p>\n",
       "</div>"
      ],
      "text/plain": [
       "        area_type   availability               location       size  society  \\\n",
       "1      Plot  Area  Ready To Move       Chikka Tirupathi  4 Bedroom  Theanmp   \n",
       "9      Plot  Area  Ready To Move           Gandhi Bazar  6 Bedroom      NaN   \n",
       "11     Plot  Area  Ready To Move             Whitefield  4 Bedroom  Prrry M   \n",
       "14     Plot  Area  Ready To Move               Sarjapur  3 Bedroom  Skityer   \n",
       "22     Plot  Area  Ready To Move            Thanisandra  4 Bedroom  Soitya    \n",
       "...           ...            ...                    ...        ...      ...   \n",
       "13291  Plot  Area         18-Jan         Weavers Colony  1 Bedroom      NaN   \n",
       "13300  Plot  Area  Ready To Move          Hosakerehalli  5 Bedroom      NaN   \n",
       "13303  Plot  Area  Ready To Move         Vidyaranyapura  5 Bedroom      NaN   \n",
       "13306  Plot  Area  Ready To Move  Rajarajeshwari Nagara  4 Bedroom      NaN   \n",
       "13311  Plot  Area  Ready To Move       Ramamurthy Nagar  7 Bedroom      NaN   \n",
       "\n",
       "      total_sqft  bath  balcony  price  \n",
       "1           2600   5.0      3.0  120.0  \n",
       "9           1020   6.0      NaN  370.0  \n",
       "11          2785   5.0      3.0  295.0  \n",
       "14          2250   3.0      2.0  148.0  \n",
       "22          2800   5.0      2.0  380.0  \n",
       "...          ...   ...      ...    ...  \n",
       "13291        812   1.0      0.0   26.0  \n",
       "13300       1500   6.0      2.0  145.0  \n",
       "13303        774   5.0      3.0   70.0  \n",
       "13306       1200   5.0      NaN  325.0  \n",
       "13311       1500   9.0      2.0  250.0  \n",
       "\n",
       "[2025 rows x 9 columns]"
      ]
     },
     "execution_count": 25,
     "metadata": {},
     "output_type": "execute_result"
    }
   ],
   "source": [
    "df[df['area_type']=='Plot  Area']\n",
    "# it seems it, it is only refering to the area (how it is calculated)"
   ]
  },
  {
   "cell_type": "code",
   "execution_count": 26,
   "metadata": {
    "ExecuteTime": {
     "end_time": "2020-02-09T04:30:48.782163Z",
     "start_time": "2020-02-09T04:30:48.735854Z"
    }
   },
   "outputs": [
    {
     "data": {
      "text/html": [
       "<div>\n",
       "<style scoped>\n",
       "    .dataframe tbody tr th:only-of-type {\n",
       "        vertical-align: middle;\n",
       "    }\n",
       "\n",
       "    .dataframe tbody tr th {\n",
       "        vertical-align: top;\n",
       "    }\n",
       "\n",
       "    .dataframe thead th {\n",
       "        text-align: right;\n",
       "    }\n",
       "</style>\n",
       "<table border=\"1\" class=\"dataframe\">\n",
       "  <thead>\n",
       "    <tr style=\"text-align: right;\">\n",
       "      <th></th>\n",
       "      <th>area_type</th>\n",
       "      <th>availability</th>\n",
       "      <th>location</th>\n",
       "      <th>size</th>\n",
       "      <th>society</th>\n",
       "      <th>total_sqft</th>\n",
       "      <th>bath</th>\n",
       "      <th>balcony</th>\n",
       "      <th>price</th>\n",
       "    </tr>\n",
       "  </thead>\n",
       "  <tbody>\n",
       "    <tr>\n",
       "      <td>579</td>\n",
       "      <td>Plot  Area</td>\n",
       "      <td>Immediate Possession</td>\n",
       "      <td>Sarjapur  Road</td>\n",
       "      <td>NaN</td>\n",
       "      <td>Asiss B</td>\n",
       "      <td>1200 - 2400</td>\n",
       "      <td>NaN</td>\n",
       "      <td>NaN</td>\n",
       "      <td>34.185</td>\n",
       "    </tr>\n",
       "    <tr>\n",
       "      <td>1775</td>\n",
       "      <td>Plot  Area</td>\n",
       "      <td>Immediate Possession</td>\n",
       "      <td>IVC Road</td>\n",
       "      <td>NaN</td>\n",
       "      <td>Orana N</td>\n",
       "      <td>2000 - 5634</td>\n",
       "      <td>NaN</td>\n",
       "      <td>NaN</td>\n",
       "      <td>124.000</td>\n",
       "    </tr>\n",
       "    <tr>\n",
       "      <td>2264</td>\n",
       "      <td>Plot  Area</td>\n",
       "      <td>Immediate Possession</td>\n",
       "      <td>Banashankari</td>\n",
       "      <td>NaN</td>\n",
       "      <td>NaN</td>\n",
       "      <td>2400</td>\n",
       "      <td>NaN</td>\n",
       "      <td>NaN</td>\n",
       "      <td>460.000</td>\n",
       "    </tr>\n",
       "    <tr>\n",
       "      <td>2809</td>\n",
       "      <td>Plot  Area</td>\n",
       "      <td>Immediate Possession</td>\n",
       "      <td>Sarjapur  Road</td>\n",
       "      <td>NaN</td>\n",
       "      <td>AsdiaAr</td>\n",
       "      <td>1200 - 2400</td>\n",
       "      <td>NaN</td>\n",
       "      <td>NaN</td>\n",
       "      <td>28.785</td>\n",
       "    </tr>\n",
       "    <tr>\n",
       "      <td>2862</td>\n",
       "      <td>Plot  Area</td>\n",
       "      <td>Immediate Possession</td>\n",
       "      <td>Devanahalli</td>\n",
       "      <td>NaN</td>\n",
       "      <td>Ajleyor</td>\n",
       "      <td>1500 - 2400</td>\n",
       "      <td>NaN</td>\n",
       "      <td>NaN</td>\n",
       "      <td>46.800</td>\n",
       "    </tr>\n",
       "    <tr>\n",
       "      <td>5333</td>\n",
       "      <td>Plot  Area</td>\n",
       "      <td>Immediate Possession</td>\n",
       "      <td>Devanahalli</td>\n",
       "      <td>NaN</td>\n",
       "      <td>Emngs S</td>\n",
       "      <td>2100 - 5405</td>\n",
       "      <td>NaN</td>\n",
       "      <td>NaN</td>\n",
       "      <td>177.115</td>\n",
       "    </tr>\n",
       "    <tr>\n",
       "      <td>6423</td>\n",
       "      <td>Plot  Area</td>\n",
       "      <td>Immediate Possession</td>\n",
       "      <td>Whitefield</td>\n",
       "      <td>NaN</td>\n",
       "      <td>SRniaGa</td>\n",
       "      <td>2324</td>\n",
       "      <td>NaN</td>\n",
       "      <td>NaN</td>\n",
       "      <td>26.730</td>\n",
       "    </tr>\n",
       "    <tr>\n",
       "      <td>6636</td>\n",
       "      <td>Plot  Area</td>\n",
       "      <td>Immediate Possession</td>\n",
       "      <td>Jigani</td>\n",
       "      <td>NaN</td>\n",
       "      <td>S2enste</td>\n",
       "      <td>1500</td>\n",
       "      <td>NaN</td>\n",
       "      <td>NaN</td>\n",
       "      <td>25.490</td>\n",
       "    </tr>\n",
       "    <tr>\n",
       "      <td>6719</td>\n",
       "      <td>Plot  Area</td>\n",
       "      <td>Immediate Possession</td>\n",
       "      <td>Hoskote</td>\n",
       "      <td>NaN</td>\n",
       "      <td>SJowsn</td>\n",
       "      <td>800 - 2660</td>\n",
       "      <td>NaN</td>\n",
       "      <td>NaN</td>\n",
       "      <td>28.545</td>\n",
       "    </tr>\n",
       "    <tr>\n",
       "      <td>7680</td>\n",
       "      <td>Plot  Area</td>\n",
       "      <td>Immediate Possession</td>\n",
       "      <td>Kasavanhalli</td>\n",
       "      <td>NaN</td>\n",
       "      <td>NaN</td>\n",
       "      <td>5000</td>\n",
       "      <td>NaN</td>\n",
       "      <td>NaN</td>\n",
       "      <td>400.000</td>\n",
       "    </tr>\n",
       "    <tr>\n",
       "      <td>8306</td>\n",
       "      <td>Plot  Area</td>\n",
       "      <td>Immediate Possession</td>\n",
       "      <td>Anekal</td>\n",
       "      <td>NaN</td>\n",
       "      <td>Vaensnd</td>\n",
       "      <td>1453</td>\n",
       "      <td>NaN</td>\n",
       "      <td>NaN</td>\n",
       "      <td>16.500</td>\n",
       "    </tr>\n",
       "    <tr>\n",
       "      <td>8565</td>\n",
       "      <td>Plot  Area</td>\n",
       "      <td>Immediate Possession</td>\n",
       "      <td>Carmelaram</td>\n",
       "      <td>NaN</td>\n",
       "      <td>Ocezes</td>\n",
       "      <td>2000</td>\n",
       "      <td>NaN</td>\n",
       "      <td>NaN</td>\n",
       "      <td>120.000</td>\n",
       "    </tr>\n",
       "    <tr>\n",
       "      <td>8703</td>\n",
       "      <td>Plot  Area</td>\n",
       "      <td>Immediate Possession</td>\n",
       "      <td>Mysore Road</td>\n",
       "      <td>NaN</td>\n",
       "      <td>Naoden</td>\n",
       "      <td>1200 - 2400</td>\n",
       "      <td>NaN</td>\n",
       "      <td>NaN</td>\n",
       "      <td>42.300</td>\n",
       "    </tr>\n",
       "    <tr>\n",
       "      <td>10634</td>\n",
       "      <td>Plot  Area</td>\n",
       "      <td>Immediate Possession</td>\n",
       "      <td>Rajankunte</td>\n",
       "      <td>NaN</td>\n",
       "      <td>NaN</td>\n",
       "      <td>1575</td>\n",
       "      <td>NaN</td>\n",
       "      <td>NaN</td>\n",
       "      <td>31.110</td>\n",
       "    </tr>\n",
       "    <tr>\n",
       "      <td>11019</td>\n",
       "      <td>Plot  Area</td>\n",
       "      <td>Immediate Possession</td>\n",
       "      <td>Yelahanka</td>\n",
       "      <td>NaN</td>\n",
       "      <td>Saaveha</td>\n",
       "      <td>1200 - 1800</td>\n",
       "      <td>NaN</td>\n",
       "      <td>NaN</td>\n",
       "      <td>12.750</td>\n",
       "    </tr>\n",
       "    <tr>\n",
       "      <td>11569</td>\n",
       "      <td>Plot  Area</td>\n",
       "      <td>Immediate Possession</td>\n",
       "      <td>Hosur Road</td>\n",
       "      <td>NaN</td>\n",
       "      <td>AVeldun</td>\n",
       "      <td>1350</td>\n",
       "      <td>NaN</td>\n",
       "      <td>NaN</td>\n",
       "      <td>8.440</td>\n",
       "    </tr>\n",
       "  </tbody>\n",
       "</table>\n",
       "</div>"
      ],
      "text/plain": [
       "        area_type          availability        location size  society  \\\n",
       "579    Plot  Area  Immediate Possession  Sarjapur  Road  NaN  Asiss B   \n",
       "1775   Plot  Area  Immediate Possession        IVC Road  NaN  Orana N   \n",
       "2264   Plot  Area  Immediate Possession    Banashankari  NaN      NaN   \n",
       "2809   Plot  Area  Immediate Possession  Sarjapur  Road  NaN  AsdiaAr   \n",
       "2862   Plot  Area  Immediate Possession     Devanahalli  NaN  Ajleyor   \n",
       "5333   Plot  Area  Immediate Possession     Devanahalli  NaN  Emngs S   \n",
       "6423   Plot  Area  Immediate Possession      Whitefield  NaN  SRniaGa   \n",
       "6636   Plot  Area  Immediate Possession          Jigani  NaN  S2enste   \n",
       "6719   Plot  Area  Immediate Possession         Hoskote  NaN  SJowsn    \n",
       "7680   Plot  Area  Immediate Possession    Kasavanhalli  NaN      NaN   \n",
       "8306   Plot  Area  Immediate Possession          Anekal  NaN  Vaensnd   \n",
       "8565   Plot  Area  Immediate Possession      Carmelaram  NaN  Ocezes    \n",
       "8703   Plot  Area  Immediate Possession     Mysore Road  NaN  Naoden    \n",
       "10634  Plot  Area  Immediate Possession      Rajankunte  NaN      NaN   \n",
       "11019  Plot  Area  Immediate Possession       Yelahanka  NaN  Saaveha   \n",
       "11569  Plot  Area  Immediate Possession      Hosur Road  NaN  AVeldun   \n",
       "\n",
       "        total_sqft  bath  balcony    price  \n",
       "579    1200 - 2400   NaN      NaN   34.185  \n",
       "1775   2000 - 5634   NaN      NaN  124.000  \n",
       "2264          2400   NaN      NaN  460.000  \n",
       "2809   1200 - 2400   NaN      NaN   28.785  \n",
       "2862   1500 - 2400   NaN      NaN   46.800  \n",
       "5333   2100 - 5405   NaN      NaN  177.115  \n",
       "6423          2324   NaN      NaN   26.730  \n",
       "6636          1500   NaN      NaN   25.490  \n",
       "6719    800 - 2660   NaN      NaN   28.545  \n",
       "7680          5000   NaN      NaN  400.000  \n",
       "8306          1453   NaN      NaN   16.500  \n",
       "8565          2000   NaN      NaN  120.000  \n",
       "8703   1200 - 2400   NaN      NaN   42.300  \n",
       "10634         1575   NaN      NaN   31.110  \n",
       "11019  1200 - 1800   NaN      NaN   12.750  \n",
       "11569         1350   NaN      NaN    8.440  "
      ]
     },
     "execution_count": 26,
     "metadata": {},
     "output_type": "execute_result"
    }
   ],
   "source": [
    "df[df['availability']==\"Immediate Possession\"]"
   ]
  },
  {
   "cell_type": "markdown",
   "metadata": {},
   "source": [
    "- it would be appropriate to replace bath and balcony with **zero**, and size with new type called **empty**\n",
    "- We will guess the value of bath and balcony based on size"
   ]
  },
  {
   "cell_type": "code",
   "execution_count": 27,
   "metadata": {
    "ExecuteTime": {
     "end_time": "2020-02-09T04:30:48.802678Z",
     "start_time": "2020-02-09T04:30:48.786666Z"
    }
   },
   "outputs": [],
   "source": [
    "df[['size']] = df[['size']].fillna(value=\"empty\")"
   ]
  },
  {
   "cell_type": "code",
   "execution_count": 28,
   "metadata": {
    "ExecuteTime": {
     "end_time": "2020-02-09T04:30:48.826749Z",
     "start_time": "2020-02-09T04:30:48.805497Z"
    }
   },
   "outputs": [
    {
     "data": {
      "text/html": [
       "<div>\n",
       "<style scoped>\n",
       "    .dataframe tbody tr th:only-of-type {\n",
       "        vertical-align: middle;\n",
       "    }\n",
       "\n",
       "    .dataframe tbody tr th {\n",
       "        vertical-align: top;\n",
       "    }\n",
       "\n",
       "    .dataframe thead th {\n",
       "        text-align: right;\n",
       "    }\n",
       "</style>\n",
       "<table border=\"1\" class=\"dataframe\">\n",
       "  <thead>\n",
       "    <tr style=\"text-align: right;\">\n",
       "      <th></th>\n",
       "      <th>area_type</th>\n",
       "      <th>availability</th>\n",
       "      <th>location</th>\n",
       "      <th>size</th>\n",
       "      <th>society</th>\n",
       "      <th>total_sqft</th>\n",
       "      <th>bath</th>\n",
       "      <th>balcony</th>\n",
       "      <th>price</th>\n",
       "    </tr>\n",
       "  </thead>\n",
       "  <tbody>\n",
       "  </tbody>\n",
       "</table>\n",
       "</div>"
      ],
      "text/plain": [
       "Empty DataFrame\n",
       "Columns: [area_type, availability, location, size, society, total_sqft, bath, balcony, price]\n",
       "Index: []"
      ]
     },
     "execution_count": 28,
     "metadata": {},
     "output_type": "execute_result"
    }
   ],
   "source": [
    "df[df['size'].isna()] # Nans has been filled"
   ]
  },
  {
   "cell_type": "markdown",
   "metadata": {},
   "source": [
    "### Bath and Balcony"
   ]
  },
  {
   "cell_type": "code",
   "execution_count": 29,
   "metadata": {
    "ExecuteTime": {
     "end_time": "2020-02-09T04:30:48.846474Z",
     "start_time": "2020-02-09T04:30:48.830746Z"
    }
   },
   "outputs": [
    {
     "name": "stdout",
     "output_type": "stream",
     "text": [
      "Bath NaN shape:  (73, 9)\n",
      "Balcony NaN shape:  (609, 9)\n"
     ]
    }
   ],
   "source": [
    "print(\"Bath NaN shape: \", df[df['bath'].isna()].shape)\n",
    "print(\"Balcony NaN shape: \", df[df['balcony'].isna()].shape)"
   ]
  },
  {
   "cell_type": "code",
   "execution_count": 30,
   "metadata": {
    "ExecuteTime": {
     "end_time": "2020-02-09T04:30:48.890037Z",
     "start_time": "2020-02-09T04:30:48.851506Z"
    }
   },
   "outputs": [
    {
     "data": {
      "text/html": [
       "<div>\n",
       "<style scoped>\n",
       "    .dataframe tbody tr th:only-of-type {\n",
       "        vertical-align: middle;\n",
       "    }\n",
       "\n",
       "    .dataframe tbody tr th {\n",
       "        vertical-align: top;\n",
       "    }\n",
       "\n",
       "    .dataframe thead th {\n",
       "        text-align: right;\n",
       "    }\n",
       "</style>\n",
       "<table border=\"1\" class=\"dataframe\">\n",
       "  <thead>\n",
       "    <tr style=\"text-align: right;\">\n",
       "      <th></th>\n",
       "      <th>area_type</th>\n",
       "      <th>availability</th>\n",
       "      <th>location</th>\n",
       "      <th>size</th>\n",
       "      <th>society</th>\n",
       "      <th>total_sqft</th>\n",
       "      <th>bath</th>\n",
       "      <th>balcony</th>\n",
       "      <th>price</th>\n",
       "    </tr>\n",
       "  </thead>\n",
       "  <tbody>\n",
       "    <tr>\n",
       "      <td>6</td>\n",
       "      <td>Super built-up  Area</td>\n",
       "      <td>18-May</td>\n",
       "      <td>Old Airport Road</td>\n",
       "      <td>4 BHK</td>\n",
       "      <td>Jaades</td>\n",
       "      <td>2732</td>\n",
       "      <td>4.0</td>\n",
       "      <td>NaN</td>\n",
       "      <td>204.0</td>\n",
       "    </tr>\n",
       "    <tr>\n",
       "      <td>7</td>\n",
       "      <td>Super built-up  Area</td>\n",
       "      <td>Ready To Move</td>\n",
       "      <td>Rajaji Nagar</td>\n",
       "      <td>4 BHK</td>\n",
       "      <td>Brway G</td>\n",
       "      <td>3300</td>\n",
       "      <td>4.0</td>\n",
       "      <td>NaN</td>\n",
       "      <td>600.0</td>\n",
       "    </tr>\n",
       "  </tbody>\n",
       "</table>\n",
       "</div>"
      ],
      "text/plain": [
       "              area_type   availability          location   size  society  \\\n",
       "6  Super built-up  Area         18-May  Old Airport Road  4 BHK  Jaades    \n",
       "7  Super built-up  Area  Ready To Move      Rajaji Nagar  4 BHK  Brway G   \n",
       "\n",
       "  total_sqft  bath  balcony  price  \n",
       "6       2732   4.0      NaN  204.0  \n",
       "7       3300   4.0      NaN  600.0  "
      ]
     },
     "execution_count": 30,
     "metadata": {},
     "output_type": "execute_result"
    }
   ],
   "source": [
    "df[df['balcony'].isna()].head(2)"
   ]
  },
  {
   "cell_type": "code",
   "execution_count": 31,
   "metadata": {
    "ExecuteTime": {
     "end_time": "2020-02-09T04:30:48.925090Z",
     "start_time": "2020-02-09T04:30:48.892200Z"
    }
   },
   "outputs": [
    {
     "data": {
      "text/html": [
       "<div>\n",
       "<style scoped>\n",
       "    .dataframe tbody tr th:only-of-type {\n",
       "        vertical-align: middle;\n",
       "    }\n",
       "\n",
       "    .dataframe tbody tr th {\n",
       "        vertical-align: top;\n",
       "    }\n",
       "\n",
       "    .dataframe thead th {\n",
       "        text-align: right;\n",
       "    }\n",
       "</style>\n",
       "<table border=\"1\" class=\"dataframe\">\n",
       "  <thead>\n",
       "    <tr style=\"text-align: right;\">\n",
       "      <th></th>\n",
       "      <th>area_type</th>\n",
       "      <th>availability</th>\n",
       "      <th>location</th>\n",
       "      <th>size</th>\n",
       "      <th>society</th>\n",
       "      <th>total_sqft</th>\n",
       "      <th>bath</th>\n",
       "      <th>balcony</th>\n",
       "      <th>price</th>\n",
       "    </tr>\n",
       "  </thead>\n",
       "  <tbody>\n",
       "    <tr>\n",
       "      <td>56</td>\n",
       "      <td>Built-up  Area</td>\n",
       "      <td>20-Feb</td>\n",
       "      <td>Devanahalli</td>\n",
       "      <td>4 Bedroom</td>\n",
       "      <td>BrereAt</td>\n",
       "      <td>3010 - 3410</td>\n",
       "      <td>NaN</td>\n",
       "      <td>NaN</td>\n",
       "      <td>192.0</td>\n",
       "    </tr>\n",
       "    <tr>\n",
       "      <td>81</td>\n",
       "      <td>Built-up  Area</td>\n",
       "      <td>18-Oct</td>\n",
       "      <td>Hennur Road</td>\n",
       "      <td>4 Bedroom</td>\n",
       "      <td>Gollela</td>\n",
       "      <td>2957 - 3450</td>\n",
       "      <td>NaN</td>\n",
       "      <td>NaN</td>\n",
       "      <td>224.5</td>\n",
       "    </tr>\n",
       "  </tbody>\n",
       "</table>\n",
       "</div>"
      ],
      "text/plain": [
       "         area_type availability     location       size  society   total_sqft  \\\n",
       "56  Built-up  Area       20-Feb  Devanahalli  4 Bedroom  BrereAt  3010 - 3410   \n",
       "81  Built-up  Area       18-Oct  Hennur Road  4 Bedroom  Gollela  2957 - 3450   \n",
       "\n",
       "    bath  balcony  price  \n",
       "56   NaN      NaN  192.0  \n",
       "81   NaN      NaN  224.5  "
      ]
     },
     "execution_count": 31,
     "metadata": {},
     "output_type": "execute_result"
    }
   ],
   "source": [
    "df[df['bath'].isna()].head(2)"
   ]
  },
  {
   "cell_type": "code",
   "execution_count": 32,
   "metadata": {
    "ExecuteTime": {
     "end_time": "2020-02-09T04:31:00.136864Z",
     "start_time": "2020-02-09T04:30:48.929086Z"
    }
   },
   "outputs": [],
   "source": [
    "new_bath_list = []\n",
    "new_balocony_list = []\n",
    "\n",
    "for index, row in df.iterrows():    \n",
    "    \n",
    "    # Dealing with Bath\n",
    "    if math.isnan(row['bath']):\n",
    "        if row['size']==\"empty\":\n",
    "            new_bath_list.append(0)\n",
    "        else: \n",
    "            new_bath_list.append(df[df['size']==row['size']].bath.median())\n",
    "    else: \n",
    "        new_bath_list.append(row['bath'])\n",
    "    \n",
    "    # Dealing with Balcony\n",
    "    if math.isnan(row['balcony']):\n",
    "        if row['size']==\"empty\":\n",
    "            new_balocony_list.append(0)\n",
    "        else:\n",
    "            if math.isnan(df[df['size']==row['size']].balcony.median()) == False:\n",
    "                new_balocony_list.append(df[df['size']==row['size']].balcony.median())\n",
    "            else:\n",
    "                if math.isnan(df[df['bath']==row['bath']].balcony.median()) == False:\n",
    "                    new_balocony_list.append(df[df['bath']==row['bath']].balcony.median())\n",
    "                else:\n",
    "                    if math.isnan(df[df['total_sqft']==row['total_sqft']].balcony.median()) == False:\n",
    "                        new_balocony_list.append(df[df['total_sqft']==row['total_sqft']].balcony.median())\n",
    "                    else:\n",
    "                        new_balocony_list.append(row['balcony'])\n",
    "    else: \n",
    "        new_balocony_list.append(row['balcony'])"
   ]
  },
  {
   "cell_type": "code",
   "execution_count": 33,
   "metadata": {
    "ExecuteTime": {
     "end_time": "2020-02-09T04:31:00.153007Z",
     "start_time": "2020-02-09T04:31:00.140726Z"
    }
   },
   "outputs": [
    {
     "name": "stdout",
     "output_type": "stream",
     "text": [
      "Bath len =  13320\n",
      "Balocony len =  13320\n",
      "Both should equal =  13320\n"
     ]
    }
   ],
   "source": [
    "print(\"Bath len = \" ,len(new_bath_list))\n",
    "print(\"Balocony len = \" ,len(new_balocony_list))\n",
    "print(\"Both should equal = \" ,len(df))"
   ]
  },
  {
   "cell_type": "code",
   "execution_count": 34,
   "metadata": {
    "ExecuteTime": {
     "end_time": "2020-02-09T04:31:00.186070Z",
     "start_time": "2020-02-09T04:31:00.157933Z"
    }
   },
   "outputs": [],
   "source": [
    "df['bath'] = new_bath_list\n",
    "df['balcony'] = new_balocony_list"
   ]
  },
  {
   "cell_type": "code",
   "execution_count": 35,
   "metadata": {
    "ExecuteTime": {
     "end_time": "2020-02-09T04:31:00.212179Z",
     "start_time": "2020-02-09T04:31:00.192076Z"
    }
   },
   "outputs": [
    {
     "name": "stdout",
     "output_type": "stream",
     "text": [
      "Bath NaN shape:  (0, 9)\n",
      "Balcony NaN shape:  (0, 9)\n"
     ]
    }
   ],
   "source": [
    "print(\"Bath NaN shape: \", df[df['bath'].isna()].shape)\n",
    "print(\"Balcony NaN shape: \", df[df['balcony'].isna()].shape)"
   ]
  },
  {
   "cell_type": "markdown",
   "metadata": {},
   "source": [
    "### Society"
   ]
  },
  {
   "cell_type": "code",
   "execution_count": 36,
   "metadata": {
    "ExecuteTime": {
     "end_time": "2020-02-09T04:31:00.260335Z",
     "start_time": "2020-02-09T04:31:00.217184Z"
    }
   },
   "outputs": [
    {
     "data": {
      "text/html": [
       "<div>\n",
       "<style scoped>\n",
       "    .dataframe tbody tr th:only-of-type {\n",
       "        vertical-align: middle;\n",
       "    }\n",
       "\n",
       "    .dataframe tbody tr th {\n",
       "        vertical-align: top;\n",
       "    }\n",
       "\n",
       "    .dataframe thead th {\n",
       "        text-align: right;\n",
       "    }\n",
       "</style>\n",
       "<table border=\"1\" class=\"dataframe\">\n",
       "  <thead>\n",
       "    <tr style=\"text-align: right;\">\n",
       "      <th></th>\n",
       "      <th>area_type</th>\n",
       "      <th>availability</th>\n",
       "      <th>location</th>\n",
       "      <th>size</th>\n",
       "      <th>society</th>\n",
       "      <th>total_sqft</th>\n",
       "      <th>bath</th>\n",
       "      <th>balcony</th>\n",
       "      <th>price</th>\n",
       "    </tr>\n",
       "  </thead>\n",
       "  <tbody>\n",
       "    <tr>\n",
       "      <td>2</td>\n",
       "      <td>Built-up  Area</td>\n",
       "      <td>Ready To Move</td>\n",
       "      <td>Uttarahalli</td>\n",
       "      <td>3 BHK</td>\n",
       "      <td>NaN</td>\n",
       "      <td>1440</td>\n",
       "      <td>2.0</td>\n",
       "      <td>3.0</td>\n",
       "      <td>62.00</td>\n",
       "    </tr>\n",
       "    <tr>\n",
       "      <td>4</td>\n",
       "      <td>Super built-up  Area</td>\n",
       "      <td>Ready To Move</td>\n",
       "      <td>Kothanur</td>\n",
       "      <td>2 BHK</td>\n",
       "      <td>NaN</td>\n",
       "      <td>1200</td>\n",
       "      <td>2.0</td>\n",
       "      <td>1.0</td>\n",
       "      <td>51.00</td>\n",
       "    </tr>\n",
       "    <tr>\n",
       "      <td>8</td>\n",
       "      <td>Super built-up  Area</td>\n",
       "      <td>Ready To Move</td>\n",
       "      <td>Marathahalli</td>\n",
       "      <td>3 BHK</td>\n",
       "      <td>NaN</td>\n",
       "      <td>1310</td>\n",
       "      <td>3.0</td>\n",
       "      <td>1.0</td>\n",
       "      <td>63.25</td>\n",
       "    </tr>\n",
       "    <tr>\n",
       "      <td>9</td>\n",
       "      <td>Plot  Area</td>\n",
       "      <td>Ready To Move</td>\n",
       "      <td>Gandhi Bazar</td>\n",
       "      <td>6 Bedroom</td>\n",
       "      <td>NaN</td>\n",
       "      <td>1020</td>\n",
       "      <td>6.0</td>\n",
       "      <td>2.0</td>\n",
       "      <td>370.00</td>\n",
       "    </tr>\n",
       "    <tr>\n",
       "      <td>10</td>\n",
       "      <td>Super built-up  Area</td>\n",
       "      <td>18-Feb</td>\n",
       "      <td>Whitefield</td>\n",
       "      <td>3 BHK</td>\n",
       "      <td>NaN</td>\n",
       "      <td>1800</td>\n",
       "      <td>2.0</td>\n",
       "      <td>2.0</td>\n",
       "      <td>70.00</td>\n",
       "    </tr>\n",
       "  </tbody>\n",
       "</table>\n",
       "</div>"
      ],
      "text/plain": [
       "               area_type   availability      location       size society  \\\n",
       "2         Built-up  Area  Ready To Move   Uttarahalli      3 BHK     NaN   \n",
       "4   Super built-up  Area  Ready To Move      Kothanur      2 BHK     NaN   \n",
       "8   Super built-up  Area  Ready To Move  Marathahalli      3 BHK     NaN   \n",
       "9             Plot  Area  Ready To Move  Gandhi Bazar  6 Bedroom     NaN   \n",
       "10  Super built-up  Area         18-Feb    Whitefield      3 BHK     NaN   \n",
       "\n",
       "   total_sqft  bath  balcony   price  \n",
       "2        1440   2.0      3.0   62.00  \n",
       "4        1200   2.0      1.0   51.00  \n",
       "8        1310   3.0      1.0   63.25  \n",
       "9        1020   6.0      2.0  370.00  \n",
       "10       1800   2.0      2.0   70.00  "
      ]
     },
     "execution_count": 36,
     "metadata": {},
     "output_type": "execute_result"
    }
   ],
   "source": [
    "df[df['society'].isna()].head(5)"
   ]
  },
  {
   "cell_type": "code",
   "execution_count": 37,
   "metadata": {
    "ExecuteTime": {
     "end_time": "2020-02-09T04:31:00.330528Z",
     "start_time": "2020-02-09T04:31:00.265492Z"
    }
   },
   "outputs": [
    {
     "data": {
      "text/html": [
       "<div>\n",
       "<style scoped>\n",
       "    .dataframe tbody tr th:only-of-type {\n",
       "        vertical-align: middle;\n",
       "    }\n",
       "\n",
       "    .dataframe tbody tr th {\n",
       "        vertical-align: top;\n",
       "    }\n",
       "\n",
       "    .dataframe thead th {\n",
       "        text-align: right;\n",
       "    }\n",
       "</style>\n",
       "<table border=\"1\" class=\"dataframe\">\n",
       "  <thead>\n",
       "    <tr style=\"text-align: right;\">\n",
       "      <th></th>\n",
       "      <th>area_type</th>\n",
       "      <th>availability</th>\n",
       "      <th>location</th>\n",
       "      <th>size</th>\n",
       "      <th>society</th>\n",
       "      <th>total_sqft</th>\n",
       "      <th>bath</th>\n",
       "      <th>balcony</th>\n",
       "      <th>price</th>\n",
       "    </tr>\n",
       "  </thead>\n",
       "  <tbody>\n",
       "    <tr>\n",
       "      <td>146</td>\n",
       "      <td>Super built-up  Area</td>\n",
       "      <td>Ready To Move</td>\n",
       "      <td>Kothanur</td>\n",
       "      <td>3 BHK</td>\n",
       "      <td>Somumys</td>\n",
       "      <td>1828</td>\n",
       "      <td>3.0</td>\n",
       "      <td>2.0</td>\n",
       "      <td>110.0</td>\n",
       "    </tr>\n",
       "    <tr>\n",
       "      <td>247</td>\n",
       "      <td>Super built-up  Area</td>\n",
       "      <td>Ready To Move</td>\n",
       "      <td>Kothanur</td>\n",
       "      <td>3 BHK</td>\n",
       "      <td>Bisic C</td>\n",
       "      <td>1577</td>\n",
       "      <td>3.0</td>\n",
       "      <td>1.0</td>\n",
       "      <td>70.0</td>\n",
       "    </tr>\n",
       "    <tr>\n",
       "      <td>304</td>\n",
       "      <td>Super built-up  Area</td>\n",
       "      <td>Ready To Move</td>\n",
       "      <td>Kothanur</td>\n",
       "      <td>3 BHK</td>\n",
       "      <td>Somumys</td>\n",
       "      <td>1847</td>\n",
       "      <td>3.0</td>\n",
       "      <td>2.0</td>\n",
       "      <td>105.0</td>\n",
       "    </tr>\n",
       "    <tr>\n",
       "      <td>703</td>\n",
       "      <td>Super built-up  Area</td>\n",
       "      <td>Ready To Move</td>\n",
       "      <td>Kothanur</td>\n",
       "      <td>3 BHK</td>\n",
       "      <td>NaN</td>\n",
       "      <td>1580</td>\n",
       "      <td>3.0</td>\n",
       "      <td>3.0</td>\n",
       "      <td>76.0</td>\n",
       "    </tr>\n",
       "    <tr>\n",
       "      <td>2271</td>\n",
       "      <td>Super built-up  Area</td>\n",
       "      <td>Ready To Move</td>\n",
       "      <td>Kothanur</td>\n",
       "      <td>3 BHK</td>\n",
       "      <td>NaN</td>\n",
       "      <td>1435</td>\n",
       "      <td>3.0</td>\n",
       "      <td>3.0</td>\n",
       "      <td>70.0</td>\n",
       "    </tr>\n",
       "  </tbody>\n",
       "</table>\n",
       "</div>"
      ],
      "text/plain": [
       "                 area_type   availability  location   size  society  \\\n",
       "146   Super built-up  Area  Ready To Move  Kothanur  3 BHK  Somumys   \n",
       "247   Super built-up  Area  Ready To Move  Kothanur  3 BHK  Bisic C   \n",
       "304   Super built-up  Area  Ready To Move  Kothanur  3 BHK  Somumys   \n",
       "703   Super built-up  Area  Ready To Move  Kothanur  3 BHK      NaN   \n",
       "2271  Super built-up  Area  Ready To Move  Kothanur  3 BHK      NaN   \n",
       "\n",
       "     total_sqft  bath  balcony  price  \n",
       "146        1828   3.0      2.0  110.0  \n",
       "247        1577   3.0      1.0   70.0  \n",
       "304        1847   3.0      2.0  105.0  \n",
       "703        1580   3.0      3.0   76.0  \n",
       "2271       1435   3.0      3.0   70.0  "
      ]
     },
     "execution_count": 37,
     "metadata": {},
     "output_type": "execute_result"
    }
   ],
   "source": [
    "df[(df['size']==\"3 BHK\") & (df['location']=='Kothanur')].head()"
   ]
  },
  {
   "cell_type": "markdown",
   "metadata": {},
   "source": [
    "- If we assume that Nan soceity are equll to the location then we are creating a possible problem of collinearity \n",
    "- Maybe Nan values in society means that are not belonging to any society\n",
    "- **So, Does belonging to a society means the value of the property increases ?** "
   ]
  },
  {
   "cell_type": "code",
   "execution_count": 38,
   "metadata": {
    "ExecuteTime": {
     "end_time": "2020-02-09T04:31:00.355410Z",
     "start_time": "2020-02-09T04:31:00.336949Z"
    }
   },
   "outputs": [],
   "source": [
    "df[\"society\"].fillna(\"None\", inplace = True)"
   ]
  },
  {
   "cell_type": "markdown",
   "metadata": {},
   "source": [
    "## Dealing Data type"
   ]
  },
  {
   "cell_type": "code",
   "execution_count": 39,
   "metadata": {
    "ExecuteTime": {
     "end_time": "2020-02-09T04:31:00.400636Z",
     "start_time": "2020-02-09T04:31:00.362104Z"
    }
   },
   "outputs": [
    {
     "name": "stdout",
     "output_type": "stream",
     "text": [
      "<class 'pandas.core.frame.DataFrame'>\n",
      "RangeIndex: 13320 entries, 0 to 13319\n",
      "Data columns (total 9 columns):\n",
      "area_type       13320 non-null object\n",
      "availability    13320 non-null object\n",
      "location        13320 non-null object\n",
      "size            13320 non-null object\n",
      "society         13320 non-null object\n",
      "total_sqft      13320 non-null object\n",
      "bath            13320 non-null float64\n",
      "balcony         13320 non-null float64\n",
      "price           13320 non-null float64\n",
      "dtypes: float64(3), object(6)\n",
      "memory usage: 936.7+ KB\n"
     ]
    }
   ],
   "source": [
    "df.info()"
   ]
  },
  {
   "cell_type": "markdown",
   "metadata": {},
   "source": [
    "- area type, availability, location, size, and society should be of the type **category**\n",
    "- total_sqft, bath, and balcony should be of the type **int32**\n",
    "- price float64 price is correct, no changes are required"
   ]
  },
  {
   "cell_type": "markdown",
   "metadata": {},
   "source": [
    "### society"
   ]
  },
  {
   "cell_type": "code",
   "execution_count": 40,
   "metadata": {
    "ExecuteTime": {
     "end_time": "2020-02-09T04:31:00.446015Z",
     "start_time": "2020-02-09T04:31:00.407283Z"
    }
   },
   "outputs": [
    {
     "name": "stdout",
     "output_type": "stream",
     "text": [
      "None       0.41\n",
      "GrrvaGr    0.01\n",
      "PrarePa    0.01\n",
      "Prtates    0.00\n",
      "Sryalan    0.00\n",
      "           ... \n",
      "Salms G    0.00\n",
      "Crentt     0.00\n",
      "KlarkBe    0.00\n",
      "Emodsel    0.00\n",
      "Viaxy G    0.00\n",
      "Name: society, Length: 2689, dtype: float64\n"
     ]
    }
   ],
   "source": [
    "print(round(df['society'].value_counts(normalize=True, dropna=False ),2)) # it is ready to be converted"
   ]
  },
  {
   "cell_type": "code",
   "execution_count": 41,
   "metadata": {
    "ExecuteTime": {
     "end_time": "2020-02-09T04:31:00.476690Z",
     "start_time": "2020-02-09T04:31:00.452309Z"
    }
   },
   "outputs": [],
   "source": [
    "df['society'] = df['society'].astype('category') "
   ]
  },
  {
   "cell_type": "markdown",
   "metadata": {},
   "source": [
    "### Area type"
   ]
  },
  {
   "cell_type": "code",
   "execution_count": 42,
   "metadata": {
    "ExecuteTime": {
     "end_time": "2020-02-09T04:31:00.503991Z",
     "start_time": "2020-02-09T04:31:00.480597Z"
    }
   },
   "outputs": [
    {
     "data": {
      "text/plain": [
       "Super built-up  Area    8790\n",
       "Built-up  Area          2418\n",
       "Plot  Area              2025\n",
       "Carpet  Area              87\n",
       "Name: area_type, dtype: int64"
      ]
     },
     "execution_count": 42,
     "metadata": {},
     "output_type": "execute_result"
    }
   ],
   "source": [
    "df['area_type'].value_counts(normalize=False, dropna=False ) # it is ready to be converted"
   ]
  },
  {
   "cell_type": "code",
   "execution_count": 43,
   "metadata": {
    "ExecuteTime": {
     "end_time": "2020-02-09T04:31:00.528567Z",
     "start_time": "2020-02-09T04:31:00.508128Z"
    }
   },
   "outputs": [],
   "source": [
    "df['area_type'] = df['area_type'].astype('category')"
   ]
  },
  {
   "cell_type": "markdown",
   "metadata": {},
   "source": [
    "### Availability"
   ]
  },
  {
   "cell_type": "markdown",
   "metadata": {},
   "source": [
    "- We are going to pack the dates in terms of season\n",
    "- **Spring:**  Mar, Apr, May\n",
    "- **Summer:**  Jun, Jul, Aug\n",
    "- **Fall:**  Sep, Oct, Nov\n",
    "- **Winter:**  Dec, Jan, Feb"
   ]
  },
  {
   "cell_type": "code",
   "execution_count": 44,
   "metadata": {
    "ExecuteTime": {
     "end_time": "2020-02-09T04:31:00.548346Z",
     "start_time": "2020-02-09T04:31:00.532482Z"
    }
   },
   "outputs": [],
   "source": [
    "spring = [\"Mar\", \"Apr\", \"May\"]\n",
    "Summer = [\"Jun\", \"Jul\", \"Aug\"]\n",
    "Fall = [\"Sep\", \"Oct\", \"Nov\"]\n",
    "Winter = [\"Dec\", \"Jan\", \"Feb\"]"
   ]
  },
  {
   "cell_type": "code",
   "execution_count": 45,
   "metadata": {
    "ExecuteTime": {
     "end_time": "2020-02-09T04:31:05.013260Z",
     "start_time": "2020-02-09T04:31:00.554524Z"
    }
   },
   "outputs": [],
   "source": [
    "new_availability_list = []\n",
    "\n",
    "for index, row in df.iterrows():    \n",
    "        \n",
    "        if (row['availability']!='Ready To Move' and row['availability']!='Immediate Possession'):\n",
    "            for i in range(0,3):\n",
    "                if spring[i] in row['availability']:\n",
    "                    new_availability_list.append(\"Spring\")\n",
    "                else:\n",
    "                    if Summer[i] in row['availability']:\n",
    "                        new_availability_list.append(\"summer\")\n",
    "                    else:\n",
    "                        if Fall[i] in row['availability']:\n",
    "                            new_availability_list.append(\"Fall\")\n",
    "                        else:\n",
    "                            if Winter[i] in row['availability']:\n",
    "                                new_availability_list.append(\"Winter\")\n",
    "        else: \n",
    "            new_availability_list.append(row['availability'])"
   ]
  },
  {
   "cell_type": "code",
   "execution_count": 46,
   "metadata": {
    "ExecuteTime": {
     "end_time": "2020-02-09T04:31:05.028712Z",
     "start_time": "2020-02-09T04:31:05.017219Z"
    }
   },
   "outputs": [
    {
     "name": "stdout",
     "output_type": "stream",
     "text": [
      "availability len =  13320\n",
      "It should equal =  13320\n"
     ]
    }
   ],
   "source": [
    "print(\"availability len = \" ,len(new_availability_list))\n",
    "print(\"It should equal = \" ,len(df))"
   ]
  },
  {
   "cell_type": "code",
   "execution_count": 47,
   "metadata": {
    "ExecuteTime": {
     "end_time": "2020-02-09T04:31:05.056626Z",
     "start_time": "2020-02-09T04:31:05.033771Z"
    }
   },
   "outputs": [],
   "source": [
    "df['availability'] = new_availability_list"
   ]
  },
  {
   "cell_type": "code",
   "execution_count": 48,
   "metadata": {
    "ExecuteTime": {
     "end_time": "2020-02-09T04:31:05.080356Z",
     "start_time": "2020-02-09T04:31:05.061805Z"
    }
   },
   "outputs": [
    {
     "name": "stdout",
     "output_type": "stream",
     "text": [
      "Ready To Move           10581\n",
      "Winter                    929\n",
      "Spring                    882\n",
      "summer                    655\n",
      "Fall                      257\n",
      "Immediate Possession       16\n",
      "Name: availability, dtype: int64\n"
     ]
    }
   ],
   "source": [
    "print(df['availability'].value_counts()) # looks much more balanced now and ready to be converted"
   ]
  },
  {
   "cell_type": "code",
   "execution_count": 49,
   "metadata": {
    "ExecuteTime": {
     "end_time": "2020-02-09T04:31:05.110579Z",
     "start_time": "2020-02-09T04:31:05.085298Z"
    }
   },
   "outputs": [],
   "source": [
    "df['availability'] = df['availability'].astype('category')"
   ]
  },
  {
   "cell_type": "markdown",
   "metadata": {},
   "source": [
    "### Bath and Balcony"
   ]
  },
  {
   "cell_type": "code",
   "execution_count": 50,
   "metadata": {
    "ExecuteTime": {
     "end_time": "2020-02-09T04:31:05.138390Z",
     "start_time": "2020-02-09T04:31:05.114491Z"
    }
   },
   "outputs": [],
   "source": [
    "df.loc[:,\"bath\"] = df.loc[:,\"bath\"].astype('int32')\n",
    "df.loc[:,\"balcony\"] = df.loc[:,\"balcony\"].astype('int32')"
   ]
  },
  {
   "cell_type": "markdown",
   "metadata": {},
   "source": [
    "### Total_sqft"
   ]
  },
  {
   "cell_type": "code",
   "execution_count": 51,
   "metadata": {
    "ExecuteTime": {
     "end_time": "2020-02-09T04:31:05.158219Z",
     "start_time": "2020-02-09T04:31:05.142295Z"
    }
   },
   "outputs": [
    {
     "data": {
      "text/plain": [
       "'2249.81 - 4112.19'"
      ]
     },
     "execution_count": 51,
     "metadata": {},
     "output_type": "execute_result"
    }
   ],
   "source": [
    "df['total_sqft'][2500] # how to deal with ranges and values in a column ?"
   ]
  },
  {
   "cell_type": "code",
   "execution_count": 52,
   "metadata": {
    "ExecuteTime": {
     "end_time": "2020-02-09T04:31:05.280073Z",
     "start_time": "2020-02-09T04:31:05.160538Z"
    }
   },
   "outputs": [
    {
     "name": "stdout",
     "output_type": "stream",
     "text": [
      "(201, 9)\n"
     ]
    },
    {
     "data": {
      "text/html": [
       "<div>\n",
       "<style scoped>\n",
       "    .dataframe tbody tr th:only-of-type {\n",
       "        vertical-align: middle;\n",
       "    }\n",
       "\n",
       "    .dataframe tbody tr th {\n",
       "        vertical-align: top;\n",
       "    }\n",
       "\n",
       "    .dataframe thead th {\n",
       "        text-align: right;\n",
       "    }\n",
       "</style>\n",
       "<table border=\"1\" class=\"dataframe\">\n",
       "  <thead>\n",
       "    <tr style=\"text-align: right;\">\n",
       "      <th></th>\n",
       "      <th>area_type</th>\n",
       "      <th>availability</th>\n",
       "      <th>location</th>\n",
       "      <th>size</th>\n",
       "      <th>society</th>\n",
       "      <th>total_sqft</th>\n",
       "      <th>bath</th>\n",
       "      <th>balcony</th>\n",
       "      <th>price</th>\n",
       "    </tr>\n",
       "  </thead>\n",
       "  <tbody>\n",
       "    <tr>\n",
       "      <td>30</td>\n",
       "      <td>Super built-up  Area</td>\n",
       "      <td>Winter</td>\n",
       "      <td>Yelahanka</td>\n",
       "      <td>4 BHK</td>\n",
       "      <td>LedorSa</td>\n",
       "      <td>2100 - 2850</td>\n",
       "      <td>4</td>\n",
       "      <td>0</td>\n",
       "      <td>186.000</td>\n",
       "    </tr>\n",
       "    <tr>\n",
       "      <td>56</td>\n",
       "      <td>Built-up  Area</td>\n",
       "      <td>Winter</td>\n",
       "      <td>Devanahalli</td>\n",
       "      <td>4 Bedroom</td>\n",
       "      <td>BrereAt</td>\n",
       "      <td>3010 - 3410</td>\n",
       "      <td>4</td>\n",
       "      <td>2</td>\n",
       "      <td>192.000</td>\n",
       "    </tr>\n",
       "    <tr>\n",
       "      <td>81</td>\n",
       "      <td>Built-up  Area</td>\n",
       "      <td>Fall</td>\n",
       "      <td>Hennur Road</td>\n",
       "      <td>4 Bedroom</td>\n",
       "      <td>Gollela</td>\n",
       "      <td>2957 - 3450</td>\n",
       "      <td>4</td>\n",
       "      <td>2</td>\n",
       "      <td>224.500</td>\n",
       "    </tr>\n",
       "    <tr>\n",
       "      <td>122</td>\n",
       "      <td>Super built-up  Area</td>\n",
       "      <td>Spring</td>\n",
       "      <td>Hebbal</td>\n",
       "      <td>4 BHK</td>\n",
       "      <td>SNontle</td>\n",
       "      <td>3067 - 8156</td>\n",
       "      <td>4</td>\n",
       "      <td>0</td>\n",
       "      <td>477.000</td>\n",
       "    </tr>\n",
       "    <tr>\n",
       "      <td>137</td>\n",
       "      <td>Super built-up  Area</td>\n",
       "      <td>Spring</td>\n",
       "      <td>8th Phase JP Nagar</td>\n",
       "      <td>2 BHK</td>\n",
       "      <td>Vaarech</td>\n",
       "      <td>1042 - 1105</td>\n",
       "      <td>2</td>\n",
       "      <td>0</td>\n",
       "      <td>54.005</td>\n",
       "    </tr>\n",
       "  </tbody>\n",
       "</table>\n",
       "</div>"
      ],
      "text/plain": [
       "                area_type availability            location       size  \\\n",
       "30   Super built-up  Area       Winter           Yelahanka      4 BHK   \n",
       "56         Built-up  Area       Winter         Devanahalli  4 Bedroom   \n",
       "81         Built-up  Area         Fall         Hennur Road  4 Bedroom   \n",
       "122  Super built-up  Area       Spring              Hebbal      4 BHK   \n",
       "137  Super built-up  Area       Spring  8th Phase JP Nagar      2 BHK   \n",
       "\n",
       "     society   total_sqft  bath  balcony    price  \n",
       "30   LedorSa  2100 - 2850     4        0  186.000  \n",
       "56   BrereAt  3010 - 3410     4        2  192.000  \n",
       "81   Gollela  2957 - 3450     4        2  224.500  \n",
       "122  SNontle  3067 - 8156     4        0  477.000  \n",
       "137  Vaarech  1042 - 1105     2        0   54.005  "
      ]
     },
     "execution_count": 52,
     "metadata": {},
     "output_type": "execute_result"
    }
   ],
   "source": [
    "print(df[df['total_sqft'].str.contains(\"-\")].shape) # should be converted to a single value(not an estimate)\n",
    "df[df['total_sqft'].str.contains(\"-\")].head()"
   ]
  },
  {
   "cell_type": "code",
   "execution_count": 53,
   "metadata": {
    "ExecuteTime": {
     "end_time": "2020-02-09T04:31:05.386087Z",
     "start_time": "2020-02-09T04:31:05.285334Z"
    }
   },
   "outputs": [
    {
     "name": "stdout",
     "output_type": "stream",
     "text": [
      "(13119, 9)\n"
     ]
    },
    {
     "data": {
      "text/html": [
       "<div>\n",
       "<style scoped>\n",
       "    .dataframe tbody tr th:only-of-type {\n",
       "        vertical-align: middle;\n",
       "    }\n",
       "\n",
       "    .dataframe tbody tr th {\n",
       "        vertical-align: top;\n",
       "    }\n",
       "\n",
       "    .dataframe thead th {\n",
       "        text-align: right;\n",
       "    }\n",
       "</style>\n",
       "<table border=\"1\" class=\"dataframe\">\n",
       "  <thead>\n",
       "    <tr style=\"text-align: right;\">\n",
       "      <th></th>\n",
       "      <th>area_type</th>\n",
       "      <th>availability</th>\n",
       "      <th>location</th>\n",
       "      <th>size</th>\n",
       "      <th>society</th>\n",
       "      <th>total_sqft</th>\n",
       "      <th>bath</th>\n",
       "      <th>balcony</th>\n",
       "      <th>price</th>\n",
       "    </tr>\n",
       "  </thead>\n",
       "  <tbody>\n",
       "    <tr>\n",
       "      <td>0</td>\n",
       "      <td>Super built-up  Area</td>\n",
       "      <td>Winter</td>\n",
       "      <td>Electronic City Phase II</td>\n",
       "      <td>2 BHK</td>\n",
       "      <td>Coomee</td>\n",
       "      <td>1056</td>\n",
       "      <td>2</td>\n",
       "      <td>1</td>\n",
       "      <td>39.07</td>\n",
       "    </tr>\n",
       "    <tr>\n",
       "      <td>1</td>\n",
       "      <td>Plot  Area</td>\n",
       "      <td>Ready To Move</td>\n",
       "      <td>Chikka Tirupathi</td>\n",
       "      <td>4 Bedroom</td>\n",
       "      <td>Theanmp</td>\n",
       "      <td>2600</td>\n",
       "      <td>5</td>\n",
       "      <td>3</td>\n",
       "      <td>120.00</td>\n",
       "    </tr>\n",
       "    <tr>\n",
       "      <td>2</td>\n",
       "      <td>Built-up  Area</td>\n",
       "      <td>Ready To Move</td>\n",
       "      <td>Uttarahalli</td>\n",
       "      <td>3 BHK</td>\n",
       "      <td>None</td>\n",
       "      <td>1440</td>\n",
       "      <td>2</td>\n",
       "      <td>3</td>\n",
       "      <td>62.00</td>\n",
       "    </tr>\n",
       "    <tr>\n",
       "      <td>3</td>\n",
       "      <td>Super built-up  Area</td>\n",
       "      <td>Ready To Move</td>\n",
       "      <td>Lingadheeranahalli</td>\n",
       "      <td>3 BHK</td>\n",
       "      <td>Soiewre</td>\n",
       "      <td>1521</td>\n",
       "      <td>3</td>\n",
       "      <td>1</td>\n",
       "      <td>95.00</td>\n",
       "    </tr>\n",
       "    <tr>\n",
       "      <td>4</td>\n",
       "      <td>Super built-up  Area</td>\n",
       "      <td>Ready To Move</td>\n",
       "      <td>Kothanur</td>\n",
       "      <td>2 BHK</td>\n",
       "      <td>None</td>\n",
       "      <td>1200</td>\n",
       "      <td>2</td>\n",
       "      <td>1</td>\n",
       "      <td>51.00</td>\n",
       "    </tr>\n",
       "  </tbody>\n",
       "</table>\n",
       "</div>"
      ],
      "text/plain": [
       "              area_type   availability                  location       size  \\\n",
       "0  Super built-up  Area         Winter  Electronic City Phase II      2 BHK   \n",
       "1            Plot  Area  Ready To Move          Chikka Tirupathi  4 Bedroom   \n",
       "2        Built-up  Area  Ready To Move               Uttarahalli      3 BHK   \n",
       "3  Super built-up  Area  Ready To Move        Lingadheeranahalli      3 BHK   \n",
       "4  Super built-up  Area  Ready To Move                  Kothanur      2 BHK   \n",
       "\n",
       "   society total_sqft  bath  balcony   price  \n",
       "0  Coomee        1056     2        1   39.07  \n",
       "1  Theanmp       2600     5        3  120.00  \n",
       "2     None       1440     2        3   62.00  \n",
       "3  Soiewre       1521     3        1   95.00  \n",
       "4     None       1200     2        1   51.00  "
      ]
     },
     "execution_count": 53,
     "metadata": {},
     "output_type": "execute_result"
    }
   ],
   "source": [
    "print(df[df['total_sqft'].str.contains(\"-\")==False].shape) # values seems to be correct, Further investigation is required\n",
    "df[df['total_sqft'].str.contains(\"-\")==False].head()"
   ]
  },
  {
   "cell_type": "code",
   "execution_count": 54,
   "metadata": {
    "ExecuteTime": {
     "end_time": "2020-02-09T04:31:05.450254Z",
     "start_time": "2020-02-09T04:31:05.410930Z"
    }
   },
   "outputs": [
    {
     "name": "stdout",
     "output_type": "stream",
     "text": [
      "12986  of the data is ready to be converted, while 334  of the data is super dirty\n"
     ]
    }
   ],
   "source": [
    "# will divide the data into two sections based on total sqft\n",
    "df1 = df[df['total_sqft'].str.isdigit()]  \n",
    "df2 = df[df['total_sqft'].str.isdigit()==False]\n",
    "print(len(df1),\" of the data is ready to be converted, while\", len(df2),\" of the data is super dirty\")"
   ]
  },
  {
   "cell_type": "code",
   "execution_count": 55,
   "metadata": {
    "ExecuteTime": {
     "end_time": "2020-02-09T04:31:05.515510Z",
     "start_time": "2020-02-09T04:31:05.462008Z"
    }
   },
   "outputs": [
    {
     "data": {
      "text/html": [
       "<div>\n",
       "<style scoped>\n",
       "    .dataframe tbody tr th:only-of-type {\n",
       "        vertical-align: middle;\n",
       "    }\n",
       "\n",
       "    .dataframe tbody tr th {\n",
       "        vertical-align: top;\n",
       "    }\n",
       "\n",
       "    .dataframe thead th {\n",
       "        text-align: right;\n",
       "    }\n",
       "</style>\n",
       "<table border=\"1\" class=\"dataframe\">\n",
       "  <thead>\n",
       "    <tr style=\"text-align: right;\">\n",
       "      <th></th>\n",
       "      <th>area_type</th>\n",
       "      <th>availability</th>\n",
       "      <th>location</th>\n",
       "      <th>size</th>\n",
       "      <th>society</th>\n",
       "      <th>total_sqft</th>\n",
       "      <th>bath</th>\n",
       "      <th>balcony</th>\n",
       "      <th>price</th>\n",
       "    </tr>\n",
       "  </thead>\n",
       "  <tbody>\n",
       "    <tr>\n",
       "      <td>0</td>\n",
       "      <td>Super built-up  Area</td>\n",
       "      <td>Winter</td>\n",
       "      <td>Electronic City Phase II</td>\n",
       "      <td>2 BHK</td>\n",
       "      <td>Coomee</td>\n",
       "      <td>1056</td>\n",
       "      <td>2</td>\n",
       "      <td>1</td>\n",
       "      <td>39.07</td>\n",
       "    </tr>\n",
       "    <tr>\n",
       "      <td>1</td>\n",
       "      <td>Plot  Area</td>\n",
       "      <td>Ready To Move</td>\n",
       "      <td>Chikka Tirupathi</td>\n",
       "      <td>4 Bedroom</td>\n",
       "      <td>Theanmp</td>\n",
       "      <td>2600</td>\n",
       "      <td>5</td>\n",
       "      <td>3</td>\n",
       "      <td>120.00</td>\n",
       "    </tr>\n",
       "    <tr>\n",
       "      <td>2</td>\n",
       "      <td>Built-up  Area</td>\n",
       "      <td>Ready To Move</td>\n",
       "      <td>Uttarahalli</td>\n",
       "      <td>3 BHK</td>\n",
       "      <td>None</td>\n",
       "      <td>1440</td>\n",
       "      <td>2</td>\n",
       "      <td>3</td>\n",
       "      <td>62.00</td>\n",
       "    </tr>\n",
       "    <tr>\n",
       "      <td>3</td>\n",
       "      <td>Super built-up  Area</td>\n",
       "      <td>Ready To Move</td>\n",
       "      <td>Lingadheeranahalli</td>\n",
       "      <td>3 BHK</td>\n",
       "      <td>Soiewre</td>\n",
       "      <td>1521</td>\n",
       "      <td>3</td>\n",
       "      <td>1</td>\n",
       "      <td>95.00</td>\n",
       "    </tr>\n",
       "    <tr>\n",
       "      <td>4</td>\n",
       "      <td>Super built-up  Area</td>\n",
       "      <td>Ready To Move</td>\n",
       "      <td>Kothanur</td>\n",
       "      <td>2 BHK</td>\n",
       "      <td>None</td>\n",
       "      <td>1200</td>\n",
       "      <td>2</td>\n",
       "      <td>1</td>\n",
       "      <td>51.00</td>\n",
       "    </tr>\n",
       "  </tbody>\n",
       "</table>\n",
       "</div>"
      ],
      "text/plain": [
       "              area_type   availability                  location       size  \\\n",
       "0  Super built-up  Area         Winter  Electronic City Phase II      2 BHK   \n",
       "1            Plot  Area  Ready To Move          Chikka Tirupathi  4 Bedroom   \n",
       "2        Built-up  Area  Ready To Move               Uttarahalli      3 BHK   \n",
       "3  Super built-up  Area  Ready To Move        Lingadheeranahalli      3 BHK   \n",
       "4  Super built-up  Area  Ready To Move                  Kothanur      2 BHK   \n",
       "\n",
       "   society total_sqft  bath  balcony   price  \n",
       "0  Coomee        1056     2        1   39.07  \n",
       "1  Theanmp       2600     5        3  120.00  \n",
       "2     None       1440     2        3   62.00  \n",
       "3  Soiewre       1521     3        1   95.00  \n",
       "4     None       1200     2        1   51.00  "
      ]
     },
     "execution_count": 55,
     "metadata": {},
     "output_type": "execute_result"
    }
   ],
   "source": [
    "df1.head() #this part is ready to be converted"
   ]
  },
  {
   "cell_type": "code",
   "execution_count": 56,
   "metadata": {
    "ExecuteTime": {
     "end_time": "2020-02-09T04:31:05.547994Z",
     "start_time": "2020-02-09T04:31:05.522688Z"
    }
   },
   "outputs": [
    {
     "name": "stderr",
     "output_type": "stream",
     "text": [
      "C:\\Users\\ajoor\\Anaconda3\\lib\\site-packages\\pandas\\core\\indexing.py:494: SettingWithCopyWarning: \n",
      "A value is trying to be set on a copy of a slice from a DataFrame.\n",
      "Try using .loc[row_indexer,col_indexer] = value instead\n",
      "\n",
      "See the caveats in the documentation: http://pandas.pydata.org/pandas-docs/stable/user_guide/indexing.html#returning-a-view-versus-a-copy\n",
      "  self.obj[item] = s\n"
     ]
    }
   ],
   "source": [
    "df1.loc[:,\"total_sqft\"] = df1.loc[:,\"total_sqft\"].astype('int32')"
   ]
  },
  {
   "cell_type": "code",
   "execution_count": 57,
   "metadata": {
    "ExecuteTime": {
     "end_time": "2020-02-09T04:31:05.585153Z",
     "start_time": "2020-02-09T04:31:05.551949Z"
    },
    "scrolled": true
   },
   "outputs": [
    {
     "name": "stdout",
     "output_type": "stream",
     "text": [
      "<class 'pandas.core.frame.DataFrame'>\n",
      "Int64Index: 12986 entries, 0 to 13319\n",
      "Data columns (total 9 columns):\n",
      "area_type       12986 non-null category\n",
      "availability    12986 non-null category\n",
      "location        12986 non-null object\n",
      "size            12986 non-null object\n",
      "society         12986 non-null category\n",
      "total_sqft      12986 non-null int32\n",
      "bath            12986 non-null int32\n",
      "balcony         12986 non-null int32\n",
      "price           12986 non-null float64\n",
      "dtypes: category(3), float64(1), int32(3), object(2)\n",
      "memory usage: 710.1+ KB\n"
     ]
    }
   ],
   "source": [
    "df1.info() # Cleaned"
   ]
  },
  {
   "cell_type": "code",
   "execution_count": 58,
   "metadata": {
    "ExecuteTime": {
     "end_time": "2020-02-09T04:31:05.631743Z",
     "start_time": "2020-02-09T04:31:05.590915Z"
    }
   },
   "outputs": [
    {
     "data": {
      "text/html": [
       "<div>\n",
       "<style scoped>\n",
       "    .dataframe tbody tr th:only-of-type {\n",
       "        vertical-align: middle;\n",
       "    }\n",
       "\n",
       "    .dataframe tbody tr th {\n",
       "        vertical-align: top;\n",
       "    }\n",
       "\n",
       "    .dataframe thead th {\n",
       "        text-align: right;\n",
       "    }\n",
       "</style>\n",
       "<table border=\"1\" class=\"dataframe\">\n",
       "  <thead>\n",
       "    <tr style=\"text-align: right;\">\n",
       "      <th></th>\n",
       "      <th>area_type</th>\n",
       "      <th>availability</th>\n",
       "      <th>location</th>\n",
       "      <th>size</th>\n",
       "      <th>society</th>\n",
       "      <th>total_sqft</th>\n",
       "      <th>bath</th>\n",
       "      <th>balcony</th>\n",
       "      <th>price</th>\n",
       "    </tr>\n",
       "  </thead>\n",
       "  <tbody>\n",
       "    <tr>\n",
       "      <td>30</td>\n",
       "      <td>Super built-up  Area</td>\n",
       "      <td>Winter</td>\n",
       "      <td>Yelahanka</td>\n",
       "      <td>4 BHK</td>\n",
       "      <td>LedorSa</td>\n",
       "      <td>2100 - 2850</td>\n",
       "      <td>4</td>\n",
       "      <td>0</td>\n",
       "      <td>186.00</td>\n",
       "    </tr>\n",
       "    <tr>\n",
       "      <td>44</td>\n",
       "      <td>Super built-up  Area</td>\n",
       "      <td>Fall</td>\n",
       "      <td>Kanakpura Road</td>\n",
       "      <td>2 BHK</td>\n",
       "      <td>Soazak</td>\n",
       "      <td>1330.74</td>\n",
       "      <td>2</td>\n",
       "      <td>2</td>\n",
       "      <td>91.79</td>\n",
       "    </tr>\n",
       "    <tr>\n",
       "      <td>56</td>\n",
       "      <td>Built-up  Area</td>\n",
       "      <td>Winter</td>\n",
       "      <td>Devanahalli</td>\n",
       "      <td>4 Bedroom</td>\n",
       "      <td>BrereAt</td>\n",
       "      <td>3010 - 3410</td>\n",
       "      <td>4</td>\n",
       "      <td>2</td>\n",
       "      <td>192.00</td>\n",
       "    </tr>\n",
       "    <tr>\n",
       "      <td>81</td>\n",
       "      <td>Built-up  Area</td>\n",
       "      <td>Fall</td>\n",
       "      <td>Hennur Road</td>\n",
       "      <td>4 Bedroom</td>\n",
       "      <td>Gollela</td>\n",
       "      <td>2957 - 3450</td>\n",
       "      <td>4</td>\n",
       "      <td>2</td>\n",
       "      <td>224.50</td>\n",
       "    </tr>\n",
       "    <tr>\n",
       "      <td>122</td>\n",
       "      <td>Super built-up  Area</td>\n",
       "      <td>Spring</td>\n",
       "      <td>Hebbal</td>\n",
       "      <td>4 BHK</td>\n",
       "      <td>SNontle</td>\n",
       "      <td>3067 - 8156</td>\n",
       "      <td>4</td>\n",
       "      <td>0</td>\n",
       "      <td>477.00</td>\n",
       "    </tr>\n",
       "  </tbody>\n",
       "</table>\n",
       "</div>"
      ],
      "text/plain": [
       "                area_type availability        location       size  society  \\\n",
       "30   Super built-up  Area       Winter       Yelahanka      4 BHK  LedorSa   \n",
       "44   Super built-up  Area         Fall  Kanakpura Road      2 BHK  Soazak    \n",
       "56         Built-up  Area       Winter     Devanahalli  4 Bedroom  BrereAt   \n",
       "81         Built-up  Area         Fall     Hennur Road  4 Bedroom  Gollela   \n",
       "122  Super built-up  Area       Spring          Hebbal      4 BHK  SNontle   \n",
       "\n",
       "      total_sqft  bath  balcony   price  \n",
       "30   2100 - 2850     4        0  186.00  \n",
       "44       1330.74     2        2   91.79  \n",
       "56   3010 - 3410     4        2  192.00  \n",
       "81   2957 - 3450     4        2  224.50  \n",
       "122  3067 - 8156     4        0  477.00  "
      ]
     },
     "execution_count": 58,
     "metadata": {},
     "output_type": "execute_result"
    }
   ],
   "source": [
    "df2.head()"
   ]
  },
  {
   "cell_type": "code",
   "execution_count": 59,
   "metadata": {
    "ExecuteTime": {
     "end_time": "2020-02-09T04:31:05.687430Z",
     "start_time": "2020-02-09T04:31:05.637854Z"
    }
   },
   "outputs": [
    {
     "name": "stdout",
     "output_type": "stream",
     "text": [
      "(133, 9)\n"
     ]
    },
    {
     "data": {
      "text/html": [
       "<div>\n",
       "<style scoped>\n",
       "    .dataframe tbody tr th:only-of-type {\n",
       "        vertical-align: middle;\n",
       "    }\n",
       "\n",
       "    .dataframe tbody tr th {\n",
       "        vertical-align: top;\n",
       "    }\n",
       "\n",
       "    .dataframe thead th {\n",
       "        text-align: right;\n",
       "    }\n",
       "</style>\n",
       "<table border=\"1\" class=\"dataframe\">\n",
       "  <thead>\n",
       "    <tr style=\"text-align: right;\">\n",
       "      <th></th>\n",
       "      <th>area_type</th>\n",
       "      <th>availability</th>\n",
       "      <th>location</th>\n",
       "      <th>size</th>\n",
       "      <th>society</th>\n",
       "      <th>total_sqft</th>\n",
       "      <th>bath</th>\n",
       "      <th>balcony</th>\n",
       "      <th>price</th>\n",
       "    </tr>\n",
       "  </thead>\n",
       "  <tbody>\n",
       "    <tr>\n",
       "      <td>44</td>\n",
       "      <td>Super built-up  Area</td>\n",
       "      <td>Fall</td>\n",
       "      <td>Kanakpura Road</td>\n",
       "      <td>2 BHK</td>\n",
       "      <td>Soazak</td>\n",
       "      <td>1330.74</td>\n",
       "      <td>2</td>\n",
       "      <td>2</td>\n",
       "      <td>91.79</td>\n",
       "    </tr>\n",
       "    <tr>\n",
       "      <td>142</td>\n",
       "      <td>Super built-up  Area</td>\n",
       "      <td>Ready To Move</td>\n",
       "      <td>Kasavanhalli</td>\n",
       "      <td>3 BHK</td>\n",
       "      <td>HMwerCo</td>\n",
       "      <td>1563.05</td>\n",
       "      <td>3</td>\n",
       "      <td>1</td>\n",
       "      <td>105.00</td>\n",
       "    </tr>\n",
       "    <tr>\n",
       "      <td>373</td>\n",
       "      <td>Super built-up  Area</td>\n",
       "      <td>Spring</td>\n",
       "      <td>Gopalapura</td>\n",
       "      <td>3 BHK</td>\n",
       "      <td>Sothadr</td>\n",
       "      <td>2023.71</td>\n",
       "      <td>3</td>\n",
       "      <td>2</td>\n",
       "      <td>275.00</td>\n",
       "    </tr>\n",
       "    <tr>\n",
       "      <td>393</td>\n",
       "      <td>Super built-up  Area</td>\n",
       "      <td>Ready To Move</td>\n",
       "      <td>Electronics City Phase 1</td>\n",
       "      <td>2 BHK</td>\n",
       "      <td>Courf T</td>\n",
       "      <td>1113.27</td>\n",
       "      <td>2</td>\n",
       "      <td>2</td>\n",
       "      <td>53.00</td>\n",
       "    </tr>\n",
       "    <tr>\n",
       "      <td>410</td>\n",
       "      <td>Super built-up  Area</td>\n",
       "      <td>Ready To Move</td>\n",
       "      <td>Kengeri</td>\n",
       "      <td>1 BHK</td>\n",
       "      <td>None</td>\n",
       "      <td>34.46Sq. Meter</td>\n",
       "      <td>1</td>\n",
       "      <td>0</td>\n",
       "      <td>18.50</td>\n",
       "    </tr>\n",
       "  </tbody>\n",
       "</table>\n",
       "</div>"
      ],
      "text/plain": [
       "                area_type   availability                  location   size  \\\n",
       "44   Super built-up  Area           Fall            Kanakpura Road  2 BHK   \n",
       "142  Super built-up  Area  Ready To Move              Kasavanhalli  3 BHK   \n",
       "373  Super built-up  Area         Spring                Gopalapura  3 BHK   \n",
       "393  Super built-up  Area  Ready To Move  Electronics City Phase 1  2 BHK   \n",
       "410  Super built-up  Area  Ready To Move                   Kengeri  1 BHK   \n",
       "\n",
       "     society      total_sqft  bath  balcony   price  \n",
       "44   Soazak          1330.74     2        2   91.79  \n",
       "142  HMwerCo         1563.05     3        1  105.00  \n",
       "373  Sothadr         2023.71     3        2  275.00  \n",
       "393  Courf T         1113.27     2        2   53.00  \n",
       "410     None  34.46Sq. Meter     1        0   18.50  "
      ]
     },
     "execution_count": 59,
     "metadata": {},
     "output_type": "execute_result"
    }
   ],
   "source": [
    "print(df2[df2['total_sqft'].str.contains(\"-\")==False].shape)\n",
    "df2[df2['total_sqft'].str.contains(\"-\")==False].head(5)"
   ]
  },
  {
   "cell_type": "code",
   "execution_count": 60,
   "metadata": {
    "ExecuteTime": {
     "end_time": "2020-02-09T04:31:05.724116Z",
     "start_time": "2020-02-09T04:31:05.691462Z"
    }
   },
   "outputs": [],
   "source": [
    "df21 = df2[df2['total_sqft'].str.contains(\"-\")==False]\n",
    "df22 = df2[df2['total_sqft'].str.contains(\"-\")==True]"
   ]
  },
  {
   "cell_type": "code",
   "execution_count": 61,
   "metadata": {
    "ExecuteTime": {
     "end_time": "2020-02-09T04:31:05.773226Z",
     "start_time": "2020-02-09T04:31:05.727698Z"
    }
   },
   "outputs": [
    {
     "data": {
      "text/html": [
       "<div>\n",
       "<style scoped>\n",
       "    .dataframe tbody tr th:only-of-type {\n",
       "        vertical-align: middle;\n",
       "    }\n",
       "\n",
       "    .dataframe tbody tr th {\n",
       "        vertical-align: top;\n",
       "    }\n",
       "\n",
       "    .dataframe thead th {\n",
       "        text-align: right;\n",
       "    }\n",
       "</style>\n",
       "<table border=\"1\" class=\"dataframe\">\n",
       "  <thead>\n",
       "    <tr style=\"text-align: right;\">\n",
       "      <th></th>\n",
       "      <th>area_type</th>\n",
       "      <th>availability</th>\n",
       "      <th>location</th>\n",
       "      <th>size</th>\n",
       "      <th>society</th>\n",
       "      <th>total_sqft</th>\n",
       "      <th>bath</th>\n",
       "      <th>balcony</th>\n",
       "      <th>price</th>\n",
       "    </tr>\n",
       "  </thead>\n",
       "  <tbody>\n",
       "    <tr>\n",
       "      <td>30</td>\n",
       "      <td>Super built-up  Area</td>\n",
       "      <td>Winter</td>\n",
       "      <td>Yelahanka</td>\n",
       "      <td>4 BHK</td>\n",
       "      <td>LedorSa</td>\n",
       "      <td>2100 - 2850</td>\n",
       "      <td>4</td>\n",
       "      <td>0</td>\n",
       "      <td>186.0</td>\n",
       "    </tr>\n",
       "    <tr>\n",
       "      <td>56</td>\n",
       "      <td>Built-up  Area</td>\n",
       "      <td>Winter</td>\n",
       "      <td>Devanahalli</td>\n",
       "      <td>4 Bedroom</td>\n",
       "      <td>BrereAt</td>\n",
       "      <td>3010 - 3410</td>\n",
       "      <td>4</td>\n",
       "      <td>2</td>\n",
       "      <td>192.0</td>\n",
       "    </tr>\n",
       "  </tbody>\n",
       "</table>\n",
       "</div>"
      ],
      "text/plain": [
       "               area_type availability     location       size  society  \\\n",
       "30  Super built-up  Area       Winter    Yelahanka      4 BHK  LedorSa   \n",
       "56        Built-up  Area       Winter  Devanahalli  4 Bedroom  BrereAt   \n",
       "\n",
       "     total_sqft  bath  balcony  price  \n",
       "30  2100 - 2850     4        0  186.0  \n",
       "56  3010 - 3410     4        2  192.0  "
      ]
     },
     "execution_count": 61,
     "metadata": {},
     "output_type": "execute_result"
    }
   ],
   "source": [
    "df22.head(2)"
   ]
  },
  {
   "cell_type": "code",
   "execution_count": 62,
   "metadata": {
    "ExecuteTime": {
     "end_time": "2020-02-09T04:31:05.836323Z",
     "start_time": "2020-02-09T04:31:05.780805Z"
    }
   },
   "outputs": [
    {
     "data": {
      "text/html": [
       "<div>\n",
       "<style scoped>\n",
       "    .dataframe tbody tr th:only-of-type {\n",
       "        vertical-align: middle;\n",
       "    }\n",
       "\n",
       "    .dataframe tbody tr th {\n",
       "        vertical-align: top;\n",
       "    }\n",
       "\n",
       "    .dataframe thead th {\n",
       "        text-align: right;\n",
       "    }\n",
       "</style>\n",
       "<table border=\"1\" class=\"dataframe\">\n",
       "  <thead>\n",
       "    <tr style=\"text-align: right;\">\n",
       "      <th></th>\n",
       "      <th>area_type</th>\n",
       "      <th>availability</th>\n",
       "      <th>location</th>\n",
       "      <th>size</th>\n",
       "      <th>society</th>\n",
       "      <th>total_sqft</th>\n",
       "      <th>bath</th>\n",
       "      <th>balcony</th>\n",
       "      <th>price</th>\n",
       "    </tr>\n",
       "  </thead>\n",
       "  <tbody>\n",
       "    <tr>\n",
       "      <td>44</td>\n",
       "      <td>Super built-up  Area</td>\n",
       "      <td>Fall</td>\n",
       "      <td>Kanakpura Road</td>\n",
       "      <td>2 BHK</td>\n",
       "      <td>Soazak</td>\n",
       "      <td>1330.74</td>\n",
       "      <td>2</td>\n",
       "      <td>2</td>\n",
       "      <td>91.79</td>\n",
       "    </tr>\n",
       "    <tr>\n",
       "      <td>142</td>\n",
       "      <td>Super built-up  Area</td>\n",
       "      <td>Ready To Move</td>\n",
       "      <td>Kasavanhalli</td>\n",
       "      <td>3 BHK</td>\n",
       "      <td>HMwerCo</td>\n",
       "      <td>1563.05</td>\n",
       "      <td>3</td>\n",
       "      <td>1</td>\n",
       "      <td>105.00</td>\n",
       "    </tr>\n",
       "  </tbody>\n",
       "</table>\n",
       "</div>"
      ],
      "text/plain": [
       "                area_type   availability        location   size  society  \\\n",
       "44   Super built-up  Area           Fall  Kanakpura Road  2 BHK  Soazak    \n",
       "142  Super built-up  Area  Ready To Move    Kasavanhalli  3 BHK  HMwerCo   \n",
       "\n",
       "    total_sqft  bath  balcony   price  \n",
       "44     1330.74     2        2   91.79  \n",
       "142    1563.05     3        1  105.00  "
      ]
     },
     "execution_count": 62,
     "metadata": {},
     "output_type": "execute_result"
    }
   ],
   "source": [
    "df21.head(2)"
   ]
  },
  {
   "cell_type": "code",
   "execution_count": 63,
   "metadata": {
    "ExecuteTime": {
     "end_time": "2020-02-09T04:31:05.856201Z",
     "start_time": "2020-02-09T04:31:05.843458Z"
    }
   },
   "outputs": [],
   "source": [
    "x = df21['total_sqft'].str.match('\\d*\\.\\d*$')"
   ]
  },
  {
   "cell_type": "code",
   "execution_count": 64,
   "metadata": {
    "ExecuteTime": {
     "end_time": "2020-02-09T04:31:05.876772Z",
     "start_time": "2020-02-09T04:31:05.863346Z"
    }
   },
   "outputs": [],
   "source": [
    "df211 = df21[x==True]  #Done \n",
    "df212 = df21[x==False] #Done"
   ]
  },
  {
   "cell_type": "code",
   "execution_count": 65,
   "metadata": {
    "ExecuteTime": {
     "end_time": "2020-02-09T04:31:05.900129Z",
     "start_time": "2020-02-09T04:31:05.882048Z"
    }
   },
   "outputs": [],
   "source": [
    "df211.loc[:,\"total_sqft\"] = round(df211.loc[:,\"total_sqft\"].astype('float'),0).astype('int32')"
   ]
  },
  {
   "cell_type": "code",
   "execution_count": 66,
   "metadata": {
    "ExecuteTime": {
     "end_time": "2020-02-09T04:31:05.959263Z",
     "start_time": "2020-02-09T04:31:05.907202Z"
    }
   },
   "outputs": [
    {
     "data": {
      "text/html": [
       "<div>\n",
       "<style scoped>\n",
       "    .dataframe tbody tr th:only-of-type {\n",
       "        vertical-align: middle;\n",
       "    }\n",
       "\n",
       "    .dataframe tbody tr th {\n",
       "        vertical-align: top;\n",
       "    }\n",
       "\n",
       "    .dataframe thead th {\n",
       "        text-align: right;\n",
       "    }\n",
       "</style>\n",
       "<table border=\"1\" class=\"dataframe\">\n",
       "  <thead>\n",
       "    <tr style=\"text-align: right;\">\n",
       "      <th></th>\n",
       "      <th>area_type</th>\n",
       "      <th>availability</th>\n",
       "      <th>location</th>\n",
       "      <th>size</th>\n",
       "      <th>society</th>\n",
       "      <th>total_sqft</th>\n",
       "      <th>bath</th>\n",
       "      <th>balcony</th>\n",
       "      <th>price</th>\n",
       "    </tr>\n",
       "  </thead>\n",
       "  <tbody>\n",
       "    <tr>\n",
       "      <td>410</td>\n",
       "      <td>Super built-up  Area</td>\n",
       "      <td>Ready To Move</td>\n",
       "      <td>Kengeri</td>\n",
       "      <td>1 BHK</td>\n",
       "      <td>None</td>\n",
       "      <td>34.46Sq. Meter</td>\n",
       "      <td>1</td>\n",
       "      <td>0</td>\n",
       "      <td>18.5</td>\n",
       "    </tr>\n",
       "    <tr>\n",
       "      <td>648</td>\n",
       "      <td>Built-up  Area</td>\n",
       "      <td>Ready To Move</td>\n",
       "      <td>Arekere</td>\n",
       "      <td>9 Bedroom</td>\n",
       "      <td>None</td>\n",
       "      <td>4125Perch</td>\n",
       "      <td>9</td>\n",
       "      <td>2</td>\n",
       "      <td>265.0</td>\n",
       "    </tr>\n",
       "    <tr>\n",
       "      <td>775</td>\n",
       "      <td>Built-up  Area</td>\n",
       "      <td>Ready To Move</td>\n",
       "      <td>Basavanagara</td>\n",
       "      <td>1 BHK</td>\n",
       "      <td>None</td>\n",
       "      <td>1000Sq. Meter</td>\n",
       "      <td>2</td>\n",
       "      <td>1</td>\n",
       "      <td>93.0</td>\n",
       "    </tr>\n",
       "    <tr>\n",
       "      <td>872</td>\n",
       "      <td>Super built-up  Area</td>\n",
       "      <td>Ready To Move</td>\n",
       "      <td>Singapura Village</td>\n",
       "      <td>2 BHK</td>\n",
       "      <td>None</td>\n",
       "      <td>1100Sq. Yards</td>\n",
       "      <td>2</td>\n",
       "      <td>1</td>\n",
       "      <td>45.0</td>\n",
       "    </tr>\n",
       "    <tr>\n",
       "      <td>1019</td>\n",
       "      <td>Plot  Area</td>\n",
       "      <td>Spring</td>\n",
       "      <td>Marathi Layout</td>\n",
       "      <td>1 Bedroom</td>\n",
       "      <td>None</td>\n",
       "      <td>5.31Acres</td>\n",
       "      <td>1</td>\n",
       "      <td>0</td>\n",
       "      <td>110.0</td>\n",
       "    </tr>\n",
       "    <tr>\n",
       "      <td>1086</td>\n",
       "      <td>Plot  Area</td>\n",
       "      <td>Spring</td>\n",
       "      <td>Narasapura</td>\n",
       "      <td>2 Bedroom</td>\n",
       "      <td>None</td>\n",
       "      <td>30Acres</td>\n",
       "      <td>2</td>\n",
       "      <td>2</td>\n",
       "      <td>29.5</td>\n",
       "    </tr>\n",
       "    <tr>\n",
       "      <td>1400</td>\n",
       "      <td>Super built-up  Area</td>\n",
       "      <td>Ready To Move</td>\n",
       "      <td>Chamrajpet</td>\n",
       "      <td>9 BHK</td>\n",
       "      <td>None</td>\n",
       "      <td>716Sq. Meter</td>\n",
       "      <td>9</td>\n",
       "      <td>1</td>\n",
       "      <td>296.0</td>\n",
       "    </tr>\n",
       "    <tr>\n",
       "      <td>1712</td>\n",
       "      <td>Plot  Area</td>\n",
       "      <td>Ready To Move</td>\n",
       "      <td>Singena Agrahara</td>\n",
       "      <td>3 Bedroom</td>\n",
       "      <td>CoiewSy</td>\n",
       "      <td>1500Sq. Meter</td>\n",
       "      <td>3</td>\n",
       "      <td>1</td>\n",
       "      <td>95.0</td>\n",
       "    </tr>\n",
       "    <tr>\n",
       "      <td>1743</td>\n",
       "      <td>Super built-up  Area</td>\n",
       "      <td>Spring</td>\n",
       "      <td>Hosa Road</td>\n",
       "      <td>3 BHK</td>\n",
       "      <td>Sosisic</td>\n",
       "      <td>142.61Sq. Meter</td>\n",
       "      <td>3</td>\n",
       "      <td>1</td>\n",
       "      <td>115.0</td>\n",
       "    </tr>\n",
       "    <tr>\n",
       "      <td>1821</td>\n",
       "      <td>Plot  Area</td>\n",
       "      <td>Ready To Move</td>\n",
       "      <td>Sarjapur</td>\n",
       "      <td>3 Bedroom</td>\n",
       "      <td>Inensba</td>\n",
       "      <td>1574Sq. Yards</td>\n",
       "      <td>3</td>\n",
       "      <td>1</td>\n",
       "      <td>76.0</td>\n",
       "    </tr>\n",
       "  </tbody>\n",
       "</table>\n",
       "</div>"
      ],
      "text/plain": [
       "                 area_type   availability           location       size  \\\n",
       "410   Super built-up  Area  Ready To Move            Kengeri      1 BHK   \n",
       "648         Built-up  Area  Ready To Move            Arekere  9 Bedroom   \n",
       "775         Built-up  Area  Ready To Move       Basavanagara      1 BHK   \n",
       "872   Super built-up  Area  Ready To Move  Singapura Village      2 BHK   \n",
       "1019            Plot  Area         Spring     Marathi Layout  1 Bedroom   \n",
       "1086            Plot  Area         Spring         Narasapura  2 Bedroom   \n",
       "1400  Super built-up  Area  Ready To Move         Chamrajpet      9 BHK   \n",
       "1712            Plot  Area  Ready To Move   Singena Agrahara  3 Bedroom   \n",
       "1743  Super built-up  Area         Spring          Hosa Road      3 BHK   \n",
       "1821            Plot  Area  Ready To Move           Sarjapur  3 Bedroom   \n",
       "\n",
       "      society       total_sqft  bath  balcony  price  \n",
       "410      None   34.46Sq. Meter     1        0   18.5  \n",
       "648      None        4125Perch     9        2  265.0  \n",
       "775      None    1000Sq. Meter     2        1   93.0  \n",
       "872      None    1100Sq. Yards     2        1   45.0  \n",
       "1019     None        5.31Acres     1        0  110.0  \n",
       "1086     None          30Acres     2        2   29.5  \n",
       "1400     None     716Sq. Meter     9        1  296.0  \n",
       "1712  CoiewSy    1500Sq. Meter     3        1   95.0  \n",
       "1743  Sosisic  142.61Sq. Meter     3        1  115.0  \n",
       "1821  Inensba    1574Sq. Yards     3        1   76.0  "
      ]
     },
     "execution_count": 66,
     "metadata": {},
     "output_type": "execute_result"
    }
   ],
   "source": [
    "df212.head(10)"
   ]
  },
  {
   "cell_type": "code",
   "execution_count": 67,
   "metadata": {
    "ExecuteTime": {
     "end_time": "2020-02-09T04:31:05.986117Z",
     "start_time": "2020-02-09T04:31:05.964358Z"
    }
   },
   "outputs": [
    {
     "name": "stderr",
     "output_type": "stream",
     "text": [
      "C:\\Users\\ajoor\\Anaconda3\\lib\\site-packages\\pandas\\core\\indexing.py:376: SettingWithCopyWarning: \n",
      "A value is trying to be set on a copy of a slice from a DataFrame.\n",
      "Try using .loc[row_indexer,col_indexer] = value instead\n",
      "\n",
      "See the caveats in the documentation: http://pandas.pydata.org/pandas-docs/stable/user_guide/indexing.html#returning-a-view-versus-a-copy\n",
      "  self.obj[key] = _infer_fill_value(value)\n"
     ]
    }
   ],
   "source": [
    "df212.loc[:,\"Unit\"] = df212.loc[:,\"total_sqft\"].str[-5:]"
   ]
  },
  {
   "cell_type": "code",
   "execution_count": 68,
   "metadata": {
    "ExecuteTime": {
     "end_time": "2020-02-09T04:31:06.047767Z",
     "start_time": "2020-02-09T04:31:05.992644Z"
    }
   },
   "outputs": [
    {
     "data": {
      "text/html": [
       "<div>\n",
       "<style scoped>\n",
       "    .dataframe tbody tr th:only-of-type {\n",
       "        vertical-align: middle;\n",
       "    }\n",
       "\n",
       "    .dataframe tbody tr th {\n",
       "        vertical-align: top;\n",
       "    }\n",
       "\n",
       "    .dataframe thead th {\n",
       "        text-align: right;\n",
       "    }\n",
       "</style>\n",
       "<table border=\"1\" class=\"dataframe\">\n",
       "  <thead>\n",
       "    <tr style=\"text-align: right;\">\n",
       "      <th></th>\n",
       "      <th>area_type</th>\n",
       "      <th>availability</th>\n",
       "      <th>location</th>\n",
       "      <th>size</th>\n",
       "      <th>society</th>\n",
       "      <th>total_sqft</th>\n",
       "      <th>bath</th>\n",
       "      <th>balcony</th>\n",
       "      <th>price</th>\n",
       "      <th>Unit</th>\n",
       "    </tr>\n",
       "  </thead>\n",
       "  <tbody>\n",
       "    <tr>\n",
       "      <td>410</td>\n",
       "      <td>Super built-up  Area</td>\n",
       "      <td>Ready To Move</td>\n",
       "      <td>Kengeri</td>\n",
       "      <td>1 BHK</td>\n",
       "      <td>None</td>\n",
       "      <td>34.46Sq. Meter</td>\n",
       "      <td>1</td>\n",
       "      <td>0</td>\n",
       "      <td>18.5</td>\n",
       "      <td>Meter</td>\n",
       "    </tr>\n",
       "    <tr>\n",
       "      <td>648</td>\n",
       "      <td>Built-up  Area</td>\n",
       "      <td>Ready To Move</td>\n",
       "      <td>Arekere</td>\n",
       "      <td>9 Bedroom</td>\n",
       "      <td>None</td>\n",
       "      <td>4125Perch</td>\n",
       "      <td>9</td>\n",
       "      <td>2</td>\n",
       "      <td>265.0</td>\n",
       "      <td>Perch</td>\n",
       "    </tr>\n",
       "    <tr>\n",
       "      <td>775</td>\n",
       "      <td>Built-up  Area</td>\n",
       "      <td>Ready To Move</td>\n",
       "      <td>Basavanagara</td>\n",
       "      <td>1 BHK</td>\n",
       "      <td>None</td>\n",
       "      <td>1000Sq. Meter</td>\n",
       "      <td>2</td>\n",
       "      <td>1</td>\n",
       "      <td>93.0</td>\n",
       "      <td>Meter</td>\n",
       "    </tr>\n",
       "    <tr>\n",
       "      <td>872</td>\n",
       "      <td>Super built-up  Area</td>\n",
       "      <td>Ready To Move</td>\n",
       "      <td>Singapura Village</td>\n",
       "      <td>2 BHK</td>\n",
       "      <td>None</td>\n",
       "      <td>1100Sq. Yards</td>\n",
       "      <td>2</td>\n",
       "      <td>1</td>\n",
       "      <td>45.0</td>\n",
       "      <td>Yards</td>\n",
       "    </tr>\n",
       "    <tr>\n",
       "      <td>1019</td>\n",
       "      <td>Plot  Area</td>\n",
       "      <td>Spring</td>\n",
       "      <td>Marathi Layout</td>\n",
       "      <td>1 Bedroom</td>\n",
       "      <td>None</td>\n",
       "      <td>5.31Acres</td>\n",
       "      <td>1</td>\n",
       "      <td>0</td>\n",
       "      <td>110.0</td>\n",
       "      <td>Acres</td>\n",
       "    </tr>\n",
       "    <tr>\n",
       "      <td>1086</td>\n",
       "      <td>Plot  Area</td>\n",
       "      <td>Spring</td>\n",
       "      <td>Narasapura</td>\n",
       "      <td>2 Bedroom</td>\n",
       "      <td>None</td>\n",
       "      <td>30Acres</td>\n",
       "      <td>2</td>\n",
       "      <td>2</td>\n",
       "      <td>29.5</td>\n",
       "      <td>Acres</td>\n",
       "    </tr>\n",
       "    <tr>\n",
       "      <td>1400</td>\n",
       "      <td>Super built-up  Area</td>\n",
       "      <td>Ready To Move</td>\n",
       "      <td>Chamrajpet</td>\n",
       "      <td>9 BHK</td>\n",
       "      <td>None</td>\n",
       "      <td>716Sq. Meter</td>\n",
       "      <td>9</td>\n",
       "      <td>1</td>\n",
       "      <td>296.0</td>\n",
       "      <td>Meter</td>\n",
       "    </tr>\n",
       "    <tr>\n",
       "      <td>1712</td>\n",
       "      <td>Plot  Area</td>\n",
       "      <td>Ready To Move</td>\n",
       "      <td>Singena Agrahara</td>\n",
       "      <td>3 Bedroom</td>\n",
       "      <td>CoiewSy</td>\n",
       "      <td>1500Sq. Meter</td>\n",
       "      <td>3</td>\n",
       "      <td>1</td>\n",
       "      <td>95.0</td>\n",
       "      <td>Meter</td>\n",
       "    </tr>\n",
       "    <tr>\n",
       "      <td>1743</td>\n",
       "      <td>Super built-up  Area</td>\n",
       "      <td>Spring</td>\n",
       "      <td>Hosa Road</td>\n",
       "      <td>3 BHK</td>\n",
       "      <td>Sosisic</td>\n",
       "      <td>142.61Sq. Meter</td>\n",
       "      <td>3</td>\n",
       "      <td>1</td>\n",
       "      <td>115.0</td>\n",
       "      <td>Meter</td>\n",
       "    </tr>\n",
       "    <tr>\n",
       "      <td>1821</td>\n",
       "      <td>Plot  Area</td>\n",
       "      <td>Ready To Move</td>\n",
       "      <td>Sarjapur</td>\n",
       "      <td>3 Bedroom</td>\n",
       "      <td>Inensba</td>\n",
       "      <td>1574Sq. Yards</td>\n",
       "      <td>3</td>\n",
       "      <td>1</td>\n",
       "      <td>76.0</td>\n",
       "      <td>Yards</td>\n",
       "    </tr>\n",
       "  </tbody>\n",
       "</table>\n",
       "</div>"
      ],
      "text/plain": [
       "                 area_type   availability           location       size  \\\n",
       "410   Super built-up  Area  Ready To Move            Kengeri      1 BHK   \n",
       "648         Built-up  Area  Ready To Move            Arekere  9 Bedroom   \n",
       "775         Built-up  Area  Ready To Move       Basavanagara      1 BHK   \n",
       "872   Super built-up  Area  Ready To Move  Singapura Village      2 BHK   \n",
       "1019            Plot  Area         Spring     Marathi Layout  1 Bedroom   \n",
       "1086            Plot  Area         Spring         Narasapura  2 Bedroom   \n",
       "1400  Super built-up  Area  Ready To Move         Chamrajpet      9 BHK   \n",
       "1712            Plot  Area  Ready To Move   Singena Agrahara  3 Bedroom   \n",
       "1743  Super built-up  Area         Spring          Hosa Road      3 BHK   \n",
       "1821            Plot  Area  Ready To Move           Sarjapur  3 Bedroom   \n",
       "\n",
       "      society       total_sqft  bath  balcony  price   Unit  \n",
       "410      None   34.46Sq. Meter     1        0   18.5  Meter  \n",
       "648      None        4125Perch     9        2  265.0  Perch  \n",
       "775      None    1000Sq. Meter     2        1   93.0  Meter  \n",
       "872      None    1100Sq. Yards     2        1   45.0  Yards  \n",
       "1019     None        5.31Acres     1        0  110.0  Acres  \n",
       "1086     None          30Acres     2        2   29.5  Acres  \n",
       "1400     None     716Sq. Meter     9        1  296.0  Meter  \n",
       "1712  CoiewSy    1500Sq. Meter     3        1   95.0  Meter  \n",
       "1743  Sosisic  142.61Sq. Meter     3        1  115.0  Meter  \n",
       "1821  Inensba    1574Sq. Yards     3        1   76.0  Yards  "
      ]
     },
     "execution_count": 68,
     "metadata": {},
     "output_type": "execute_result"
    }
   ],
   "source": [
    "df212.head(10)"
   ]
  },
  {
   "cell_type": "code",
   "execution_count": 69,
   "metadata": {
    "ExecuteTime": {
     "end_time": "2020-02-09T04:31:06.074685Z",
     "start_time": "2020-02-09T04:31:06.052790Z"
    }
   },
   "outputs": [],
   "source": [
    "# converting functions\n",
    "def meter_to_sqft(x): # Assuming 1 sq_meter = 10.7639 sqft\n",
    "    return(round(x*(10.7639),1))\n",
    "def acres_to_sqft(x):  # Assuming 1 Acre = 43560 sqft\n",
    "    return(round(x*(43560),1))\n",
    "def yards_to_sqft(x): # Assuming 1 yard = 9 sqft\n",
    "    return(round(x*(9),1))\n",
    "def guntha_to_sqft(x): # Assuming 1 guntha = 1089 sqft\n",
    "    return(round(x*(1089),1))\n",
    "def cents_to_sqft(x): # Assuming 1 cent = 435.6 sqft\n",
    "    return(round(x*(435.5),1))\n",
    "def perch_to_sqft(x): # ASsuming 1 perch = 272.25 sqft\n",
    "    return(round(x*(272.25),1))"
   ]
  },
  {
   "cell_type": "code",
   "execution_count": 70,
   "metadata": {
    "ExecuteTime": {
     "end_time": "2020-02-09T04:31:06.100099Z",
     "start_time": "2020-02-09T04:31:06.080449Z"
    }
   },
   "outputs": [],
   "source": [
    "df212.loc[:,\"Unit\"] = df212.loc[:,\"total_sqft\"].str[-5:]"
   ]
  },
  {
   "cell_type": "code",
   "execution_count": 71,
   "metadata": {
    "ExecuteTime": {
     "end_time": "2020-02-09T04:31:06.135636Z",
     "start_time": "2020-02-09T04:31:06.102910Z"
    }
   },
   "outputs": [],
   "source": [
    " #df212.loc[:,\"new_total_sqft\"] = \n",
    "x = df212.loc[:,\"total_sqft\"].str.findall(r'\\d+').tolist()\n",
    "\n",
    "new_xplit1_list = []\n",
    "new_xplit2_list = []\n",
    "\n",
    "for i in range(0,len(x)):\n",
    "    if len(x[i])==1:\n",
    "        new_xplit1_list.append(x[i][0])\n",
    "        new_xplit2_list.append(\"None\")\n",
    "    else:\n",
    "        new_xplit1_list.append(x[i][0])\n",
    "        new_xplit2_list.append(x[i][1])\n",
    "        \n",
    "df212.loc[:,\"xplit1\"] = new_xplit1_list\n",
    "df212.loc[:,\"xplit2\"] = new_xplit2_list"
   ]
  },
  {
   "cell_type": "code",
   "execution_count": 72,
   "metadata": {
    "ExecuteTime": {
     "end_time": "2020-02-09T04:31:06.185851Z",
     "start_time": "2020-02-09T04:31:06.143278Z"
    }
   },
   "outputs": [],
   "source": [
    "new_newtotal_sqft_list = []\n",
    "\n",
    "for index, row in df212.iterrows():    \n",
    "    if row['xplit2']==\"None\":\n",
    "        new_newtotal_sqft_list.append(row['xplit1'])\n",
    "    else:\n",
    "        new_newtotal_sqft_list.append(row['xplit1']+\".\"+row['xplit2'])\n",
    "\n",
    "df212.loc[:,\"total_sqft\"] = new_newtotal_sqft_list"
   ]
  },
  {
   "cell_type": "code",
   "execution_count": 73,
   "metadata": {
    "ExecuteTime": {
     "end_time": "2020-02-09T04:31:06.210132Z",
     "start_time": "2020-02-09T04:31:06.192645Z"
    }
   },
   "outputs": [
    {
     "name": "stderr",
     "output_type": "stream",
     "text": [
      "C:\\Users\\ajoor\\Anaconda3\\lib\\site-packages\\pandas\\core\\frame.py:4102: SettingWithCopyWarning: \n",
      "A value is trying to be set on a copy of a slice from a DataFrame\n",
      "\n",
      "See the caveats in the documentation: http://pandas.pydata.org/pandas-docs/stable/user_guide/indexing.html#returning-a-view-versus-a-copy\n",
      "  errors=errors,\n"
     ]
    }
   ],
   "source": [
    "df212.drop(['xplit1', 'xplit2'], axis=1, inplace=True)"
   ]
  },
  {
   "cell_type": "code",
   "execution_count": 74,
   "metadata": {
    "ExecuteTime": {
     "end_time": "2020-02-09T04:31:06.234168Z",
     "start_time": "2020-02-09T04:31:06.217110Z"
    }
   },
   "outputs": [],
   "source": [
    "df212.loc[:,\"total_sqft\"] = round(df212.loc[:,\"total_sqft\"].astype('float'),0).astype('int32')"
   ]
  },
  {
   "cell_type": "code",
   "execution_count": 75,
   "metadata": {
    "ExecuteTime": {
     "end_time": "2020-02-09T04:31:06.286459Z",
     "start_time": "2020-02-09T04:31:06.240880Z"
    }
   },
   "outputs": [
    {
     "data": {
      "text/html": [
       "<div>\n",
       "<style scoped>\n",
       "    .dataframe tbody tr th:only-of-type {\n",
       "        vertical-align: middle;\n",
       "    }\n",
       "\n",
       "    .dataframe tbody tr th {\n",
       "        vertical-align: top;\n",
       "    }\n",
       "\n",
       "    .dataframe thead th {\n",
       "        text-align: right;\n",
       "    }\n",
       "</style>\n",
       "<table border=\"1\" class=\"dataframe\">\n",
       "  <thead>\n",
       "    <tr style=\"text-align: right;\">\n",
       "      <th></th>\n",
       "      <th>area_type</th>\n",
       "      <th>availability</th>\n",
       "      <th>location</th>\n",
       "      <th>size</th>\n",
       "      <th>society</th>\n",
       "      <th>total_sqft</th>\n",
       "      <th>bath</th>\n",
       "      <th>balcony</th>\n",
       "      <th>price</th>\n",
       "      <th>Unit</th>\n",
       "    </tr>\n",
       "  </thead>\n",
       "  <tbody>\n",
       "    <tr>\n",
       "      <td>410</td>\n",
       "      <td>Super built-up  Area</td>\n",
       "      <td>Ready To Move</td>\n",
       "      <td>Kengeri</td>\n",
       "      <td>1 BHK</td>\n",
       "      <td>None</td>\n",
       "      <td>34</td>\n",
       "      <td>1</td>\n",
       "      <td>0</td>\n",
       "      <td>18.5</td>\n",
       "      <td>Meter</td>\n",
       "    </tr>\n",
       "    <tr>\n",
       "      <td>648</td>\n",
       "      <td>Built-up  Area</td>\n",
       "      <td>Ready To Move</td>\n",
       "      <td>Arekere</td>\n",
       "      <td>9 Bedroom</td>\n",
       "      <td>None</td>\n",
       "      <td>4125</td>\n",
       "      <td>9</td>\n",
       "      <td>2</td>\n",
       "      <td>265.0</td>\n",
       "      <td>Perch</td>\n",
       "    </tr>\n",
       "    <tr>\n",
       "      <td>775</td>\n",
       "      <td>Built-up  Area</td>\n",
       "      <td>Ready To Move</td>\n",
       "      <td>Basavanagara</td>\n",
       "      <td>1 BHK</td>\n",
       "      <td>None</td>\n",
       "      <td>1000</td>\n",
       "      <td>2</td>\n",
       "      <td>1</td>\n",
       "      <td>93.0</td>\n",
       "      <td>Meter</td>\n",
       "    </tr>\n",
       "    <tr>\n",
       "      <td>872</td>\n",
       "      <td>Super built-up  Area</td>\n",
       "      <td>Ready To Move</td>\n",
       "      <td>Singapura Village</td>\n",
       "      <td>2 BHK</td>\n",
       "      <td>None</td>\n",
       "      <td>1100</td>\n",
       "      <td>2</td>\n",
       "      <td>1</td>\n",
       "      <td>45.0</td>\n",
       "      <td>Yards</td>\n",
       "    </tr>\n",
       "    <tr>\n",
       "      <td>1019</td>\n",
       "      <td>Plot  Area</td>\n",
       "      <td>Spring</td>\n",
       "      <td>Marathi Layout</td>\n",
       "      <td>1 Bedroom</td>\n",
       "      <td>None</td>\n",
       "      <td>5</td>\n",
       "      <td>1</td>\n",
       "      <td>0</td>\n",
       "      <td>110.0</td>\n",
       "      <td>Acres</td>\n",
       "    </tr>\n",
       "  </tbody>\n",
       "</table>\n",
       "</div>"
      ],
      "text/plain": [
       "                 area_type   availability           location       size  \\\n",
       "410   Super built-up  Area  Ready To Move            Kengeri      1 BHK   \n",
       "648         Built-up  Area  Ready To Move            Arekere  9 Bedroom   \n",
       "775         Built-up  Area  Ready To Move       Basavanagara      1 BHK   \n",
       "872   Super built-up  Area  Ready To Move  Singapura Village      2 BHK   \n",
       "1019            Plot  Area         Spring     Marathi Layout  1 Bedroom   \n",
       "\n",
       "     society  total_sqft  bath  balcony  price   Unit  \n",
       "410     None          34     1        0   18.5  Meter  \n",
       "648     None        4125     9        2  265.0  Perch  \n",
       "775     None        1000     2        1   93.0  Meter  \n",
       "872     None        1100     2        1   45.0  Yards  \n",
       "1019    None           5     1        0  110.0  Acres  "
      ]
     },
     "execution_count": 75,
     "metadata": {},
     "output_type": "execute_result"
    }
   ],
   "source": [
    "df212.head(5) # Ready to be coonverted to sqft"
   ]
  },
  {
   "cell_type": "code",
   "execution_count": 76,
   "metadata": {
    "ExecuteTime": {
     "end_time": "2020-02-09T04:31:06.334170Z",
     "start_time": "2020-02-09T04:31:06.292086Z"
    }
   },
   "outputs": [],
   "source": [
    "new_newtotal_sqft2_list = []\n",
    "\n",
    "for index, row in df212.iterrows():   \n",
    "    if row['Unit']=='Meter':\n",
    "        new_newtotal_sqft2_list.append(meter_to_sqft(row['total_sqft']))\n",
    "    elif row['Unit']=='Perch':\n",
    "        new_newtotal_sqft2_list.append(perch_to_sqft(row['total_sqft']))\n",
    "    elif row['Unit']=='Yards':\n",
    "        new_newtotal_sqft2_list.append(yards_to_sqft(row['total_sqft']))\n",
    "    elif row['Unit']=='Acres':\n",
    "        new_newtotal_sqft2_list.append(acres_to_sqft(row['total_sqft']))\n",
    "    elif row['Unit']=='Cents':\n",
    "        new_newtotal_sqft2_list.append(cents_to_sqft(row['total_sqft']))\n",
    "    elif row['Unit']=='untha':\n",
    "        new_newtotal_sqft2_list.append(guntha_to_sqft(row['total_sqft']))\n",
    "    else:\n",
    "        new_newtotal_sqft2_list.append(row['total_sqft'])"
   ]
  },
  {
   "cell_type": "code",
   "execution_count": 77,
   "metadata": {
    "ExecuteTime": {
     "end_time": "2020-02-09T04:31:06.352463Z",
     "start_time": "2020-02-09T04:31:06.340570Z"
    }
   },
   "outputs": [],
   "source": [
    "df212.loc[:,\"total_sqft\"] = new_newtotal_sqft2_list"
   ]
  },
  {
   "cell_type": "code",
   "execution_count": 78,
   "metadata": {
    "ExecuteTime": {
     "end_time": "2020-02-09T04:31:06.377633Z",
     "start_time": "2020-02-09T04:31:06.358900Z"
    }
   },
   "outputs": [],
   "source": [
    "df212.loc[:,\"total_sqft\"] = round(df212.loc[:,\"total_sqft\"],0).astype('int32')"
   ]
  },
  {
   "cell_type": "code",
   "execution_count": 79,
   "metadata": {
    "ExecuteTime": {
     "end_time": "2020-02-09T04:31:06.407076Z",
     "start_time": "2020-02-09T04:31:06.381487Z"
    }
   },
   "outputs": [],
   "source": [
    "df212.drop(['Unit'], axis=1, inplace=True)"
   ]
  },
  {
   "cell_type": "code",
   "execution_count": 80,
   "metadata": {
    "ExecuteTime": {
     "end_time": "2020-02-09T04:31:06.439800Z",
     "start_time": "2020-02-09T04:31:06.410575Z"
    }
   },
   "outputs": [
    {
     "data": {
      "text/html": [
       "<div>\n",
       "<style scoped>\n",
       "    .dataframe tbody tr th:only-of-type {\n",
       "        vertical-align: middle;\n",
       "    }\n",
       "\n",
       "    .dataframe tbody tr th {\n",
       "        vertical-align: top;\n",
       "    }\n",
       "\n",
       "    .dataframe thead th {\n",
       "        text-align: right;\n",
       "    }\n",
       "</style>\n",
       "<table border=\"1\" class=\"dataframe\">\n",
       "  <thead>\n",
       "    <tr style=\"text-align: right;\">\n",
       "      <th></th>\n",
       "      <th>area_type</th>\n",
       "      <th>availability</th>\n",
       "      <th>location</th>\n",
       "      <th>size</th>\n",
       "      <th>society</th>\n",
       "      <th>total_sqft</th>\n",
       "      <th>bath</th>\n",
       "      <th>balcony</th>\n",
       "      <th>price</th>\n",
       "    </tr>\n",
       "  </thead>\n",
       "  <tbody>\n",
       "    <tr>\n",
       "      <td>410</td>\n",
       "      <td>Super built-up  Area</td>\n",
       "      <td>Ready To Move</td>\n",
       "      <td>Kengeri</td>\n",
       "      <td>1 BHK</td>\n",
       "      <td>None</td>\n",
       "      <td>366</td>\n",
       "      <td>1</td>\n",
       "      <td>0</td>\n",
       "      <td>18.5</td>\n",
       "    </tr>\n",
       "    <tr>\n",
       "      <td>648</td>\n",
       "      <td>Built-up  Area</td>\n",
       "      <td>Ready To Move</td>\n",
       "      <td>Arekere</td>\n",
       "      <td>9 Bedroom</td>\n",
       "      <td>None</td>\n",
       "      <td>1123031</td>\n",
       "      <td>9</td>\n",
       "      <td>2</td>\n",
       "      <td>265.0</td>\n",
       "    </tr>\n",
       "    <tr>\n",
       "      <td>775</td>\n",
       "      <td>Built-up  Area</td>\n",
       "      <td>Ready To Move</td>\n",
       "      <td>Basavanagara</td>\n",
       "      <td>1 BHK</td>\n",
       "      <td>None</td>\n",
       "      <td>10764</td>\n",
       "      <td>2</td>\n",
       "      <td>1</td>\n",
       "      <td>93.0</td>\n",
       "    </tr>\n",
       "    <tr>\n",
       "      <td>872</td>\n",
       "      <td>Super built-up  Area</td>\n",
       "      <td>Ready To Move</td>\n",
       "      <td>Singapura Village</td>\n",
       "      <td>2 BHK</td>\n",
       "      <td>None</td>\n",
       "      <td>9900</td>\n",
       "      <td>2</td>\n",
       "      <td>1</td>\n",
       "      <td>45.0</td>\n",
       "    </tr>\n",
       "    <tr>\n",
       "      <td>1019</td>\n",
       "      <td>Plot  Area</td>\n",
       "      <td>Spring</td>\n",
       "      <td>Marathi Layout</td>\n",
       "      <td>1 Bedroom</td>\n",
       "      <td>None</td>\n",
       "      <td>217800</td>\n",
       "      <td>1</td>\n",
       "      <td>0</td>\n",
       "      <td>110.0</td>\n",
       "    </tr>\n",
       "  </tbody>\n",
       "</table>\n",
       "</div>"
      ],
      "text/plain": [
       "                 area_type   availability           location       size  \\\n",
       "410   Super built-up  Area  Ready To Move            Kengeri      1 BHK   \n",
       "648         Built-up  Area  Ready To Move            Arekere  9 Bedroom   \n",
       "775         Built-up  Area  Ready To Move       Basavanagara      1 BHK   \n",
       "872   Super built-up  Area  Ready To Move  Singapura Village      2 BHK   \n",
       "1019            Plot  Area         Spring     Marathi Layout  1 Bedroom   \n",
       "\n",
       "     society  total_sqft  bath  balcony  price  \n",
       "410     None         366     1        0   18.5  \n",
       "648     None     1123031     9        2  265.0  \n",
       "775     None       10764     2        1   93.0  \n",
       "872     None        9900     2        1   45.0  \n",
       "1019    None      217800     1        0  110.0  "
      ]
     },
     "execution_count": 80,
     "metadata": {},
     "output_type": "execute_result"
    }
   ],
   "source": [
    "df212.head()"
   ]
  },
  {
   "cell_type": "code",
   "execution_count": 81,
   "metadata": {
    "ExecuteTime": {
     "end_time": "2020-02-09T04:31:06.487492Z",
     "start_time": "2020-02-09T04:31:06.444294Z"
    }
   },
   "outputs": [],
   "source": [
    "df21 = pd.concat([df211,df212]) #Done "
   ]
  },
  {
   "cell_type": "code",
   "execution_count": 82,
   "metadata": {
    "ExecuteTime": {
     "end_time": "2020-02-09T04:31:06.522325Z",
     "start_time": "2020-02-09T04:31:06.491630Z"
    }
   },
   "outputs": [],
   "source": [
    "x = df22['total_sqft'].str.split(\"-\").tolist()\n",
    "\n",
    "\n",
    "new_xplit1_list = []\n",
    "new_xplit2_list = []\n",
    "\n",
    "for i in range(0,len(x)):\n",
    "        new_xplit1_list.append(x[i][0])\n",
    "        new_xplit2_list.append(x[i][1])\n",
    "        \n",
    "df22.loc[:,\"xplit1\"] = new_xplit1_list\n",
    "df22.loc[:,\"xplit2\"] = new_xplit2_list"
   ]
  },
  {
   "cell_type": "code",
   "execution_count": 83,
   "metadata": {
    "ExecuteTime": {
     "end_time": "2020-02-09T04:31:06.539078Z",
     "start_time": "2020-02-09T04:31:06.524440Z"
    }
   },
   "outputs": [],
   "source": [
    "def mid_value(x,y):\n",
    "    return((x+y)/2)"
   ]
  },
  {
   "cell_type": "code",
   "execution_count": 84,
   "metadata": {
    "ExecuteTime": {
     "end_time": "2020-02-09T04:31:06.564241Z",
     "start_time": "2020-02-09T04:31:06.543725Z"
    }
   },
   "outputs": [],
   "source": [
    "df22.loc[:,\"xplit1\"] = round(df22.loc[:,\"xplit1\"].astype('float'),0).astype('int32')\n",
    "df22.loc[:,\"xplit2\"] = round(df22.loc[:,\"xplit2\"].astype('float'),0).astype('int32')"
   ]
  },
  {
   "cell_type": "code",
   "execution_count": 85,
   "metadata": {
    "ExecuteTime": {
     "end_time": "2020-02-09T04:31:06.666387Z",
     "start_time": "2020-02-09T04:31:06.568002Z"
    }
   },
   "outputs": [],
   "source": [
    "new_newtotal_sqft2_list = []\n",
    "\n",
    "for index, row in df22.iterrows():\n",
    "    new_newtotal_sqft2_list.append(mid_value(row['xplit1'],row['xplit2']))\n",
    "\n",
    "df22.loc[:,\"total_sqft\"] = new_newtotal_sqft2_list"
   ]
  },
  {
   "cell_type": "code",
   "execution_count": 86,
   "metadata": {
    "ExecuteTime": {
     "end_time": "2020-02-09T04:31:06.684869Z",
     "start_time": "2020-02-09T04:31:06.670298Z"
    }
   },
   "outputs": [],
   "source": [
    "df22.drop(['xplit1','xplit2'], axis=1, inplace=True)"
   ]
  },
  {
   "cell_type": "code",
   "execution_count": 87,
   "metadata": {
    "ExecuteTime": {
     "end_time": "2020-02-09T04:31:06.730141Z",
     "start_time": "2020-02-09T04:31:06.691860Z"
    }
   },
   "outputs": [
    {
     "data": {
      "text/html": [
       "<div>\n",
       "<style scoped>\n",
       "    .dataframe tbody tr th:only-of-type {\n",
       "        vertical-align: middle;\n",
       "    }\n",
       "\n",
       "    .dataframe tbody tr th {\n",
       "        vertical-align: top;\n",
       "    }\n",
       "\n",
       "    .dataframe thead th {\n",
       "        text-align: right;\n",
       "    }\n",
       "</style>\n",
       "<table border=\"1\" class=\"dataframe\">\n",
       "  <thead>\n",
       "    <tr style=\"text-align: right;\">\n",
       "      <th></th>\n",
       "      <th>area_type</th>\n",
       "      <th>availability</th>\n",
       "      <th>location</th>\n",
       "      <th>size</th>\n",
       "      <th>society</th>\n",
       "      <th>total_sqft</th>\n",
       "      <th>bath</th>\n",
       "      <th>balcony</th>\n",
       "      <th>price</th>\n",
       "    </tr>\n",
       "  </thead>\n",
       "  <tbody>\n",
       "    <tr>\n",
       "      <td>30</td>\n",
       "      <td>Super built-up  Area</td>\n",
       "      <td>Winter</td>\n",
       "      <td>Yelahanka</td>\n",
       "      <td>4 BHK</td>\n",
       "      <td>LedorSa</td>\n",
       "      <td>2475.0</td>\n",
       "      <td>4</td>\n",
       "      <td>0</td>\n",
       "      <td>186.000</td>\n",
       "    </tr>\n",
       "    <tr>\n",
       "      <td>56</td>\n",
       "      <td>Built-up  Area</td>\n",
       "      <td>Winter</td>\n",
       "      <td>Devanahalli</td>\n",
       "      <td>4 Bedroom</td>\n",
       "      <td>BrereAt</td>\n",
       "      <td>3210.0</td>\n",
       "      <td>4</td>\n",
       "      <td>2</td>\n",
       "      <td>192.000</td>\n",
       "    </tr>\n",
       "    <tr>\n",
       "      <td>81</td>\n",
       "      <td>Built-up  Area</td>\n",
       "      <td>Fall</td>\n",
       "      <td>Hennur Road</td>\n",
       "      <td>4 Bedroom</td>\n",
       "      <td>Gollela</td>\n",
       "      <td>3203.5</td>\n",
       "      <td>4</td>\n",
       "      <td>2</td>\n",
       "      <td>224.500</td>\n",
       "    </tr>\n",
       "    <tr>\n",
       "      <td>122</td>\n",
       "      <td>Super built-up  Area</td>\n",
       "      <td>Spring</td>\n",
       "      <td>Hebbal</td>\n",
       "      <td>4 BHK</td>\n",
       "      <td>SNontle</td>\n",
       "      <td>5611.5</td>\n",
       "      <td>4</td>\n",
       "      <td>0</td>\n",
       "      <td>477.000</td>\n",
       "    </tr>\n",
       "    <tr>\n",
       "      <td>137</td>\n",
       "      <td>Super built-up  Area</td>\n",
       "      <td>Spring</td>\n",
       "      <td>8th Phase JP Nagar</td>\n",
       "      <td>2 BHK</td>\n",
       "      <td>Vaarech</td>\n",
       "      <td>1073.5</td>\n",
       "      <td>2</td>\n",
       "      <td>0</td>\n",
       "      <td>54.005</td>\n",
       "    </tr>\n",
       "  </tbody>\n",
       "</table>\n",
       "</div>"
      ],
      "text/plain": [
       "                area_type availability            location       size  \\\n",
       "30   Super built-up  Area       Winter           Yelahanka      4 BHK   \n",
       "56         Built-up  Area       Winter         Devanahalli  4 Bedroom   \n",
       "81         Built-up  Area         Fall         Hennur Road  4 Bedroom   \n",
       "122  Super built-up  Area       Spring              Hebbal      4 BHK   \n",
       "137  Super built-up  Area       Spring  8th Phase JP Nagar      2 BHK   \n",
       "\n",
       "     society  total_sqft  bath  balcony    price  \n",
       "30   LedorSa      2475.0     4        0  186.000  \n",
       "56   BrereAt      3210.0     4        2  192.000  \n",
       "81   Gollela      3203.5     4        2  224.500  \n",
       "122  SNontle      5611.5     4        0  477.000  \n",
       "137  Vaarech      1073.5     2        0   54.005  "
      ]
     },
     "execution_count": 87,
     "metadata": {},
     "output_type": "execute_result"
    }
   ],
   "source": [
    "df22.head()"
   ]
  },
  {
   "cell_type": "code",
   "execution_count": 88,
   "metadata": {
    "ExecuteTime": {
     "end_time": "2020-02-09T04:31:06.765800Z",
     "start_time": "2020-02-09T04:31:06.731976Z"
    }
   },
   "outputs": [],
   "source": [
    "df2 = pd.concat([df21,df22]) #Done "
   ]
  },
  {
   "cell_type": "code",
   "execution_count": 89,
   "metadata": {
    "ExecuteTime": {
     "end_time": "2020-02-09T04:31:06.810438Z",
     "start_time": "2020-02-09T04:31:06.769794Z"
    }
   },
   "outputs": [
    {
     "data": {
      "text/html": [
       "<div>\n",
       "<style scoped>\n",
       "    .dataframe tbody tr th:only-of-type {\n",
       "        vertical-align: middle;\n",
       "    }\n",
       "\n",
       "    .dataframe tbody tr th {\n",
       "        vertical-align: top;\n",
       "    }\n",
       "\n",
       "    .dataframe thead th {\n",
       "        text-align: right;\n",
       "    }\n",
       "</style>\n",
       "<table border=\"1\" class=\"dataframe\">\n",
       "  <thead>\n",
       "    <tr style=\"text-align: right;\">\n",
       "      <th></th>\n",
       "      <th>area_type</th>\n",
       "      <th>availability</th>\n",
       "      <th>location</th>\n",
       "      <th>size</th>\n",
       "      <th>society</th>\n",
       "      <th>total_sqft</th>\n",
       "      <th>bath</th>\n",
       "      <th>balcony</th>\n",
       "      <th>price</th>\n",
       "    </tr>\n",
       "  </thead>\n",
       "  <tbody>\n",
       "    <tr>\n",
       "      <td>44</td>\n",
       "      <td>Super built-up  Area</td>\n",
       "      <td>Fall</td>\n",
       "      <td>Kanakpura Road</td>\n",
       "      <td>2 BHK</td>\n",
       "      <td>Soazak</td>\n",
       "      <td>1331.0</td>\n",
       "      <td>2</td>\n",
       "      <td>2</td>\n",
       "      <td>91.79</td>\n",
       "    </tr>\n",
       "    <tr>\n",
       "      <td>142</td>\n",
       "      <td>Super built-up  Area</td>\n",
       "      <td>Ready To Move</td>\n",
       "      <td>Kasavanhalli</td>\n",
       "      <td>3 BHK</td>\n",
       "      <td>HMwerCo</td>\n",
       "      <td>1563.0</td>\n",
       "      <td>3</td>\n",
       "      <td>1</td>\n",
       "      <td>105.00</td>\n",
       "    </tr>\n",
       "    <tr>\n",
       "      <td>373</td>\n",
       "      <td>Super built-up  Area</td>\n",
       "      <td>Spring</td>\n",
       "      <td>Gopalapura</td>\n",
       "      <td>3 BHK</td>\n",
       "      <td>Sothadr</td>\n",
       "      <td>2024.0</td>\n",
       "      <td>3</td>\n",
       "      <td>2</td>\n",
       "      <td>275.00</td>\n",
       "    </tr>\n",
       "    <tr>\n",
       "      <td>393</td>\n",
       "      <td>Super built-up  Area</td>\n",
       "      <td>Ready To Move</td>\n",
       "      <td>Electronics City Phase 1</td>\n",
       "      <td>2 BHK</td>\n",
       "      <td>Courf T</td>\n",
       "      <td>1113.0</td>\n",
       "      <td>2</td>\n",
       "      <td>2</td>\n",
       "      <td>53.00</td>\n",
       "    </tr>\n",
       "    <tr>\n",
       "      <td>448</td>\n",
       "      <td>Super built-up  Area</td>\n",
       "      <td>Ready To Move</td>\n",
       "      <td>Harlur</td>\n",
       "      <td>3 BHK</td>\n",
       "      <td>SosicCl</td>\n",
       "      <td>1752.0</td>\n",
       "      <td>3</td>\n",
       "      <td>2</td>\n",
       "      <td>135.00</td>\n",
       "    </tr>\n",
       "  </tbody>\n",
       "</table>\n",
       "</div>"
      ],
      "text/plain": [
       "                area_type   availability                  location   size  \\\n",
       "44   Super built-up  Area           Fall            Kanakpura Road  2 BHK   \n",
       "142  Super built-up  Area  Ready To Move              Kasavanhalli  3 BHK   \n",
       "373  Super built-up  Area         Spring                Gopalapura  3 BHK   \n",
       "393  Super built-up  Area  Ready To Move  Electronics City Phase 1  2 BHK   \n",
       "448  Super built-up  Area  Ready To Move                    Harlur  3 BHK   \n",
       "\n",
       "     society  total_sqft  bath  balcony   price  \n",
       "44   Soazak       1331.0     2        2   91.79  \n",
       "142  HMwerCo      1563.0     3        1  105.00  \n",
       "373  Sothadr      2024.0     3        2  275.00  \n",
       "393  Courf T      1113.0     2        2   53.00  \n",
       "448  SosicCl      1752.0     3        2  135.00  "
      ]
     },
     "execution_count": 89,
     "metadata": {},
     "output_type": "execute_result"
    }
   ],
   "source": [
    "df2.head()"
   ]
  },
  {
   "cell_type": "code",
   "execution_count": 90,
   "metadata": {
    "ExecuteTime": {
     "end_time": "2020-02-09T04:31:06.856571Z",
     "start_time": "2020-02-09T04:31:06.814494Z"
    }
   },
   "outputs": [
    {
     "data": {
      "text/html": [
       "<div>\n",
       "<style scoped>\n",
       "    .dataframe tbody tr th:only-of-type {\n",
       "        vertical-align: middle;\n",
       "    }\n",
       "\n",
       "    .dataframe tbody tr th {\n",
       "        vertical-align: top;\n",
       "    }\n",
       "\n",
       "    .dataframe thead th {\n",
       "        text-align: right;\n",
       "    }\n",
       "</style>\n",
       "<table border=\"1\" class=\"dataframe\">\n",
       "  <thead>\n",
       "    <tr style=\"text-align: right;\">\n",
       "      <th></th>\n",
       "      <th>area_type</th>\n",
       "      <th>availability</th>\n",
       "      <th>location</th>\n",
       "      <th>size</th>\n",
       "      <th>society</th>\n",
       "      <th>total_sqft</th>\n",
       "      <th>bath</th>\n",
       "      <th>balcony</th>\n",
       "      <th>price</th>\n",
       "    </tr>\n",
       "  </thead>\n",
       "  <tbody>\n",
       "    <tr>\n",
       "      <td>0</td>\n",
       "      <td>Super built-up  Area</td>\n",
       "      <td>Winter</td>\n",
       "      <td>Electronic City Phase II</td>\n",
       "      <td>2 BHK</td>\n",
       "      <td>Coomee</td>\n",
       "      <td>1056</td>\n",
       "      <td>2</td>\n",
       "      <td>1</td>\n",
       "      <td>39.07</td>\n",
       "    </tr>\n",
       "    <tr>\n",
       "      <td>1</td>\n",
       "      <td>Plot  Area</td>\n",
       "      <td>Ready To Move</td>\n",
       "      <td>Chikka Tirupathi</td>\n",
       "      <td>4 Bedroom</td>\n",
       "      <td>Theanmp</td>\n",
       "      <td>2600</td>\n",
       "      <td>5</td>\n",
       "      <td>3</td>\n",
       "      <td>120.00</td>\n",
       "    </tr>\n",
       "    <tr>\n",
       "      <td>2</td>\n",
       "      <td>Built-up  Area</td>\n",
       "      <td>Ready To Move</td>\n",
       "      <td>Uttarahalli</td>\n",
       "      <td>3 BHK</td>\n",
       "      <td>None</td>\n",
       "      <td>1440</td>\n",
       "      <td>2</td>\n",
       "      <td>3</td>\n",
       "      <td>62.00</td>\n",
       "    </tr>\n",
       "    <tr>\n",
       "      <td>3</td>\n",
       "      <td>Super built-up  Area</td>\n",
       "      <td>Ready To Move</td>\n",
       "      <td>Lingadheeranahalli</td>\n",
       "      <td>3 BHK</td>\n",
       "      <td>Soiewre</td>\n",
       "      <td>1521</td>\n",
       "      <td>3</td>\n",
       "      <td>1</td>\n",
       "      <td>95.00</td>\n",
       "    </tr>\n",
       "    <tr>\n",
       "      <td>4</td>\n",
       "      <td>Super built-up  Area</td>\n",
       "      <td>Ready To Move</td>\n",
       "      <td>Kothanur</td>\n",
       "      <td>2 BHK</td>\n",
       "      <td>None</td>\n",
       "      <td>1200</td>\n",
       "      <td>2</td>\n",
       "      <td>1</td>\n",
       "      <td>51.00</td>\n",
       "    </tr>\n",
       "  </tbody>\n",
       "</table>\n",
       "</div>"
      ],
      "text/plain": [
       "              area_type   availability                  location       size  \\\n",
       "0  Super built-up  Area         Winter  Electronic City Phase II      2 BHK   \n",
       "1            Plot  Area  Ready To Move          Chikka Tirupathi  4 Bedroom   \n",
       "2        Built-up  Area  Ready To Move               Uttarahalli      3 BHK   \n",
       "3  Super built-up  Area  Ready To Move        Lingadheeranahalli      3 BHK   \n",
       "4  Super built-up  Area  Ready To Move                  Kothanur      2 BHK   \n",
       "\n",
       "   society  total_sqft  bath  balcony   price  \n",
       "0  Coomee         1056     2        1   39.07  \n",
       "1  Theanmp        2600     5        3  120.00  \n",
       "2     None        1440     2        3   62.00  \n",
       "3  Soiewre        1521     3        1   95.00  \n",
       "4     None        1200     2        1   51.00  "
      ]
     },
     "execution_count": 90,
     "metadata": {},
     "output_type": "execute_result"
    }
   ],
   "source": [
    "df1.head()"
   ]
  },
  {
   "cell_type": "code",
   "execution_count": 91,
   "metadata": {
    "ExecuteTime": {
     "end_time": "2020-02-09T04:31:06.910661Z",
     "start_time": "2020-02-09T04:31:06.860798Z"
    }
   },
   "outputs": [],
   "source": [
    "df = pd.concat([df1,df2]) #Done "
   ]
  },
  {
   "cell_type": "code",
   "execution_count": 92,
   "metadata": {
    "ExecuteTime": {
     "end_time": "2020-02-09T04:31:06.968864Z",
     "start_time": "2020-02-09T04:31:06.916847Z"
    }
   },
   "outputs": [
    {
     "data": {
      "text/html": [
       "<div>\n",
       "<style scoped>\n",
       "    .dataframe tbody tr th:only-of-type {\n",
       "        vertical-align: middle;\n",
       "    }\n",
       "\n",
       "    .dataframe tbody tr th {\n",
       "        vertical-align: top;\n",
       "    }\n",
       "\n",
       "    .dataframe thead th {\n",
       "        text-align: right;\n",
       "    }\n",
       "</style>\n",
       "<table border=\"1\" class=\"dataframe\">\n",
       "  <thead>\n",
       "    <tr style=\"text-align: right;\">\n",
       "      <th></th>\n",
       "      <th>area_type</th>\n",
       "      <th>availability</th>\n",
       "      <th>location</th>\n",
       "      <th>size</th>\n",
       "      <th>society</th>\n",
       "      <th>total_sqft</th>\n",
       "      <th>bath</th>\n",
       "      <th>balcony</th>\n",
       "      <th>price</th>\n",
       "    </tr>\n",
       "  </thead>\n",
       "  <tbody>\n",
       "    <tr>\n",
       "      <td>0</td>\n",
       "      <td>Super built-up  Area</td>\n",
       "      <td>Winter</td>\n",
       "      <td>Electronic City Phase II</td>\n",
       "      <td>2 BHK</td>\n",
       "      <td>Coomee</td>\n",
       "      <td>1056.0</td>\n",
       "      <td>2</td>\n",
       "      <td>1</td>\n",
       "      <td>39.07</td>\n",
       "    </tr>\n",
       "    <tr>\n",
       "      <td>1</td>\n",
       "      <td>Plot  Area</td>\n",
       "      <td>Ready To Move</td>\n",
       "      <td>Chikka Tirupathi</td>\n",
       "      <td>4 Bedroom</td>\n",
       "      <td>Theanmp</td>\n",
       "      <td>2600.0</td>\n",
       "      <td>5</td>\n",
       "      <td>3</td>\n",
       "      <td>120.00</td>\n",
       "    </tr>\n",
       "    <tr>\n",
       "      <td>2</td>\n",
       "      <td>Built-up  Area</td>\n",
       "      <td>Ready To Move</td>\n",
       "      <td>Uttarahalli</td>\n",
       "      <td>3 BHK</td>\n",
       "      <td>None</td>\n",
       "      <td>1440.0</td>\n",
       "      <td>2</td>\n",
       "      <td>3</td>\n",
       "      <td>62.00</td>\n",
       "    </tr>\n",
       "    <tr>\n",
       "      <td>3</td>\n",
       "      <td>Super built-up  Area</td>\n",
       "      <td>Ready To Move</td>\n",
       "      <td>Lingadheeranahalli</td>\n",
       "      <td>3 BHK</td>\n",
       "      <td>Soiewre</td>\n",
       "      <td>1521.0</td>\n",
       "      <td>3</td>\n",
       "      <td>1</td>\n",
       "      <td>95.00</td>\n",
       "    </tr>\n",
       "    <tr>\n",
       "      <td>4</td>\n",
       "      <td>Super built-up  Area</td>\n",
       "      <td>Ready To Move</td>\n",
       "      <td>Kothanur</td>\n",
       "      <td>2 BHK</td>\n",
       "      <td>None</td>\n",
       "      <td>1200.0</td>\n",
       "      <td>2</td>\n",
       "      <td>1</td>\n",
       "      <td>51.00</td>\n",
       "    </tr>\n",
       "  </tbody>\n",
       "</table>\n",
       "</div>"
      ],
      "text/plain": [
       "              area_type   availability                  location       size  \\\n",
       "0  Super built-up  Area         Winter  Electronic City Phase II      2 BHK   \n",
       "1            Plot  Area  Ready To Move          Chikka Tirupathi  4 Bedroom   \n",
       "2        Built-up  Area  Ready To Move               Uttarahalli      3 BHK   \n",
       "3  Super built-up  Area  Ready To Move        Lingadheeranahalli      3 BHK   \n",
       "4  Super built-up  Area  Ready To Move                  Kothanur      2 BHK   \n",
       "\n",
       "   society  total_sqft  bath  balcony   price  \n",
       "0  Coomee       1056.0     2        1   39.07  \n",
       "1  Theanmp      2600.0     5        3  120.00  \n",
       "2     None      1440.0     2        3   62.00  \n",
       "3  Soiewre      1521.0     3        1   95.00  \n",
       "4     None      1200.0     2        1   51.00  "
      ]
     },
     "execution_count": 92,
     "metadata": {},
     "output_type": "execute_result"
    }
   ],
   "source": [
    "df.head()"
   ]
  },
  {
   "cell_type": "code",
   "execution_count": 93,
   "metadata": {
    "ExecuteTime": {
     "end_time": "2020-02-09T04:31:07.006993Z",
     "start_time": "2020-02-09T04:31:06.971698Z"
    }
   },
   "outputs": [
    {
     "name": "stdout",
     "output_type": "stream",
     "text": [
      "<class 'pandas.core.frame.DataFrame'>\n",
      "Int64Index: 13320 entries, 0 to 13299\n",
      "Data columns (total 9 columns):\n",
      "area_type       13320 non-null category\n",
      "availability    13320 non-null category\n",
      "location        13320 non-null object\n",
      "size            13320 non-null object\n",
      "society         13320 non-null category\n",
      "total_sqft      13320 non-null float64\n",
      "bath            13320 non-null int32\n",
      "balcony         13320 non-null int32\n",
      "price           13320 non-null float64\n",
      "dtypes: category(3), float64(2), int32(2), object(2)\n",
      "memory usage: 777.8+ KB\n"
     ]
    }
   ],
   "source": [
    "df.info()"
   ]
  },
  {
   "cell_type": "markdown",
   "metadata": {},
   "source": [
    "### Location"
   ]
  },
  {
   "cell_type": "code",
   "execution_count": 94,
   "metadata": {
    "ExecuteTime": {
     "end_time": "2020-02-09T04:31:07.036630Z",
     "start_time": "2020-02-09T04:31:07.012446Z"
    }
   },
   "outputs": [],
   "source": [
    "df.loc[:,\"location\"] = df.loc[:,\"location\"].astype('category')"
   ]
  },
  {
   "cell_type": "markdown",
   "metadata": {},
   "source": [
    "### Size"
   ]
  },
  {
   "cell_type": "code",
   "execution_count": 95,
   "metadata": {
    "ExecuteTime": {
     "end_time": "2020-02-09T04:31:07.083924Z",
     "start_time": "2020-02-09T04:31:07.041610Z"
    }
   },
   "outputs": [
    {
     "data": {
      "text/html": [
       "<div>\n",
       "<style scoped>\n",
       "    .dataframe tbody tr th:only-of-type {\n",
       "        vertical-align: middle;\n",
       "    }\n",
       "\n",
       "    .dataframe tbody tr th {\n",
       "        vertical-align: top;\n",
       "    }\n",
       "\n",
       "    .dataframe thead th {\n",
       "        text-align: right;\n",
       "    }\n",
       "</style>\n",
       "<table border=\"1\" class=\"dataframe\">\n",
       "  <thead>\n",
       "    <tr style=\"text-align: right;\">\n",
       "      <th></th>\n",
       "      <th>area_type</th>\n",
       "      <th>availability</th>\n",
       "      <th>location</th>\n",
       "      <th>size</th>\n",
       "      <th>society</th>\n",
       "      <th>total_sqft</th>\n",
       "      <th>bath</th>\n",
       "      <th>balcony</th>\n",
       "      <th>price</th>\n",
       "    </tr>\n",
       "  </thead>\n",
       "  <tbody>\n",
       "    <tr>\n",
       "      <td>0</td>\n",
       "      <td>Super built-up  Area</td>\n",
       "      <td>Winter</td>\n",
       "      <td>Electronic City Phase II</td>\n",
       "      <td>2 BHK</td>\n",
       "      <td>Coomee</td>\n",
       "      <td>1056.0</td>\n",
       "      <td>2</td>\n",
       "      <td>1</td>\n",
       "      <td>39.07</td>\n",
       "    </tr>\n",
       "    <tr>\n",
       "      <td>1</td>\n",
       "      <td>Plot  Area</td>\n",
       "      <td>Ready To Move</td>\n",
       "      <td>Chikka Tirupathi</td>\n",
       "      <td>4 Bedroom</td>\n",
       "      <td>Theanmp</td>\n",
       "      <td>2600.0</td>\n",
       "      <td>5</td>\n",
       "      <td>3</td>\n",
       "      <td>120.00</td>\n",
       "    </tr>\n",
       "    <tr>\n",
       "      <td>2</td>\n",
       "      <td>Built-up  Area</td>\n",
       "      <td>Ready To Move</td>\n",
       "      <td>Uttarahalli</td>\n",
       "      <td>3 BHK</td>\n",
       "      <td>None</td>\n",
       "      <td>1440.0</td>\n",
       "      <td>2</td>\n",
       "      <td>3</td>\n",
       "      <td>62.00</td>\n",
       "    </tr>\n",
       "    <tr>\n",
       "      <td>3</td>\n",
       "      <td>Super built-up  Area</td>\n",
       "      <td>Ready To Move</td>\n",
       "      <td>Lingadheeranahalli</td>\n",
       "      <td>3 BHK</td>\n",
       "      <td>Soiewre</td>\n",
       "      <td>1521.0</td>\n",
       "      <td>3</td>\n",
       "      <td>1</td>\n",
       "      <td>95.00</td>\n",
       "    </tr>\n",
       "    <tr>\n",
       "      <td>4</td>\n",
       "      <td>Super built-up  Area</td>\n",
       "      <td>Ready To Move</td>\n",
       "      <td>Kothanur</td>\n",
       "      <td>2 BHK</td>\n",
       "      <td>None</td>\n",
       "      <td>1200.0</td>\n",
       "      <td>2</td>\n",
       "      <td>1</td>\n",
       "      <td>51.00</td>\n",
       "    </tr>\n",
       "  </tbody>\n",
       "</table>\n",
       "</div>"
      ],
      "text/plain": [
       "              area_type   availability                  location       size  \\\n",
       "0  Super built-up  Area         Winter  Electronic City Phase II      2 BHK   \n",
       "1            Plot  Area  Ready To Move          Chikka Tirupathi  4 Bedroom   \n",
       "2        Built-up  Area  Ready To Move               Uttarahalli      3 BHK   \n",
       "3  Super built-up  Area  Ready To Move        Lingadheeranahalli      3 BHK   \n",
       "4  Super built-up  Area  Ready To Move                  Kothanur      2 BHK   \n",
       "\n",
       "   society  total_sqft  bath  balcony   price  \n",
       "0  Coomee       1056.0     2        1   39.07  \n",
       "1  Theanmp      2600.0     5        3  120.00  \n",
       "2     None      1440.0     2        3   62.00  \n",
       "3  Soiewre      1521.0     3        1   95.00  \n",
       "4     None      1200.0     2        1   51.00  "
      ]
     },
     "execution_count": 95,
     "metadata": {},
     "output_type": "execute_result"
    }
   ],
   "source": [
    "df.head()"
   ]
  },
  {
   "cell_type": "code",
   "execution_count": 96,
   "metadata": {
    "ExecuteTime": {
     "end_time": "2020-02-09T04:31:07.114183Z",
     "start_time": "2020-02-09T04:31:07.088026Z"
    }
   },
   "outputs": [
    {
     "name": "stdout",
     "output_type": "stream",
     "text": [
      "<class 'pandas.core.frame.DataFrame'>\n",
      "Int64Index: 13320 entries, 0 to 13299\n",
      "Data columns (total 9 columns):\n",
      "area_type       13320 non-null category\n",
      "availability    13320 non-null category\n",
      "location        13320 non-null category\n",
      "size            13320 non-null object\n",
      "society         13320 non-null category\n",
      "total_sqft      13320 non-null float64\n",
      "bath            13320 non-null int32\n",
      "balcony         13320 non-null int32\n",
      "price           13320 non-null float64\n",
      "dtypes: category(4), float64(2), int32(2), object(1)\n",
      "memory usage: 750.0+ KB\n"
     ]
    }
   ],
   "source": [
    "df.info()"
   ]
  },
  {
   "cell_type": "code",
   "execution_count": 97,
   "metadata": {
    "ExecuteTime": {
     "end_time": "2020-02-09T04:31:07.140362Z",
     "start_time": "2020-02-09T04:31:07.118175Z"
    }
   },
   "outputs": [
    {
     "data": {
      "text/plain": [
       "2 BHK         5199\n",
       "3 BHK         4310\n",
       "4 Bedroom      826\n",
       "4 BHK          591\n",
       "3 Bedroom      547\n",
       "1 BHK          538\n",
       "2 Bedroom      329\n",
       "5 Bedroom      297\n",
       "6 Bedroom      191\n",
       "1 Bedroom      105\n",
       "8 Bedroom       84\n",
       "7 Bedroom       83\n",
       "5 BHK           59\n",
       "9 Bedroom       46\n",
       "6 BHK           30\n",
       "7 BHK           17\n",
       "empty           16\n",
       "1 RK            13\n",
       "10 Bedroom      12\n",
       "9 BHK            8\n",
       "8 BHK            5\n",
       "11 Bedroom       2\n",
       "10 BHK           2\n",
       "11 BHK           2\n",
       "13 BHK           1\n",
       "14 BHK           1\n",
       "19 BHK           1\n",
       "12 Bedroom       1\n",
       "43 Bedroom       1\n",
       "16 BHK           1\n",
       "27 BHK           1\n",
       "18 Bedroom       1\n",
       "Name: size, dtype: int64"
      ]
     },
     "execution_count": 97,
     "metadata": {},
     "output_type": "execute_result"
    }
   ],
   "source": [
    "df['size'].value_counts() # Before converting , we need to verify that BHK is different from Bedroom"
   ]
  },
  {
   "cell_type": "code",
   "execution_count": 98,
   "metadata": {
    "ExecuteTime": {
     "end_time": "2020-02-09T04:31:07.218374Z",
     "start_time": "2020-02-09T04:31:07.142559Z"
    },
    "cell_style": "split"
   },
   "outputs": [
    {
     "data": {
      "text/html": [
       "<div>\n",
       "<style scoped>\n",
       "    .dataframe tbody tr th:only-of-type {\n",
       "        vertical-align: middle;\n",
       "    }\n",
       "\n",
       "    .dataframe tbody tr th {\n",
       "        vertical-align: top;\n",
       "    }\n",
       "\n",
       "    .dataframe thead th {\n",
       "        text-align: right;\n",
       "    }\n",
       "</style>\n",
       "<table border=\"1\" class=\"dataframe\">\n",
       "  <thead>\n",
       "    <tr style=\"text-align: right;\">\n",
       "      <th></th>\n",
       "      <th>total_sqft</th>\n",
       "      <th>bath</th>\n",
       "      <th>balcony</th>\n",
       "      <th>price</th>\n",
       "    </tr>\n",
       "  </thead>\n",
       "  <tbody>\n",
       "    <tr>\n",
       "      <td>count</td>\n",
       "      <td>3.290000e+02</td>\n",
       "      <td>329.000000</td>\n",
       "      <td>329.000000</td>\n",
       "      <td>329.000000</td>\n",
       "    </tr>\n",
       "    <tr>\n",
       "      <td>mean</td>\n",
       "      <td>5.557650e+03</td>\n",
       "      <td>1.917933</td>\n",
       "      <td>0.659574</td>\n",
       "      <td>93.563465</td>\n",
       "    </tr>\n",
       "    <tr>\n",
       "      <td>std</td>\n",
       "      <td>7.215322e+04</td>\n",
       "      <td>0.508418</td>\n",
       "      <td>0.680460</td>\n",
       "      <td>64.724133</td>\n",
       "    </tr>\n",
       "    <tr>\n",
       "      <td>min</td>\n",
       "      <td>2.760000e+02</td>\n",
       "      <td>1.000000</td>\n",
       "      <td>0.000000</td>\n",
       "      <td>10.500000</td>\n",
       "    </tr>\n",
       "    <tr>\n",
       "      <td>25%</td>\n",
       "      <td>9.000000e+02</td>\n",
       "      <td>2.000000</td>\n",
       "      <td>0.000000</td>\n",
       "      <td>56.000000</td>\n",
       "    </tr>\n",
       "    <tr>\n",
       "      <td>50%</td>\n",
       "      <td>1.200000e+03</td>\n",
       "      <td>2.000000</td>\n",
       "      <td>1.000000</td>\n",
       "      <td>70.000000</td>\n",
       "    </tr>\n",
       "    <tr>\n",
       "      <td>75%</td>\n",
       "      <td>1.200000e+03</td>\n",
       "      <td>2.000000</td>\n",
       "      <td>1.000000</td>\n",
       "      <td>115.000000</td>\n",
       "    </tr>\n",
       "    <tr>\n",
       "      <td>max</td>\n",
       "      <td>1.306800e+06</td>\n",
       "      <td>4.000000</td>\n",
       "      <td>3.000000</td>\n",
       "      <td>650.000000</td>\n",
       "    </tr>\n",
       "  </tbody>\n",
       "</table>\n",
       "</div>"
      ],
      "text/plain": [
       "         total_sqft        bath     balcony       price\n",
       "count  3.290000e+02  329.000000  329.000000  329.000000\n",
       "mean   5.557650e+03    1.917933    0.659574   93.563465\n",
       "std    7.215322e+04    0.508418    0.680460   64.724133\n",
       "min    2.760000e+02    1.000000    0.000000   10.500000\n",
       "25%    9.000000e+02    2.000000    0.000000   56.000000\n",
       "50%    1.200000e+03    2.000000    1.000000   70.000000\n",
       "75%    1.200000e+03    2.000000    1.000000  115.000000\n",
       "max    1.306800e+06    4.000000    3.000000  650.000000"
      ]
     },
     "execution_count": 98,
     "metadata": {},
     "output_type": "execute_result"
    }
   ],
   "source": [
    "df[df['size']=='2 Bedroom'].describe() # total_sqft contains outliers"
   ]
  },
  {
   "cell_type": "code",
   "execution_count": 99,
   "metadata": {
    "ExecuteTime": {
     "end_time": "2020-02-09T04:31:07.289333Z",
     "start_time": "2020-02-09T04:31:07.224165Z"
    },
    "cell_style": "split"
   },
   "outputs": [
    {
     "data": {
      "text/html": [
       "<div>\n",
       "<style scoped>\n",
       "    .dataframe tbody tr th:only-of-type {\n",
       "        vertical-align: middle;\n",
       "    }\n",
       "\n",
       "    .dataframe tbody tr th {\n",
       "        vertical-align: top;\n",
       "    }\n",
       "\n",
       "    .dataframe thead th {\n",
       "        text-align: right;\n",
       "    }\n",
       "</style>\n",
       "<table border=\"1\" class=\"dataframe\">\n",
       "  <thead>\n",
       "    <tr style=\"text-align: right;\">\n",
       "      <th></th>\n",
       "      <th>total_sqft</th>\n",
       "      <th>bath</th>\n",
       "      <th>balcony</th>\n",
       "      <th>price</th>\n",
       "    </tr>\n",
       "  </thead>\n",
       "  <tbody>\n",
       "    <tr>\n",
       "      <td>count</td>\n",
       "      <td>5199.000000</td>\n",
       "      <td>5199.000000</td>\n",
       "      <td>5199.000000</td>\n",
       "      <td>5199.000000</td>\n",
       "    </tr>\n",
       "    <tr>\n",
       "      <td>mean</td>\n",
       "      <td>1136.404982</td>\n",
       "      <td>1.984612</td>\n",
       "      <td>1.476053</td>\n",
       "      <td>57.428640</td>\n",
       "    </tr>\n",
       "    <tr>\n",
       "      <td>std</td>\n",
       "      <td>257.242571</td>\n",
       "      <td>0.178041</td>\n",
       "      <td>0.673920</td>\n",
       "      <td>25.240686</td>\n",
       "    </tr>\n",
       "    <tr>\n",
       "      <td>min</td>\n",
       "      <td>302.000000</td>\n",
       "      <td>1.000000</td>\n",
       "      <td>0.000000</td>\n",
       "      <td>13.500000</td>\n",
       "    </tr>\n",
       "    <tr>\n",
       "      <td>25%</td>\n",
       "      <td>1033.000000</td>\n",
       "      <td>2.000000</td>\n",
       "      <td>1.000000</td>\n",
       "      <td>42.000000</td>\n",
       "    </tr>\n",
       "    <tr>\n",
       "      <td>50%</td>\n",
       "      <td>1140.000000</td>\n",
       "      <td>2.000000</td>\n",
       "      <td>1.000000</td>\n",
       "      <td>52.250000</td>\n",
       "    </tr>\n",
       "    <tr>\n",
       "      <td>75%</td>\n",
       "      <td>1230.000000</td>\n",
       "      <td>2.000000</td>\n",
       "      <td>2.000000</td>\n",
       "      <td>67.480000</td>\n",
       "    </tr>\n",
       "    <tr>\n",
       "      <td>max</td>\n",
       "      <td>9900.000000</td>\n",
       "      <td>4.000000</td>\n",
       "      <td>3.000000</td>\n",
       "      <td>475.000000</td>\n",
       "    </tr>\n",
       "  </tbody>\n",
       "</table>\n",
       "</div>"
      ],
      "text/plain": [
       "        total_sqft         bath      balcony        price\n",
       "count  5199.000000  5199.000000  5199.000000  5199.000000\n",
       "mean   1136.404982     1.984612     1.476053    57.428640\n",
       "std     257.242571     0.178041     0.673920    25.240686\n",
       "min     302.000000     1.000000     0.000000    13.500000\n",
       "25%    1033.000000     2.000000     1.000000    42.000000\n",
       "50%    1140.000000     2.000000     1.000000    52.250000\n",
       "75%    1230.000000     2.000000     2.000000    67.480000\n",
       "max    9900.000000     4.000000     3.000000   475.000000"
      ]
     },
     "execution_count": 99,
     "metadata": {},
     "output_type": "execute_result"
    }
   ],
   "source": [
    "df[df['size']=='2 BHK'].describe()"
   ]
  },
  {
   "cell_type": "markdown",
   "metadata": {},
   "source": [
    "- To confirm that there are satistical difference between BHK and Bedrom, we will test the population mean of bath, balcony and price "
   ]
  },
  {
   "cell_type": "markdown",
   "metadata": {},
   "source": [
    "- for Bath: Unkown variance but are they equall ?\n",
    "    - Assumping α = 0.05 (two tailed test)\n",
    "    - **Ho: σ1^2 = σ2^2 **\n",
    "    - **Ha: σ1^2 ≠ σ2^2 **\n",
    "\n",
    "- Next, based on the F-test population difference will be tested\n",
    "    - **Ho: μ1 = μ2 **\n",
    "    - **Ha: μ1 ≠ μ2 **"
   ]
  },
  {
   "cell_type": "code",
   "execution_count": 100,
   "metadata": {
    "ExecuteTime": {
     "end_time": "2020-02-09T04:31:08.354532Z",
     "start_time": "2020-02-09T04:31:07.295270Z"
    }
   },
   "outputs": [],
   "source": [
    "import scipy.stats #review it later  Ho: sigma1^2 / sigma2^2 =1\n",
    "\n",
    "def F_test (x,y,variable,alpha=0.05):\n",
    "    \n",
    "    # Sample size of each Sample\n",
    "    n1 = len(x)\n",
    "    n2 = len(y)\n",
    "    # Variance of each Sample\n",
    "    S1= x[variable].var()\n",
    "    S2= y[variable].var()\n",
    "    # Degrees of Freedom\n",
    "    v = [n1-1,n2-1]\n",
    "    \n",
    "    F_test = [scipy.stats.f.ppf(q=(alpha/2), dfn=v[0], dfd=v[1]), scipy.stats.f.ppf(q=1-(alpha/2), dfn=v[0], dfd=v[1])]\n",
    "    \n",
    "    \n",
    "    if(S1==0)or(S2==0):\n",
    "        print('\\033[1m' +\"We reject the Null Hypothesis for No variance diff:\"+ '\\033[0m')\n",
    "        print( \"One Variance is equall to zero and the other is not\")\n",
    "        return(1)\n",
    "    else:\n",
    "        if (S1>S2):\n",
    "            F_value = S1/S2\n",
    "        else:\n",
    "            F_value =S2/S1\n",
    "    \n",
    "        if (F_value>F_test[0])and(F_value<F_test[1]):\n",
    "            print('\\033[1m' + \"We failed to reject the Null Hypothesis for No variance diff:\"+ '\\033[0m')\n",
    "            print( F_test[0],\" < \",F_value,\" < \",F_test[1], \" Which is true\")\n",
    "            return(0)\n",
    "        else:\n",
    "            print('\\033[1m' +\"We reject the Null Hypothesis for No variance diff:\"+ '\\033[0m')\n",
    "            print( F_test[0],\" < \",F_value,\" < \",F_test[1], \" Which is NOT true\")\n",
    "            return(1)"
   ]
  },
  {
   "cell_type": "code",
   "execution_count": 101,
   "metadata": {
    "ExecuteTime": {
     "end_time": "2020-02-09T04:31:08.405369Z",
     "start_time": "2020-02-09T04:31:08.361124Z"
    }
   },
   "outputs": [],
   "source": [
    "from math import sqrt\n",
    "def test_of_mean_diff (x,y,variable,result, alpah):\n",
    "    \n",
    "    # Sample size of each Sample\n",
    "    n1 = len(x)\n",
    "    n2 = len(y)\n",
    "    # Sample Averages\n",
    "    x_bar1 = x[variable].mean()\n",
    "    x_bar2 =y[variable].mean()\n",
    "    \n",
    "    # Variance of each Sample\n",
    "    S1 = x[variable].var()\n",
    "    S2 = y[variable].var()\n",
    "    \n",
    "    \n",
    "\n",
    "    if result==0:  # Variances can be assumed to be equal \n",
    "        \n",
    "        v = n1+n2-2\n",
    "        SP=sqrt(((n1-1)*S1+(n2-1)*S2)/v)\n",
    "        \n",
    "\n",
    "        t_value = (x_bar1-x_bar2)/(SP*sqrt((1/n1)+(1/n2)))\n",
    "        t_test = scipy.stats.t.ppf((alpah/2), v)\n",
    "\n",
    "        \n",
    "        if (t_value<-t_test)and(t_value>t_test) :\n",
    "            print('\\033[1m' + \"We reject the Null Hypothesis for No mean diff:\"+ '\\033[0m')\n",
    "            print( -t_test,\" < \",t_value,\" < \",t_test, \" Which is NOT true\")\n",
    "            return(\"Reject\")\n",
    "        else:    \n",
    "            print('\\033[1m' + \"We failed to reject the Null Hypothesis for No mean diff:\"+ '\\033[0m')\n",
    "            print( -t_test,\" < \",t_value,\" < \",t_test, \" Which is  true\")\n",
    "            return(\"Do Not Reject\")\n",
    "            \n",
    "      \n",
    "    else: # Variances cannot be assumed to be equal \n",
    "        \n",
    "        if(S1==0)or(S2==0):\n",
    "            print('\\033[1m' + \"We reject the Null Hypothesis for No mean diff:\"+ '\\033[0m')\n",
    "            print( \"One Variance is equall to zero and the other is not\")\n",
    "            return(\"Reject\")\n",
    "        else:\n",
    "            t_value = (x_bar1-x_bar2)/(sqrt((S1/n1)+(S2/n2)))\n",
    "    \n",
    "            if n1==n2:\n",
    "                v = n1+n2-2\n",
    "            else:\n",
    "                v = (((S1/n1)+(S2/n2))**2)/(((S1/n1)**2)/(n1-1))+(((S2/n2)**2)/(n2-1))\n",
    "\n",
    "            t_test = scipy.stats.t.ppf((alpah/2), v)\n",
    "\n",
    "            if (t_value<-t_test)and(t_value>t_test) :\n",
    "                print('\\033[1m' + \"We reject the Null Hypothesis for No mean diff:\"+ '\\033[0m')\n",
    "                print( -t_test,\" < \",t_value,\" < \",t_test, \" Which is NOT true\")\n",
    "                return(\"Reject\")\n",
    "            else:    \n",
    "                print('\\033[1m' + \"We failed to reject the Null Hypothesis for No mean diff:\"+ '\\033[0m')\n",
    "                print( -t_test,\" < \",t_value,\" < \",t_test, \" Which is  true\")\n",
    "                return(\"Do Not Reject\")"
   ]
  },
  {
   "cell_type": "code",
   "execution_count": 102,
   "metadata": {
    "ExecuteTime": {
     "end_time": "2020-02-09T04:31:08.428164Z",
     "start_time": "2020-02-09T04:31:08.411780Z"
    }
   },
   "outputs": [],
   "source": [
    "compare_list=[[\"1 BHK\", \"1 Bedroom\"], [\"2 BHK\", \"2 Bedroom\"], [\"3 BHK\", \"3 Bedroom\"], [\"4 BHK\",\"4 Bedroom\"], [\"5 BHK\", \"5 Bedroom\"], \n",
    "[\"6 BHK\", \"6 Bedroom\"], [\"7 BHK\", \"7 Bedroom\"], [\"8 BHK\", \"8 Bedroom\"],\n",
    "[\"9 BHK\", \"9 Bedroom\"], [\"10 BHK\", \"10 Bedroom\"], [\"11 BHK\", \"11 Bedroom\"]] \n",
    "variable= ['bath','balcony','price']"
   ]
  },
  {
   "cell_type": "code",
   "execution_count": 103,
   "metadata": {
    "ExecuteTime": {
     "end_time": "2020-02-09T04:31:10.587621Z",
     "start_time": "2020-02-09T04:31:08.433274Z"
    }
   },
   "outputs": [
    {
     "name": "stdout",
     "output_type": "stream",
     "text": [
      "______________________________________________________________________________\n",
      "Test between:  1 BHK  and 1 Bedroom\n",
      "sample1 size=  538 sample1 size=  105\n",
      "______________________________________________________________________________\n",
      "One variable  bath\n",
      "______________________________________________________________________________\n",
      "\u001b[1mWe reject the Null Hypothesis for No variance diff:\u001b[0m\n",
      "0.7534674109035764  <  1.8532699398697465  <  1.3681099315569893  Which is NOT true\n",
      "\u001b[1mWe reject the Null Hypothesis for No mean diff:\u001b[0m\n",
      "1.9600040866772606  <  -1.610896958512435  <  -1.9600040866772606  Which is NOT true\n",
      "\n",
      "\n",
      "______________________________________________________________________________\n",
      "One variable  balcony\n",
      "______________________________________________________________________________\n",
      "\u001b[1mWe failed to reject the Null Hypothesis for No variance diff:\u001b[0m\n",
      "0.7534674109035764  <  1.1588888600852252  <  1.3681099315569893  Which is true\n",
      "\u001b[1mWe failed to reject the Null Hypothesis for No mean diff:\u001b[0m\n",
      "1.9636717547907854  <  9.161836995102004  <  -1.9636717547907854  Which is  true\n",
      "\n",
      "\n",
      "______________________________________________________________________________\n",
      "One variable  price\n",
      "______________________________________________________________________________\n",
      "\u001b[1mWe failed to reject the Null Hypothesis for No variance diff:\u001b[0m\n",
      "0.7534674109035764  <  1.1777582795991652  <  1.3681099315569893  Which is true\n",
      "\u001b[1mWe failed to reject the Null Hypothesis for No mean diff:\u001b[0m\n",
      "1.9636717547907854  <  -5.768001728822372  <  -1.9636717547907854  Which is  true\n",
      "\n",
      "\n",
      "______________________________________________________________________________\n",
      "Test between:  2 BHK  and 2 Bedroom\n",
      "sample1 size=  5199 sample1 size=  329\n",
      "______________________________________________________________________________\n",
      "One variable  bath\n",
      "______________________________________________________________________________\n",
      "\u001b[1mWe reject the Null Hypothesis for No variance diff:\u001b[0m\n",
      "0.8585933878367155  <  8.154584546774515  <  1.1777439713066178  Which is NOT true\n",
      "\u001b[1mWe failed to reject the Null Hypothesis for No mean diff:\u001b[0m\n",
      "1.959964011602194  <  2.3696805995629955  <  -1.959964011602194  Which is  true\n",
      "\n",
      "\n",
      "______________________________________________________________________________\n",
      "One variable  balcony\n",
      "______________________________________________________________________________\n",
      "\u001b[1mWe failed to reject the Null Hypothesis for No variance diff:\u001b[0m\n",
      "0.8585933878367155  <  1.0195010920900194  <  1.1777439713066178  Which is true\n",
      "\u001b[1mWe failed to reject the Null Hypothesis for No mean diff:\u001b[0m\n",
      "1.9603933696433908  <  21.29898366826525  <  -1.9603933696433908  Which is  true\n",
      "\n",
      "\n",
      "______________________________________________________________________________\n",
      "One variable  price\n",
      "______________________________________________________________________________\n",
      "\u001b[1mWe reject the Null Hypothesis for No variance diff:\u001b[0m\n",
      "0.8585933878367155  <  6.575520885177756  <  1.1777439713066178  Which is NOT true\n",
      "\u001b[1mWe failed to reject the Null Hypothesis for No mean diff:\u001b[0m\n",
      "1.9599640260068774  <  -10.078081682388406  <  -1.9599640260068774  Which is  true\n",
      "\n",
      "\n",
      "______________________________________________________________________________\n",
      "Test between:  3 BHK  and 3 Bedroom\n",
      "sample1 size=  4310 sample1 size=  547\n",
      "______________________________________________________________________________\n",
      "One variable  bath\n",
      "______________________________________________________________________________\n",
      "\u001b[1mWe reject the Null Hypothesis for No variance diff:\u001b[0m\n",
      "0.8843497629847044  <  1.200575234920028  <  1.1378465393434065  Which is NOT true\n",
      "\u001b[1mWe failed to reject the Null Hypothesis for No mean diff:\u001b[0m\n",
      "1.9599690166131412  <  -8.551516746713563  <  -1.9599690166131412  Which is  true\n",
      "\n",
      "\n",
      "______________________________________________________________________________\n",
      "One variable  balcony\n",
      "______________________________________________________________________________\n",
      "\u001b[1mWe reject the Null Hypothesis for No variance diff:\u001b[0m\n",
      "0.8843497629847044  <  1.3324838006244877  <  1.1378465393434065  Which is NOT true\n",
      "\u001b[1mWe failed to reject the Null Hypothesis for No mean diff:\u001b[0m\n",
      "1.9599681480672058  <  17.266432507084996  <  -1.9599681480672058  Which is  true\n",
      "\n",
      "\n",
      "______________________________________________________________________________\n",
      "One variable  price\n",
      "______________________________________________________________________________\n",
      "\u001b[1mWe reject the Null Hypothesis for No variance diff:\u001b[0m\n",
      "0.8843497629847044  <  3.6053036453261824  <  1.1378465393434065  Which is NOT true\n",
      "\u001b[1mWe failed to reject the Null Hypothesis for No mean diff:\u001b[0m\n",
      "1.9599646211506219  <  -8.57847549155532  <  -1.9599646211506219  Which is  true\n",
      "\n",
      "\n",
      "______________________________________________________________________________\n",
      "Test between:  4 BHK  and 4 Bedroom\n",
      "sample1 size=  591 sample1 size=  826\n",
      "______________________________________________________________________________\n",
      "One variable  bath\n",
      "______________________________________________________________________________\n",
      "\u001b[1mWe failed to reject the Null Hypothesis for No variance diff:\u001b[0m\n",
      "0.8602646619586977  <  1.063287699527082  <  1.160246361291198  Which is true\n",
      "\u001b[1mWe failed to reject the Null Hypothesis for No mean diff:\u001b[0m\n",
      "1.961641911894141  <  7.8353714775850225  <  -1.961641911894141  Which is  true\n",
      "\n",
      "\n",
      "______________________________________________________________________________\n",
      "One variable  balcony\n",
      "______________________________________________________________________________\n",
      "\u001b[1mWe failed to reject the Null Hypothesis for No variance diff:\u001b[0m\n",
      "0.8602646619586977  <  1.079389304859049  <  1.160246361291198  Which is true\n",
      "\u001b[1mWe failed to reject the Null Hypothesis for No mean diff:\u001b[0m\n",
      "1.961641911894141  <  6.7144297500075245  <  -1.961641911894141  Which is  true\n",
      "\n",
      "\n",
      "______________________________________________________________________________\n",
      "One variable  price\n",
      "______________________________________________________________________________\n",
      "\u001b[1mWe reject the Null Hypothesis for No variance diff:\u001b[0m\n",
      "0.8602646619586977  <  1.3553078924182618  <  1.160246361291198  Which is NOT true\n",
      "\u001b[1mWe reject the Null Hypothesis for No mean diff:\u001b[0m\n",
      "1.9609960713615593  <  0.9677191932664206  <  -1.9609960713615593  Which is NOT true\n",
      "\n",
      "\n",
      "______________________________________________________________________________\n",
      "Test between:  5 BHK  and 5 Bedroom\n",
      "sample1 size=  59 sample1 size=  297\n",
      "______________________________________________________________________________\n",
      "One variable  bath\n",
      "______________________________________________________________________________\n",
      "\u001b[1mWe reject the Null Hypothesis for No variance diff:\u001b[0m\n",
      "0.6515475283793659  <  1.607303759049257  <  1.4533630499655377  Which is NOT true\n",
      "\u001b[1mWe failed to reject the Null Hypothesis for No mean diff:\u001b[0m\n",
      "1.9928949253775907  <  2.7146598093868866  <  -1.9928949253775907  Which is  true\n",
      "\n",
      "\n",
      "______________________________________________________________________________\n",
      "One variable  balcony\n",
      "______________________________________________________________________________\n",
      "\u001b[1mWe failed to reject the Null Hypothesis for No variance diff:\u001b[0m\n",
      "0.6515475283793659  <  1.0881862761799561  <  1.4533630499655377  Which is true\n",
      "\u001b[1mWe reject the Null Hypothesis for No mean diff:\u001b[0m\n",
      "1.9666878964646288  <  1.5829446371673936  <  -1.9666878964646288  Which is NOT true\n",
      "\n",
      "\n",
      "______________________________________________________________________________\n",
      "One variable  price\n",
      "______________________________________________________________________________\n",
      "\u001b[1mWe reject the Null Hypothesis for No variance diff:\u001b[0m\n",
      "0.6515475283793659  <  3.5077509253488186  <  1.4533630499655377  Which is NOT true\n",
      "\u001b[1mWe failed to reject the Null Hypothesis for No mean diff:\u001b[0m\n",
      "1.9685030276007185  <  2.519329238847227  <  -1.9685030276007185  Which is  true\n",
      "\n",
      "\n",
      "______________________________________________________________________________\n",
      "Test between:  6 BHK  and 6 Bedroom\n",
      "sample1 size=  30 sample1 size=  191\n",
      "______________________________________________________________________________\n",
      "One variable  bath\n",
      "______________________________________________________________________________\n",
      "\u001b[1mWe failed to reject the Null Hypothesis for No variance diff:\u001b[0m\n",
      "0.5382710559466972  <  1.127961337635118  <  1.6543751440173202  Which is true\n",
      "\u001b[1mWe reject the Null Hypothesis for No mean diff:\u001b[0m\n",
      "1.9708553671580111  <  0.57106807525178  <  -1.9708553671580111  Which is NOT true\n",
      "\n",
      "\n",
      "______________________________________________________________________________\n",
      "One variable  balcony\n"
     ]
    },
    {
     "name": "stdout",
     "output_type": "stream",
     "text": [
      "______________________________________________________________________________\n",
      "\u001b[1mWe failed to reject the Null Hypothesis for No variance diff:\u001b[0m\n",
      "0.5382710559466972  <  1.0212062958068007  <  1.6543751440173202  Which is true\n",
      "\u001b[1mWe reject the Null Hypothesis for No mean diff:\u001b[0m\n",
      "1.9708553671580111  <  0.3897209854287122  <  -1.9708553671580111  Which is NOT true\n",
      "\n",
      "\n",
      "______________________________________________________________________________\n",
      "One variable  price\n",
      "______________________________________________________________________________\n",
      "\u001b[1mWe reject the Null Hypothesis for No variance diff:\u001b[0m\n",
      "0.5382710559466972  <  1.9118503312016595  <  1.6543751440173202  Which is NOT true\n",
      "\u001b[1mWe reject the Null Hypothesis for No mean diff:\u001b[0m\n",
      "1.963039886651442  <  -0.4647801488282838  <  -1.963039886651442  Which is NOT true\n",
      "\n",
      "\n",
      "______________________________________________________________________________\n",
      "Test between:  7 BHK  and 7 Bedroom\n",
      "sample1 size=  17 sample1 size=  83\n",
      "______________________________________________________________________________\n",
      "One variable  bath\n",
      "______________________________________________________________________________\n",
      "\u001b[1mWe failed to reject the Null Hypothesis for No variance diff:\u001b[0m\n",
      "0.41440786876671437  <  1.1878919522080686  <  1.9697840727818863  Which is true\n",
      "\u001b[1mWe reject the Null Hypothesis for No mean diff:\u001b[0m\n",
      "1.9844674544266925  <  -0.21942542169510637  <  -1.9844674544266925  Which is NOT true\n",
      "\n",
      "\n",
      "______________________________________________________________________________\n",
      "One variable  balcony\n",
      "______________________________________________________________________________\n",
      "\u001b[1mWe failed to reject the Null Hypothesis for No variance diff:\u001b[0m\n",
      "0.41440786876671437  <  1.1486019123397897  <  1.9697840727818863  Which is true\n",
      "\u001b[1mWe failed to reject the Null Hypothesis for No mean diff:\u001b[0m\n",
      "1.9844674544266925  <  2.3456457890564093  <  -1.9844674544266925  Which is  true\n",
      "\n",
      "\n",
      "______________________________________________________________________________\n",
      "One variable  price\n",
      "______________________________________________________________________________\n",
      "\u001b[1mWe reject the Null Hypothesis for No variance diff:\u001b[0m\n",
      "0.41440786876671437  <  15.053284137716776  <  1.9697840727818863  Which is NOT true\n",
      "\u001b[1mWe reject the Null Hypothesis for No mean diff:\u001b[0m\n",
      "1.9613446828336762  <  1.0465157115596069  <  -1.9613446828336762  Which is NOT true\n",
      "\n",
      "\n",
      "______________________________________________________________________________\n",
      "Test between:  8 BHK  and 8 Bedroom\n",
      "sample1 size=  5 sample1 size=  84\n",
      "______________________________________________________________________________\n",
      "One variable  bath\n",
      "______________________________________________________________________________\n",
      "\u001b[1mWe failed to reject the Null Hypothesis for No variance diff:\u001b[0m\n",
      "0.12001784105737909  <  1.4168571864045127  <  2.9442235267674897  Which is true\n",
      "\u001b[1mWe reject the Null Hypothesis for No mean diff:\u001b[0m\n",
      "1.9876082814405773  <  -0.4116467888692241  <  -1.9876082814405773  Which is NOT true\n",
      "\n",
      "\n",
      "______________________________________________________________________________\n",
      "One variable  balcony\n",
      "______________________________________________________________________________\n",
      "\u001b[1mWe reject the Null Hypothesis for No variance diff:\u001b[0m\n",
      "One Variance is equall to zero and the other is not\n",
      "\u001b[1mWe reject the Null Hypothesis for No mean diff:\u001b[0m\n",
      "One Variance is equall to zero and the other is not\n",
      "\n",
      "\n",
      "______________________________________________________________________________\n",
      "One variable  price\n",
      "______________________________________________________________________________\n",
      "\u001b[1mWe reject the Null Hypothesis for No variance diff:\u001b[0m\n",
      "0.12001784105737909  <  7.414128789300508  <  2.9442235267674897  Which is NOT true\n",
      "\u001b[1mWe reject the Null Hypothesis for No mean diff:\u001b[0m\n",
      "1.9605760701158588  <  -0.8755781067048931  <  -1.9605760701158588  Which is NOT true\n",
      "\n",
      "\n",
      "______________________________________________________________________________\n",
      "Test between:  9 BHK  and 9 Bedroom\n",
      "sample1 size=  8 sample1 size=  46\n",
      "______________________________________________________________________________\n",
      "One variable  bath\n",
      "______________________________________________________________________________\n",
      "\u001b[1mWe reject the Null Hypothesis for No variance diff:\u001b[0m\n",
      "0.23305535645039943  <  7.518420499894981  <  2.5842137295362866  Which is NOT true\n",
      "\u001b[1mWe reject the Null Hypothesis for No mean diff:\u001b[0m\n",
      "2.025690452626401  <  0.7737090112522212  <  -2.025690452626401  Which is NOT true\n",
      "\n",
      "\n",
      "______________________________________________________________________________\n",
      "One variable  balcony\n",
      "______________________________________________________________________________\n",
      "\u001b[1mWe failed to reject the Null Hypothesis for No variance diff:\u001b[0m\n",
      "0.23305535645039943  <  1.383200872681939  <  2.5842137295362866  Which is true\n",
      "\u001b[1mWe failed to reject the Null Hypothesis for No mean diff:\u001b[0m\n",
      "2.0066468031022118  <  2.2308307196428543  <  -2.0066468031022118  Which is  true\n",
      "\n",
      "\n",
      "______________________________________________________________________________\n",
      "One variable  price\n",
      "______________________________________________________________________________\n",
      "\u001b[1mWe reject the Null Hypothesis for No variance diff:\u001b[0m\n",
      "0.23305535645039943  <  2.742813111748604  <  2.5842137295362866  Which is NOT true\n",
      "\u001b[1mWe reject the Null Hypothesis for No mean diff:\u001b[0m\n",
      "1.9600990156332385  <  0.14110191204917255  <  -1.9600990156332385  Which is NOT true\n",
      "\n",
      "\n",
      "______________________________________________________________________________\n",
      "Test between:  10 BHK  and 10 Bedroom\n",
      "sample1 size=  2 sample1 size=  12\n",
      "______________________________________________________________________________\n",
      "One variable  bath\n",
      "______________________________________________________________________________\n",
      "\u001b[1mWe reject the Null Hypothesis for No variance diff:\u001b[0m\n",
      "One Variance is equall to zero and the other is not\n",
      "\u001b[1mWe reject the Null Hypothesis for No mean diff:\u001b[0m\n",
      "One Variance is equall to zero and the other is not\n",
      "\n",
      "\n",
      "______________________________________________________________________________\n",
      "One variable  balcony\n",
      "______________________________________________________________________________\n",
      "\u001b[1mWe reject the Null Hypothesis for No variance diff:\u001b[0m\n",
      "One Variance is equall to zero and the other is not\n",
      "\u001b[1mWe reject the Null Hypothesis for No mean diff:\u001b[0m\n",
      "One Variance is equall to zero and the other is not\n",
      "\n",
      "\n",
      "______________________________________________________________________________\n",
      "One variable  price\n",
      "______________________________________________________________________________\n",
      "\u001b[1mWe reject the Null Hypothesis for No variance diff:\u001b[0m\n",
      "0.0010277226108979783  <  14.176094781555468  <  6.724129660239184  Which is NOT true\n",
      "\u001b[1mWe reject the Null Hypothesis for No mean diff:\u001b[0m\n",
      "1.9599639887540572  <  -0.6536454815481315  <  -1.9599639887540572  Which is NOT true\n",
      "\n",
      "\n",
      "______________________________________________________________________________\n",
      "Test between:  11 BHK  and 11 Bedroom\n",
      "sample1 size=  2 sample1 size=  2\n",
      "______________________________________________________________________________\n",
      "One variable  bath\n",
      "______________________________________________________________________________\n",
      "\u001b[1mWe failed to reject the Null Hypothesis for No variance diff:\u001b[0m\n",
      "0.0015437125086741326  <  2.7777777777777777  <  647.7890114778446  Which is true\n",
      "\u001b[1mWe reject the Null Hypothesis for No mean diff:\u001b[0m\n",
      "4.3026527299112765  <  0.6859943405700353  <  -4.3026527299112765  Which is NOT true\n",
      "\n",
      "\n",
      "______________________________________________________________________________\n",
      "One variable  balcony\n",
      "______________________________________________________________________________\n",
      "\u001b[1mWe reject the Null Hypothesis for No variance diff:\u001b[0m\n",
      "One Variance is equall to zero and the other is not\n",
      "\u001b[1mWe reject the Null Hypothesis for No mean diff:\u001b[0m\n",
      "One Variance is equall to zero and the other is not\n",
      "\n",
      "\n",
      "______________________________________________________________________________\n",
      "One variable  price\n",
      "______________________________________________________________________________\n",
      "\u001b[1mWe failed to reject the Null Hypothesis for No variance diff:\u001b[0m\n",
      "0.0015437125086741326  <  110.25  <  647.7890114778446  Which is true\n",
      "\u001b[1mWe reject the Null Hypothesis for No mean diff:\u001b[0m\n",
      "4.3026527299112765  <  0.9006863799659567  <  -4.3026527299112765  Which is NOT true\n",
      "\n",
      "\n"
     ]
    }
   ],
   "source": [
    "test_list = []\n",
    "bath_list = []\n",
    "balcony_list = []\n",
    "price_list = []\n",
    "n1_list = []\n",
    "n2_list = []\n",
    "\n",
    "\n",
    "for i in compare_list:\n",
    "    print(\"______________________________________________________________________________\")\n",
    "    print(\"Test between: \", i[0], \" and\", i[1])\n",
    "    print(\"sample1 size= \",len(df[df['size']==i[0]]),\"sample1 size= \",len(df[df['size']==i[1]]))\n",
    "\n",
    "    test_list.append([i[0],i[1]])\n",
    "    n1_list.append(len(df[df['size']==i[0]]))\n",
    "    n2_list.append(len(df[df['size']==i[1]]))\n",
    "    for j in variable:\n",
    "        print(\"______________________________________________________________________________\")\n",
    "        print(\"One variable \", j)\n",
    "        print(\"______________________________________________________________________________\")\n",
    "\n",
    "        if (len(df[df['size']==i[0]])<0)or(len(df[df['size']==i[1]])<0):\n",
    "            print(\"Sample is too small for a test\")\n",
    "            \n",
    "            \n",
    "            if(j==\"bath\"):\n",
    "                bath_list.append(\"Reject_DueSampleSize\")\n",
    "            elif(j==\"balcony\"):\n",
    "                balcony_list.append(\"Reject_DueSampleSize\")\n",
    "            else:\n",
    "                price_list.append(\"Reject_DueSampleSize\")\n",
    "        else:\n",
    "            result = F_test (x=df[df['size']==i[0]],y=df[df['size']==i[1]],variable=j,alpha=0.05)\n",
    "            result2 = test_of_mean_diff(x=df[df['size']==i[0]],y=df[df['size']==i[1]],variable=j,result=result, alpah=0.05)\n",
    "            \n",
    "            if(j==\"bath\"):\n",
    "                bath_list.append(result2)\n",
    "            elif(j==\"balcony\"):\n",
    "                balcony_list.append(result2)\n",
    "            else:\n",
    "                price_list.append(result2)\n",
    "        print(\"\\n\")\n",
    "        \n",
    "    \n"
   ]
  },
  {
   "cell_type": "code",
   "execution_count": 104,
   "metadata": {
    "ExecuteTime": {
     "end_time": "2020-02-09T04:31:10.603214Z",
     "start_time": "2020-02-09T04:31:10.587621Z"
    }
   },
   "outputs": [],
   "source": [
    "d = {'test': test_list,'n1':n1_list,'n2':n2_list, 'bath': bath_list, 'balcony': balcony_list, 'price': price_list}"
   ]
  },
  {
   "cell_type": "code",
   "execution_count": 105,
   "metadata": {
    "ExecuteTime": {
     "end_time": "2020-02-09T04:31:10.620744Z",
     "start_time": "2020-02-09T04:31:10.609035Z"
    }
   },
   "outputs": [],
   "source": [
    "Hyp_df = pd.DataFrame(data=d)"
   ]
  },
  {
   "cell_type": "code",
   "execution_count": 106,
   "metadata": {
    "ExecuteTime": {
     "end_time": "2020-02-09T04:31:10.650384Z",
     "start_time": "2020-02-09T04:31:10.626644Z"
    }
   },
   "outputs": [],
   "source": [
    "count = []\n",
    "for index, row in Hyp_df.iterrows():\n",
    "    n=0\n",
    "    for i in variable:\n",
    "        if(row[i]==\"Do Not Reject\"):\n",
    "            n = n+1\n",
    "        elif(row[i]==\"Reject_DueSampleSize\"):\n",
    "            n = n-1\n",
    "    if(n>=2):\n",
    "        count.append(\"Similar\")\n",
    "    elif(n<0):\n",
    "        count.append(\"Reject_DueSampleSize\")\n",
    "    else:\n",
    "        count.append(\"Not Similar\")\n",
    "        \n",
    "Hyp_df[\"Result\"] = count"
   ]
  },
  {
   "cell_type": "code",
   "execution_count": 107,
   "metadata": {
    "ExecuteTime": {
     "end_time": "2020-02-09T04:31:10.670332Z",
     "start_time": "2020-02-09T04:31:10.655094Z"
    }
   },
   "outputs": [],
   "source": [
    "Hyp_df.set_index(['test'], inplace=True)"
   ]
  },
  {
   "cell_type": "code",
   "execution_count": 108,
   "metadata": {
    "ExecuteTime": {
     "end_time": "2020-02-09T04:31:10.720693Z",
     "start_time": "2020-02-09T04:31:10.675438Z"
    }
   },
   "outputs": [
    {
     "data": {
      "text/html": [
       "<div>\n",
       "<style scoped>\n",
       "    .dataframe tbody tr th:only-of-type {\n",
       "        vertical-align: middle;\n",
       "    }\n",
       "\n",
       "    .dataframe tbody tr th {\n",
       "        vertical-align: top;\n",
       "    }\n",
       "\n",
       "    .dataframe thead th {\n",
       "        text-align: right;\n",
       "    }\n",
       "</style>\n",
       "<table border=\"1\" class=\"dataframe\">\n",
       "  <thead>\n",
       "    <tr style=\"text-align: right;\">\n",
       "      <th></th>\n",
       "      <th>n1</th>\n",
       "      <th>n2</th>\n",
       "      <th>bath</th>\n",
       "      <th>balcony</th>\n",
       "      <th>price</th>\n",
       "      <th>Result</th>\n",
       "    </tr>\n",
       "    <tr>\n",
       "      <th>test</th>\n",
       "      <th></th>\n",
       "      <th></th>\n",
       "      <th></th>\n",
       "      <th></th>\n",
       "      <th></th>\n",
       "      <th></th>\n",
       "    </tr>\n",
       "  </thead>\n",
       "  <tbody>\n",
       "    <tr>\n",
       "      <td>[1 BHK, 1 Bedroom]</td>\n",
       "      <td>538</td>\n",
       "      <td>105</td>\n",
       "      <td>Reject</td>\n",
       "      <td>Do Not Reject</td>\n",
       "      <td>Do Not Reject</td>\n",
       "      <td>Similar</td>\n",
       "    </tr>\n",
       "    <tr>\n",
       "      <td>[2 BHK, 2 Bedroom]</td>\n",
       "      <td>5199</td>\n",
       "      <td>329</td>\n",
       "      <td>Do Not Reject</td>\n",
       "      <td>Do Not Reject</td>\n",
       "      <td>Do Not Reject</td>\n",
       "      <td>Similar</td>\n",
       "    </tr>\n",
       "    <tr>\n",
       "      <td>[3 BHK, 3 Bedroom]</td>\n",
       "      <td>4310</td>\n",
       "      <td>547</td>\n",
       "      <td>Do Not Reject</td>\n",
       "      <td>Do Not Reject</td>\n",
       "      <td>Do Not Reject</td>\n",
       "      <td>Similar</td>\n",
       "    </tr>\n",
       "    <tr>\n",
       "      <td>[4 BHK, 4 Bedroom]</td>\n",
       "      <td>591</td>\n",
       "      <td>826</td>\n",
       "      <td>Do Not Reject</td>\n",
       "      <td>Do Not Reject</td>\n",
       "      <td>Reject</td>\n",
       "      <td>Similar</td>\n",
       "    </tr>\n",
       "    <tr>\n",
       "      <td>[5 BHK, 5 Bedroom]</td>\n",
       "      <td>59</td>\n",
       "      <td>297</td>\n",
       "      <td>Do Not Reject</td>\n",
       "      <td>Reject</td>\n",
       "      <td>Do Not Reject</td>\n",
       "      <td>Similar</td>\n",
       "    </tr>\n",
       "    <tr>\n",
       "      <td>[6 BHK, 6 Bedroom]</td>\n",
       "      <td>30</td>\n",
       "      <td>191</td>\n",
       "      <td>Reject</td>\n",
       "      <td>Reject</td>\n",
       "      <td>Reject</td>\n",
       "      <td>Not Similar</td>\n",
       "    </tr>\n",
       "    <tr>\n",
       "      <td>[7 BHK, 7 Bedroom]</td>\n",
       "      <td>17</td>\n",
       "      <td>83</td>\n",
       "      <td>Reject</td>\n",
       "      <td>Do Not Reject</td>\n",
       "      <td>Reject</td>\n",
       "      <td>Not Similar</td>\n",
       "    </tr>\n",
       "    <tr>\n",
       "      <td>[8 BHK, 8 Bedroom]</td>\n",
       "      <td>5</td>\n",
       "      <td>84</td>\n",
       "      <td>Reject</td>\n",
       "      <td>Reject</td>\n",
       "      <td>Reject</td>\n",
       "      <td>Not Similar</td>\n",
       "    </tr>\n",
       "    <tr>\n",
       "      <td>[9 BHK, 9 Bedroom]</td>\n",
       "      <td>8</td>\n",
       "      <td>46</td>\n",
       "      <td>Reject</td>\n",
       "      <td>Do Not Reject</td>\n",
       "      <td>Reject</td>\n",
       "      <td>Not Similar</td>\n",
       "    </tr>\n",
       "    <tr>\n",
       "      <td>[10 BHK, 10 Bedroom]</td>\n",
       "      <td>2</td>\n",
       "      <td>12</td>\n",
       "      <td>Reject</td>\n",
       "      <td>Reject</td>\n",
       "      <td>Reject</td>\n",
       "      <td>Not Similar</td>\n",
       "    </tr>\n",
       "    <tr>\n",
       "      <td>[11 BHK, 11 Bedroom]</td>\n",
       "      <td>2</td>\n",
       "      <td>2</td>\n",
       "      <td>Reject</td>\n",
       "      <td>Reject</td>\n",
       "      <td>Reject</td>\n",
       "      <td>Not Similar</td>\n",
       "    </tr>\n",
       "  </tbody>\n",
       "</table>\n",
       "</div>"
      ],
      "text/plain": [
       "                        n1   n2           bath        balcony          price  \\\n",
       "test                                                                           \n",
       "[1 BHK, 1 Bedroom]     538  105         Reject  Do Not Reject  Do Not Reject   \n",
       "[2 BHK, 2 Bedroom]    5199  329  Do Not Reject  Do Not Reject  Do Not Reject   \n",
       "[3 BHK, 3 Bedroom]    4310  547  Do Not Reject  Do Not Reject  Do Not Reject   \n",
       "[4 BHK, 4 Bedroom]     591  826  Do Not Reject  Do Not Reject         Reject   \n",
       "[5 BHK, 5 Bedroom]      59  297  Do Not Reject         Reject  Do Not Reject   \n",
       "[6 BHK, 6 Bedroom]      30  191         Reject         Reject         Reject   \n",
       "[7 BHK, 7 Bedroom]      17   83         Reject  Do Not Reject         Reject   \n",
       "[8 BHK, 8 Bedroom]       5   84         Reject         Reject         Reject   \n",
       "[9 BHK, 9 Bedroom]       8   46         Reject  Do Not Reject         Reject   \n",
       "[10 BHK, 10 Bedroom]     2   12         Reject         Reject         Reject   \n",
       "[11 BHK, 11 Bedroom]     2    2         Reject         Reject         Reject   \n",
       "\n",
       "                           Result  \n",
       "test                               \n",
       "[1 BHK, 1 Bedroom]        Similar  \n",
       "[2 BHK, 2 Bedroom]        Similar  \n",
       "[3 BHK, 3 Bedroom]        Similar  \n",
       "[4 BHK, 4 Bedroom]        Similar  \n",
       "[5 BHK, 5 Bedroom]        Similar  \n",
       "[6 BHK, 6 Bedroom]    Not Similar  \n",
       "[7 BHK, 7 Bedroom]    Not Similar  \n",
       "[8 BHK, 8 Bedroom]    Not Similar  \n",
       "[9 BHK, 9 Bedroom]    Not Similar  \n",
       "[10 BHK, 10 Bedroom]  Not Similar  \n",
       "[11 BHK, 11 Bedroom]  Not Similar  "
      ]
     },
     "execution_count": 108,
     "metadata": {},
     "output_type": "execute_result"
    }
   ],
   "source": [
    "Hyp_df"
   ]
  },
  {
   "cell_type": "markdown",
   "metadata": {},
   "source": [
    "Calculate B "
   ]
  },
  {
   "cell_type": "markdown",
   "metadata": {},
   "source": [
    "- The ones with sufficient sample sizes has shown that both are of great similarties, and there fore bedrom will be assumed as a type error."
   ]
  },
  {
   "cell_type": "code",
   "execution_count": 109,
   "metadata": {
    "ExecuteTime": {
     "end_time": "2020-02-09T04:31:18.052021Z",
     "start_time": "2020-02-09T04:31:10.725281Z"
    }
   },
   "outputs": [],
   "source": [
    "new_size_list = []\n",
    "\n",
    "for index, row in df.iterrows():\n",
    "    if(row['size']==\"1 Bedroom\"):\n",
    "        new_size_list.append('1 BHK')\n",
    "    elif(row['size']==\"2 Bedroom\"):\n",
    "        new_size_list.append('2 BHK')\n",
    "    elif(row['size']==\"3 Bedroom\"):\n",
    "        new_size_list.append('3 BHK')\n",
    "    elif(row['size']==\"4 Bedroom\"):\n",
    "        new_size_list.append('4 BHK')\n",
    "    elif(row['size']==\"5 Bedroom\"):\n",
    "        new_size_list.append('5 BHK')\n",
    "    elif(row['size']==\"6 Bedroom\"):\n",
    "        new_size_list.append('6 BHK')\n",
    "    elif(row['size']==\"7 Bedroom\"):\n",
    "        new_size_list.append('7 BHK')\n",
    "    elif(row['size']==\"8 Bedroom\"):\n",
    "        new_size_list.append('8 BHK')\n",
    "    elif(row['size']==\"9 Bedroom\"):\n",
    "        new_size_list.append('9 BHK')\n",
    "    elif(row['size']==\"10 Bedroom\"):\n",
    "        new_size_list.append('10 BHK')\n",
    "    elif(row['size']==\"11 Bedroom\"):\n",
    "        new_size_list.append('11 BHK')\n",
    "    elif(row['size']==\"12 Bedroom\"):\n",
    "        new_size_list.append('12 BHK')\n",
    "    elif(row['size']==\"18 Bedroom\"):\n",
    "        new_size_list.append('18 BHK')\n",
    "    elif(row['size']==\"43 Bedroom\"):\n",
    "        new_size_list.append('43 BHK')\n",
    "    else:\n",
    "        new_size_list.append(row['size'])        "
   ]
  },
  {
   "cell_type": "code",
   "execution_count": 110,
   "metadata": {
    "ExecuteTime": {
     "end_time": "2020-02-09T04:31:18.074356Z",
     "start_time": "2020-02-09T04:31:18.055977Z"
    }
   },
   "outputs": [],
   "source": [
    "df.loc[:,\"size\"] = new_size_list"
   ]
  },
  {
   "cell_type": "code",
   "execution_count": 111,
   "metadata": {
    "ExecuteTime": {
     "end_time": "2020-02-09T04:31:18.108153Z",
     "start_time": "2020-02-09T04:31:18.079053Z"
    }
   },
   "outputs": [],
   "source": [
    "df['size'] = df['size'].astype('category') "
   ]
  },
  {
   "cell_type": "code",
   "execution_count": 112,
   "metadata": {
    "ExecuteTime": {
     "end_time": "2020-02-09T04:31:18.136469Z",
     "start_time": "2020-02-09T04:31:18.113139Z"
    }
   },
   "outputs": [
    {
     "data": {
      "text/plain": [
       "2 BHK     5528\n",
       "3 BHK     4857\n",
       "4 BHK     1417\n",
       "1 BHK      643\n",
       "5 BHK      356\n",
       "6 BHK      221\n",
       "7 BHK      100\n",
       "8 BHK       89\n",
       "9 BHK       54\n",
       "empty       16\n",
       "10 BHK      14\n",
       "1 RK        13\n",
       "11 BHK       4\n",
       "27 BHK       1\n",
       "19 BHK       1\n",
       "43 BHK       1\n",
       "16 BHK       1\n",
       "14 BHK       1\n",
       "13 BHK       1\n",
       "12 BHK       1\n",
       "18 BHK       1\n",
       "Name: size, dtype: int64"
      ]
     },
     "execution_count": 112,
     "metadata": {},
     "output_type": "execute_result"
    }
   ],
   "source": [
    "df['size'].value_counts()"
   ]
  },
  {
   "cell_type": "markdown",
   "metadata": {},
   "source": [
    "### Investigating Outliers Through Visualization"
   ]
  },
  {
   "cell_type": "code",
   "execution_count": 113,
   "metadata": {
    "ExecuteTime": {
     "end_time": "2020-02-09T04:31:18.164524Z",
     "start_time": "2020-02-09T04:31:18.141993Z"
    },
    "cell_style": "split",
    "scrolled": true
   },
   "outputs": [
    {
     "name": "stdout",
     "output_type": "stream",
     "text": [
      "<class 'pandas.core.frame.DataFrame'>\n",
      "Int64Index: 13320 entries, 0 to 13299\n",
      "Data columns (total 9 columns):\n",
      "area_type       13320 non-null category\n",
      "availability    13320 non-null category\n",
      "location        13320 non-null category\n",
      "size            13320 non-null category\n",
      "society         13320 non-null category\n",
      "total_sqft      13320 non-null float64\n",
      "bath            13320 non-null int32\n",
      "balcony         13320 non-null int32\n",
      "price           13320 non-null float64\n",
      "dtypes: category(5), float64(2), int32(2)\n",
      "memory usage: 659.7 KB\n"
     ]
    }
   ],
   "source": [
    "df.info()"
   ]
  },
  {
   "cell_type": "code",
   "execution_count": 114,
   "metadata": {
    "ExecuteTime": {
     "end_time": "2020-02-09T04:31:18.236685Z",
     "start_time": "2020-02-09T04:31:18.168501Z"
    },
    "cell_style": "split"
   },
   "outputs": [
    {
     "data": {
      "text/html": [
       "<div>\n",
       "<style scoped>\n",
       "    .dataframe tbody tr th:only-of-type {\n",
       "        vertical-align: middle;\n",
       "    }\n",
       "\n",
       "    .dataframe tbody tr th {\n",
       "        vertical-align: top;\n",
       "    }\n",
       "\n",
       "    .dataframe thead th {\n",
       "        text-align: right;\n",
       "    }\n",
       "</style>\n",
       "<table border=\"1\" class=\"dataframe\">\n",
       "  <thead>\n",
       "    <tr style=\"text-align: right;\">\n",
       "      <th></th>\n",
       "      <th>total_sqft</th>\n",
       "      <th>bath</th>\n",
       "      <th>balcony</th>\n",
       "      <th>price</th>\n",
       "    </tr>\n",
       "  </thead>\n",
       "  <tbody>\n",
       "    <tr>\n",
       "      <td>count</td>\n",
       "      <td>1.332000e+04</td>\n",
       "      <td>13320.000000</td>\n",
       "      <td>13320.000000</td>\n",
       "      <td>13320.000000</td>\n",
       "    </tr>\n",
       "    <tr>\n",
       "      <td>mean</td>\n",
       "      <td>1.908430e+03</td>\n",
       "      <td>2.691667</td>\n",
       "      <td>1.596021</td>\n",
       "      <td>112.565627</td>\n",
       "    </tr>\n",
       "    <tr>\n",
       "      <td>std</td>\n",
       "      <td>1.725736e+04</td>\n",
       "      <td>1.343164</td>\n",
       "      <td>0.807149</td>\n",
       "      <td>148.971674</td>\n",
       "    </tr>\n",
       "    <tr>\n",
       "      <td>min</td>\n",
       "      <td>1.000000e+00</td>\n",
       "      <td>0.000000</td>\n",
       "      <td>0.000000</td>\n",
       "      <td>8.000000</td>\n",
       "    </tr>\n",
       "    <tr>\n",
       "      <td>25%</td>\n",
       "      <td>1.100000e+03</td>\n",
       "      <td>2.000000</td>\n",
       "      <td>1.000000</td>\n",
       "      <td>50.000000</td>\n",
       "    </tr>\n",
       "    <tr>\n",
       "      <td>50%</td>\n",
       "      <td>1.277000e+03</td>\n",
       "      <td>2.000000</td>\n",
       "      <td>2.000000</td>\n",
       "      <td>72.000000</td>\n",
       "    </tr>\n",
       "    <tr>\n",
       "      <td>75%</td>\n",
       "      <td>1.680000e+03</td>\n",
       "      <td>3.000000</td>\n",
       "      <td>2.000000</td>\n",
       "      <td>120.000000</td>\n",
       "    </tr>\n",
       "    <tr>\n",
       "      <td>max</td>\n",
       "      <td>1.306800e+06</td>\n",
       "      <td>40.000000</td>\n",
       "      <td>3.000000</td>\n",
       "      <td>3600.000000</td>\n",
       "    </tr>\n",
       "  </tbody>\n",
       "</table>\n",
       "</div>"
      ],
      "text/plain": [
       "         total_sqft          bath       balcony         price\n",
       "count  1.332000e+04  13320.000000  13320.000000  13320.000000\n",
       "mean   1.908430e+03      2.691667      1.596021    112.565627\n",
       "std    1.725736e+04      1.343164      0.807149    148.971674\n",
       "min    1.000000e+00      0.000000      0.000000      8.000000\n",
       "25%    1.100000e+03      2.000000      1.000000     50.000000\n",
       "50%    1.277000e+03      2.000000      2.000000     72.000000\n",
       "75%    1.680000e+03      3.000000      2.000000    120.000000\n",
       "max    1.306800e+06     40.000000      3.000000   3600.000000"
      ]
     },
     "execution_count": 114,
     "metadata": {},
     "output_type": "execute_result"
    }
   ],
   "source": [
    "df.describe() "
   ]
  },
  {
   "cell_type": "code",
   "execution_count": 115,
   "metadata": {
    "ExecuteTime": {
     "end_time": "2020-02-09T04:31:18.266908Z",
     "start_time": "2020-02-09T04:31:18.240679Z"
    }
   },
   "outputs": [
    {
     "data": {
      "text/plain": [
       "0        39.070\n",
       "4        51.000\n",
       "5        38.000\n",
       "12       38.000\n",
       "13       40.000\n",
       "          ...  \n",
       "11650    53.105\n",
       "12791    61.740\n",
       "12975    38.190\n",
       "13059    72.760\n",
       "13265    59.135\n",
       "Name: price, Length: 5528, dtype: float64"
      ]
     },
     "execution_count": 115,
     "metadata": {},
     "output_type": "execute_result"
    }
   ],
   "source": [
    "df[df['size']==\"2 BHK\"].price"
   ]
  },
  {
   "cell_type": "code",
   "execution_count": 116,
   "metadata": {
    "ExecuteTime": {
     "end_time": "2020-02-09T04:31:19.892280Z",
     "start_time": "2020-02-09T04:31:18.270902Z"
    }
   },
   "outputs": [
    {
     "data": {
      "text/plain": [
       "[Text(0, 0.5, 'Price'),\n",
       " Text(0.5, 0, 'Size'),\n",
       " Text(0.5, 1.0, 'Boxplot of Price divided by size group')]"
      ]
     },
     "execution_count": 116,
     "metadata": {},
     "output_type": "execute_result"
    },
    {
     "data": {
      "image/png": "[encoded data removed]",
      "text/plain": [
       "<Figure size 1440x720 with 1 Axes>"
      ]
     },
     "metadata": {
      "needs_background": "light"
     },
     "output_type": "display_data"
    }
   ],
   "source": [
    "fig = plt.figure( figsize=(20,10))\n",
    "ax = fig.add_subplot(111)\n",
    "\n",
    "plt.grid(True)\n",
    "#plt.yscale('log')\n",
    "ax.boxplot(df[df['size']==\"1 BHK\"].price,positions =[0.25])\n",
    "ax.boxplot(df[df['size']==\"2 BHK\"].price,positions =[0.5])\n",
    "ax.boxplot(df[df['size']==\"3 BHK\"].price,positions =[0.75])\n",
    "ax.boxplot(df[df['size']==\"4 BHK\"].price,positions =[1.0])\n",
    "ax.boxplot(df[df['size']==\"5 BHK\"].price,positions =[1.25])\n",
    "ax.boxplot(df[df['size']==\"6 BHK\"].price,positions =[1.50])\n",
    "ax.boxplot(df[df['size']==\"7 BHK\"].price,positions =[1.75])\n",
    "ax.boxplot(df[df['size']==\"8 BHK\"].price,positions =[2.00])\n",
    "ax.boxplot(df[df['size']==\"9 BHK\"].price,positions =[2.25])\n",
    "ax.boxplot(df[df['size']==\"10 BHK\"].price,positions =[2.50])\n",
    "ax.boxplot(df[df['size']==\"11 BHK\"].price,positions =[2.75])\n",
    "ax.boxplot(df[df['size']==\"1 RK\"].price,positions =[3.00])\n",
    "ax.boxplot(df[df['size']==\"empty\"].price,positions =[3.20])\n",
    "\n",
    "ax.set_xticklabels(['1 BHK','2 BHK','3 BHK','4 BHK','5 BHK','6 BHK','7 BHK','8 BHK',\n",
    "                   '9 BHK','10 BHK','11 BHK','1 RK','empty'])\n",
    "ax.set_xticks([0.25, 0.5, 0.75,1.00, 1.25, 1.5, 1.75,2.00, 2.25, 2.5, 2.75,3.00,3.25])\n",
    "\n",
    "\n",
    "ax.set(title='Boxplot of Price divided by size group',\n",
    "      ylabel='Price',\n",
    "      xlabel='Size')"
   ]
  },
  {
   "cell_type": "code",
   "execution_count": 117,
   "metadata": {
    "ExecuteTime": {
     "end_time": "2020-02-09T04:31:21.288291Z",
     "start_time": "2020-02-09T04:31:19.895322Z"
    }
   },
   "outputs": [
    {
     "data": {
      "text/plain": [
       "[Text(0, 0.5, 'total_sqft'),\n",
       " Text(0.5, 0, 'Size'),\n",
       " Text(0.5, 1.0, 'Boxplot of total_sqft divided by size group')]"
      ]
     },
     "execution_count": 117,
     "metadata": {},
     "output_type": "execute_result"
    },
    {
     "data": {
      "image/png": "[encoded data removed]",
      "text/plain": [
       "<Figure size 1440x720 with 1 Axes>"
      ]
     },
     "metadata": {
      "needs_background": "light"
     },
     "output_type": "display_data"
    }
   ],
   "source": [
    "fig = plt.figure( figsize=(20,10))\n",
    "ax = fig.add_subplot(111)\n",
    "\n",
    "plt.grid(True)\n",
    "#plt.yscale('log')\n",
    "ax.boxplot(df[df['size']==\"1 BHK\"].total_sqft,positions =[0.25])\n",
    "ax.boxplot(df[df['size']==\"2 BHK\"].total_sqft,positions =[0.5])\n",
    "ax.boxplot(df[df['size']==\"3 BHK\"].total_sqft,positions =[0.75])\n",
    "ax.boxplot(df[df['size']==\"4 BHK\"].total_sqft,positions =[1.0])\n",
    "ax.boxplot(df[df['size']==\"5 BHK\"].total_sqft,positions =[1.25])\n",
    "ax.boxplot(df[df['size']==\"6 BHK\"].total_sqft,positions =[1.50])\n",
    "ax.boxplot(df[df['size']==\"7 BHK\"].total_sqft,positions =[1.75])\n",
    "ax.boxplot(df[df['size']==\"8 BHK\"].total_sqft,positions =[2.00])\n",
    "ax.boxplot(df[df['size']==\"9 BHK\"].total_sqft,positions =[2.25])\n",
    "ax.boxplot(df[df['size']==\"10 BHK\"].total_sqft,positions =[2.50])\n",
    "ax.boxplot(df[df['size']==\"11 BHK\"].total_sqft,positions =[2.75])\n",
    "ax.boxplot(df[df['size']==\"1 RK\"].total_sqft,positions =[3.00])\n",
    "ax.boxplot(df[df['size']==\"empty\"].total_sqft,positions =[3.20])\n",
    "\n",
    "ax.set_xticklabels(['1 BHK','2 BHK','3 BHK','4 BHK','5 BHK','6 BHK','7 BHK','8 BHK',\n",
    "                   '9 BHK','10 BHK','11 BHK','1 RK','empty'])\n",
    "ax.set_xticks([0.25, 0.5, 0.75,1.00, 1.25, 1.5, 1.75,2.00, 2.25, 2.5, 2.75,3.00,3.25])\n",
    "\n",
    "\n",
    "ax.set(title='Boxplot of total_sqft divided by size group',\n",
    "      ylabel='total_sqft',\n",
    "      xlabel='Size')"
   ]
  },
  {
   "cell_type": "markdown",
   "metadata": {},
   "source": [
    "There are many gategories that are affecting the price."
   ]
  },
  {
   "cell_type": "code",
   "execution_count": null,
   "metadata": {},
   "outputs": [],
   "source": []
  },
  {
   "cell_type": "code",
   "execution_count": null,
   "metadata": {},
   "outputs": [],
   "source": []
  },
  {
   "cell_type": "code",
   "execution_count": null,
   "metadata": {},
   "outputs": [],
   "source": []
  },
  {
   "cell_type": "code",
   "execution_count": 118,
   "metadata": {
    "ExecuteTime": {
     "end_time": "2020-02-09T04:31:21.325434Z",
     "start_time": "2020-02-09T04:31:21.290475Z"
    },
    "deletable": false,
    "editable": false,
    "run_control": {
     "frozen": true
    }
   },
   "outputs": [],
   "source": [
    "size_list = df['size'].unique()"
   ]
  },
  {
   "cell_type": "code",
   "execution_count": 129,
   "metadata": {
    "ExecuteTime": {
     "end_time": "2020-02-09T04:33:39.100658Z",
     "start_time": "2020-02-09T04:33:38.477850Z"
    },
    "deletable": false,
    "editable": false,
    "run_control": {
     "frozen": true
    }
   },
   "outputs": [],
   "source": [
    "for j in size_list:\n",
    "    m = 1000\n",
    "    x = df[df['size']==j]\n",
    "    x = x[x['total_sqft']>m]\n",
    "    while len(x)>2:\n",
    "        m = m+1000\n",
    "        x = x[x['total_sqft']>m]\n",
    "    if len(x)!=0:\n",
    "        drop_df = x[x['total_sqft']>m]\n",
    "        df = df.drop(drop_df.index)"
   ]
  },
  {
   "cell_type": "code",
   "execution_count": 131,
   "metadata": {
    "ExecuteTime": {
     "end_time": "2020-02-09T04:33:48.962473Z",
     "start_time": "2020-02-09T04:33:48.954612Z"
    }
   },
   "outputs": [
    {
     "data": {
      "text/plain": [
       "13269"
      ]
     },
     "execution_count": 131,
     "metadata": {},
     "output_type": "execute_result"
    }
   ],
   "source": [
    "len(df)"
   ]
  },
  {
   "cell_type": "code",
   "execution_count": 121,
   "metadata": {
    "ExecuteTime": {
     "end_time": "2020-02-09T04:31:22.578166Z",
     "start_time": "2020-02-09T04:31:22.548931Z"
    }
   },
   "outputs": [],
   "source": [
    "x = df.sort_values(by=['bath'])"
   ]
  },
  {
   "cell_type": "code",
   "execution_count": 122,
   "metadata": {
    "ExecuteTime": {
     "end_time": "2020-02-09T04:32:21.649072Z",
     "start_time": "2020-02-09T04:31:22.582142Z"
    },
    "scrolled": false
   },
   "outputs": [
    {
     "data": {
      "text/plain": [
       "[Text(0, 0.5, 'Number of Bath'),\n",
       " Text(0.5, 0, 'Size'),\n",
       " Text(0.5, 1.0, 'Bar Char of # of Bath')]"
      ]
     },
     "execution_count": 122,
     "metadata": {},
     "output_type": "execute_result"
    },
    {
     "data": {
      "image/png": "[encoded data removed]",
      "text/plain": [
       "<Figure size 1440x720 with 1 Axes>"
      ]
     },
     "metadata": {
      "needs_background": "light"
     },
     "output_type": "display_data"
    }
   ],
   "source": [
    "fig = plt.figure( figsize=(20,10))\n",
    "ax = fig.add_subplot(111)\n",
    "plt.bar(x['size'],x[\"bath\"])\n",
    "ax.set(title='Bar Char of # of Bath',\n",
    "      ylabel='Number of Bath',\n",
    "      xlabel='Size')\n"
   ]
  },
  {
   "cell_type": "code",
   "execution_count": 123,
   "metadata": {
    "ExecuteTime": {
     "end_time": "2020-02-09T04:32:21.674278Z",
     "start_time": "2020-02-09T04:32:21.652886Z"
    }
   },
   "outputs": [],
   "source": [
    "x = df.sort_values(by=['balcony'])"
   ]
  },
  {
   "cell_type": "code",
   "execution_count": 124,
   "metadata": {
    "ExecuteTime": {
     "end_time": "2020-02-09T04:33:22.735122Z",
     "start_time": "2020-02-09T04:32:21.678537Z"
    }
   },
   "outputs": [
    {
     "data": {
      "text/plain": [
       "[Text(0, 0.5, 'Number of balcony'),\n",
       " Text(0.5, 0, 'Size'),\n",
       " Text(0.5, 1.0, 'Bar Char of # of balcony')]"
      ]
     },
     "execution_count": 124,
     "metadata": {},
     "output_type": "execute_result"
    },
    {
     "data": {
      "image/png": "[encoded data removed]",
      "text/plain": [
       "<Figure size 1440x720 with 1 Axes>"
      ]
     },
     "metadata": {
      "needs_background": "light"
     },
     "output_type": "display_data"
    }
   ],
   "source": [
    "fig = plt.figure( figsize=(20,10))\n",
    "ax = fig.add_subplot(111)\n",
    "plt.bar(x['size'],x[\"balcony\"])\n",
    "ax.set(title='Bar Char of # of balcony',\n",
    "      ylabel='Number of balcony',\n",
    "      xlabel='Size')\n"
   ]
  }
 ],
 "metadata": {
  "kernelspec": {
   "display_name": "Python 3",
   "language": "python",
   "name": "python3"
  },
  "language_info": {
   "codemirror_mode": {
    "name": "ipython",
    "version": 3
   },
   "file_extension": ".py",
   "mimetype": "text/x-python",
   "name": "python",
   "nbconvert_exporter": "python",
   "pygments_lexer": "ipython3",
   "version": "3.7.4"
  },
  "toc": {
   "base_numbering": 1,
   "nav_menu": {},
   "number_sections": true,
   "sideBar": true,
   "skip_h1_title": false,
   "title_cell": "Table of Contents",
   "title_sidebar": "Contents",
   "toc_cell": false,
   "toc_position": {
    "height": "calc(100% - 180px)",
    "left": "10px",
    "top": "150px",
    "width": "273.594px"
   },
   "toc_section_display": true,
   "toc_window_display": false
  },
  "varInspector": {
   "cols": {
    "lenName": 16,
    "lenType": 16,
    "lenVar": 40
   },
   "kernels_config": {
    "python": {
     "delete_cmd_postfix": "",
     "delete_cmd_prefix": "del ",
     "library": "var_list.py",
     "varRefreshCmd": "print(var_dic_list())"
    },
    "r": {
     "delete_cmd_postfix": ") ",
     "delete_cmd_prefix": "rm(",
     "library": "var_list.r",
     "varRefreshCmd": "cat(var_dic_list()) "
    }
   },
   "types_to_exclude": [
    "module",
    "function",
    "builtin_function_or_method",
    "instance",
    "_Feature"
   ],
   "window_display": false
  }
 },
 "nbformat": 4,
 "nbformat_minor": 4
}
