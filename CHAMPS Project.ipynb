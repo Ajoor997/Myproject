{
 "cells": [
  {
   "cell_type": "markdown",
   "metadata": {},
   "source": [
    "# Predicting Molecular Properties"
   ]
  },
  {
   "cell_type": "markdown",
   "metadata": {},
   "source": [
    "In this project, I will be predicting **the scalar_coupling_constant** between atom pairs in molecules, given the two atom types, the coupling type, and some additional features I was able to create from the molecule structure (xyz) files.**"
   ]
  },
  {
   "cell_type": "markdown",
   "metadata": {},
   "source": [
    "## LIbaries to be Used"
   ]
  },
  {
   "cell_type": "code",
   "execution_count": 1,
   "metadata": {},
   "outputs": [],
   "source": [
    "# Math \n",
    "from math import sqrt\n",
    "\n",
    "# Data analysis\n",
    "import pandas as pd \n",
    "import numpy as np\n",
    "\n",
    "# Data Visualization\n",
    "import matplotlib.pyplot as plt\n",
    "%matplotlib inline\n",
    "\n",
    "# To monitor the progress of a loop (Very big datasets)\n",
    "from progressbar import ProgressBar"
   ]
  },
  {
   "cell_type": "markdown",
   "metadata": {},
   "source": [
    "## Pat I: Data Setup"
   ]
  },
  {
   "cell_type": "markdown",
   "metadata": {},
   "source": [
    "### Loading the Data:"
   ]
  },
  {
   "cell_type": "code",
   "execution_count": 23,
   "metadata": {},
   "outputs": [],
   "source": [
    "# All data sets are stored within this file\n",
    "file_path = 'C:\\\\Users\\\\MMESA\\\\Desktop\\\\MyWork\\\\Data\\\\'"
   ]
  },
  {
   "cell_type": "code",
   "execution_count": 13,
   "metadata": {},
   "outputs": [],
   "source": [
    "# struct = structures\n",
    "\"\"\"\n",
    "I. structures.csv:\n",
    "    - number of diplicated molecule names = number of atoms for that molecule. \n",
    "    \n",
    "1- molecule_name: name of the molecule where the coupling constant originates.\n",
    "2- atom_index: the index of the atom in the molecule.\n",
    "3- atom: the type of atom  ( four types: C, H, N, O, F)\n",
    "     cartesian coordinates: (X, Y and Z)\n",
    "\"\"\"\n",
    "\n",
    "file_name = 'structures.csv'\n",
    "struct_df = pd.read_csv(file_path+file_name)"
   ]
  },
  {
   "cell_type": "code",
   "execution_count": 14,
   "metadata": {},
   "outputs": [
    {
     "data": {
      "text/html": [
       "<div>\n",
       "<style scoped>\n",
       "    .dataframe tbody tr th:only-of-type {\n",
       "        vertical-align: middle;\n",
       "    }\n",
       "\n",
       "    .dataframe tbody tr th {\n",
       "        vertical-align: top;\n",
       "    }\n",
       "\n",
       "    .dataframe thead th {\n",
       "        text-align: right;\n",
       "    }\n",
       "</style>\n",
       "<table border=\"1\" class=\"dataframe\">\n",
       "  <thead>\n",
       "    <tr style=\"text-align: right;\">\n",
       "      <th></th>\n",
       "      <th>molecule_name</th>\n",
       "      <th>atom_index</th>\n",
       "      <th>atom</th>\n",
       "      <th>x</th>\n",
       "      <th>y</th>\n",
       "      <th>z</th>\n",
       "    </tr>\n",
       "  </thead>\n",
       "  <tbody>\n",
       "    <tr>\n",
       "      <th>0</th>\n",
       "      <td>dsgdb9nsd_000001</td>\n",
       "      <td>0</td>\n",
       "      <td>C</td>\n",
       "      <td>-0.012698</td>\n",
       "      <td>1.085804</td>\n",
       "      <td>0.008001</td>\n",
       "    </tr>\n",
       "    <tr>\n",
       "      <th>1</th>\n",
       "      <td>dsgdb9nsd_000001</td>\n",
       "      <td>1</td>\n",
       "      <td>H</td>\n",
       "      <td>0.002150</td>\n",
       "      <td>-0.006031</td>\n",
       "      <td>0.001976</td>\n",
       "    </tr>\n",
       "  </tbody>\n",
       "</table>\n",
       "</div>"
      ],
      "text/plain": [
       "      molecule_name  atom_index atom         x         y         z\n",
       "0  dsgdb9nsd_000001           0    C -0.012698  1.085804  0.008001\n",
       "1  dsgdb9nsd_000001           1    H  0.002150 -0.006031  0.001976"
      ]
     },
     "execution_count": 14,
     "metadata": {},
     "output_type": "execute_result"
    }
   ],
   "source": [
    "struct_df.head(2)"
   ]
  },
  {
   "cell_type": "code",
   "execution_count": 15,
   "metadata": {},
   "outputs": [
    {
     "data": {
      "text/html": [
       "<div>\n",
       "<style scoped>\n",
       "    .dataframe tbody tr th:only-of-type {\n",
       "        vertical-align: middle;\n",
       "    }\n",
       "\n",
       "    .dataframe tbody tr th {\n",
       "        vertical-align: top;\n",
       "    }\n",
       "\n",
       "    .dataframe thead th {\n",
       "        text-align: right;\n",
       "    }\n",
       "</style>\n",
       "<table border=\"1\" class=\"dataframe\">\n",
       "  <thead>\n",
       "    <tr style=\"text-align: right;\">\n",
       "      <th></th>\n",
       "      <th>molecule_name</th>\n",
       "      <th>atom_index</th>\n",
       "      <th>atom</th>\n",
       "      <th>x</th>\n",
       "      <th>y</th>\n",
       "      <th>z</th>\n",
       "    </tr>\n",
       "  </thead>\n",
       "  <tbody>\n",
       "    <tr>\n",
       "      <th>2358656</th>\n",
       "      <td>dsgdb9nsd_133885</td>\n",
       "      <td>15</td>\n",
       "      <td>H</td>\n",
       "      <td>1.260745</td>\n",
       "      <td>-1.246754</td>\n",
       "      <td>-1.906767</td>\n",
       "    </tr>\n",
       "  </tbody>\n",
       "</table>\n",
       "</div>"
      ],
      "text/plain": [
       "            molecule_name  atom_index atom         x         y         z\n",
       "2358656  dsgdb9nsd_133885          15    H  1.260745 -1.246754 -1.906767"
      ]
     },
     "execution_count": 15,
     "metadata": {},
     "output_type": "execute_result"
    }
   ],
   "source": [
    "struct_df.tail(1)"
   ]
  },
  {
   "cell_type": "code",
   "execution_count": 16,
   "metadata": {},
   "outputs": [
    {
     "name": "stdout",
     "output_type": "stream",
     "text": [
      "Shape: (2358657, 6)\n",
      "----------------------------------\n",
      "['C' 'H' 'N' 'O' 'F']\n",
      "----------------------------------\n",
      "atom   Count\n",
      "H    1208387\n",
      "C     831726\n",
      "O     183187\n",
      "N     132361\n",
      "F       2996\n",
      "Name: atom, dtype: int64\n",
      "----------------------------------\n",
      "molecule_name     object\n",
      "atom_index         int64\n",
      "atom              object\n",
      "x                float64\n",
      "y                float64\n",
      "z                float64\n",
      "dtype: object\n"
     ]
    }
   ],
   "source": [
    "print('Shape:', struct_df.shape)\n",
    "print (\"----------------------------------\")\n",
    "print ( struct_df['atom'].unique() )\n",
    "print (\"----------------------------------\")\n",
    "print ( 'atom','  Count')\n",
    "print (struct_df['atom'].value_counts())\n",
    "print (\"----------------------------------\")\n",
    "print (struct_df.dtypes)"
   ]
  },
  {
   "cell_type": "code",
   "execution_count": 17,
   "metadata": {},
   "outputs": [
    {
     "data": {
      "text/plain": [
       "molecule_name    0\n",
       "atom_index       0\n",
       "atom             0\n",
       "x                0\n",
       "y                0\n",
       "z                0\n",
       "dtype: int64"
      ]
     },
     "execution_count": 17,
     "metadata": {},
     "output_type": "execute_result"
    }
   ],
   "source": [
    "struct_df.isna().sum()         # checking NaN values in the data set"
   ]
  },
  {
   "cell_type": "code",
   "execution_count": 24,
   "metadata": {},
   "outputs": [],
   "source": [
    "\"\"\"\n",
    "II. train.csv:\n",
    "\n",
    "1- molecule_name: the name of the molecule where the coupling constant originates\n",
    "2- molecule id\n",
    "3&4- atom_index_0,atom_index_1 are the atom indices of the atom-pair creating the coupling\n",
    "5-   scalar_coupling_constant is the scalar coupling constant that we want to be able to predict\n",
    "\"\"\"\n",
    "file_name = 'train.csv'\n",
    "train_df = pd.read_csv(file_path+file_name)"
   ]
  },
  {
   "cell_type": "code",
   "execution_count": 30,
   "metadata": {},
   "outputs": [],
   "source": [
    "train_df.set_index('id', inplace = True)"
   ]
  },
  {
   "cell_type": "code",
   "execution_count": 31,
   "metadata": {},
   "outputs": [
    {
     "data": {
      "text/html": [
       "<div>\n",
       "<style scoped>\n",
       "    .dataframe tbody tr th:only-of-type {\n",
       "        vertical-align: middle;\n",
       "    }\n",
       "\n",
       "    .dataframe tbody tr th {\n",
       "        vertical-align: top;\n",
       "    }\n",
       "\n",
       "    .dataframe thead th {\n",
       "        text-align: right;\n",
       "    }\n",
       "</style>\n",
       "<table border=\"1\" class=\"dataframe\">\n",
       "  <thead>\n",
       "    <tr style=\"text-align: right;\">\n",
       "      <th></th>\n",
       "      <th>molecule_name</th>\n",
       "      <th>atom_index_0</th>\n",
       "      <th>atom_index_1</th>\n",
       "      <th>type</th>\n",
       "      <th>scalar_coupling_constant</th>\n",
       "    </tr>\n",
       "    <tr>\n",
       "      <th>id</th>\n",
       "      <th></th>\n",
       "      <th></th>\n",
       "      <th></th>\n",
       "      <th></th>\n",
       "      <th></th>\n",
       "    </tr>\n",
       "  </thead>\n",
       "  <tbody>\n",
       "    <tr>\n",
       "      <th>0</th>\n",
       "      <td>dsgdb9nsd_000001</td>\n",
       "      <td>1</td>\n",
       "      <td>0</td>\n",
       "      <td>1JHC</td>\n",
       "      <td>84.8076</td>\n",
       "    </tr>\n",
       "  </tbody>\n",
       "</table>\n",
       "</div>"
      ],
      "text/plain": [
       "       molecule_name  atom_index_0  atom_index_1  type  \\\n",
       "id                                                       \n",
       "0   dsgdb9nsd_000001             1             0  1JHC   \n",
       "\n",
       "    scalar_coupling_constant  \n",
       "id                            \n",
       "0                    84.8076  "
      ]
     },
     "execution_count": 31,
     "metadata": {},
     "output_type": "execute_result"
    }
   ],
   "source": [
    "train_df.head(1)"
   ]
  },
  {
   "cell_type": "code",
   "execution_count": 32,
   "metadata": {},
   "outputs": [
    {
     "data": {
      "text/html": [
       "<div>\n",
       "<style scoped>\n",
       "    .dataframe tbody tr th:only-of-type {\n",
       "        vertical-align: middle;\n",
       "    }\n",
       "\n",
       "    .dataframe tbody tr th {\n",
       "        vertical-align: top;\n",
       "    }\n",
       "\n",
       "    .dataframe thead th {\n",
       "        text-align: right;\n",
       "    }\n",
       "</style>\n",
       "<table border=\"1\" class=\"dataframe\">\n",
       "  <thead>\n",
       "    <tr style=\"text-align: right;\">\n",
       "      <th></th>\n",
       "      <th>molecule_name</th>\n",
       "      <th>atom_index_0</th>\n",
       "      <th>atom_index_1</th>\n",
       "      <th>type</th>\n",
       "      <th>scalar_coupling_constant</th>\n",
       "    </tr>\n",
       "    <tr>\n",
       "      <th>id</th>\n",
       "      <th></th>\n",
       "      <th></th>\n",
       "      <th></th>\n",
       "      <th></th>\n",
       "      <th></th>\n",
       "    </tr>\n",
       "  </thead>\n",
       "  <tbody>\n",
       "    <tr>\n",
       "      <th>4658146</th>\n",
       "      <td>dsgdb9nsd_133884</td>\n",
       "      <td>17</td>\n",
       "      <td>8</td>\n",
       "      <td>1JHC</td>\n",
       "      <td>117.934</td>\n",
       "    </tr>\n",
       "  </tbody>\n",
       "</table>\n",
       "</div>"
      ],
      "text/plain": [
       "            molecule_name  atom_index_0  atom_index_1  type  \\\n",
       "id                                                            \n",
       "4658146  dsgdb9nsd_133884            17             8  1JHC   \n",
       "\n",
       "         scalar_coupling_constant  \n",
       "id                                 \n",
       "4658146                   117.934  "
      ]
     },
     "execution_count": 32,
     "metadata": {},
     "output_type": "execute_result"
    }
   ],
   "source": [
    "train_df.tail(1)"
   ]
  },
  {
   "cell_type": "code",
   "execution_count": 33,
   "metadata": {},
   "outputs": [
    {
     "name": "stdout",
     "output_type": "stream",
     "text": [
      "Shape: (4658147, 5)\n",
      "----------------------------------\n",
      "['1JHC' '2JHH' '1JHN' '2JHN' '2JHC' '3JHH' '3JHC' '3JHN']\n",
      "----------------------------------\n",
      "type   Count\n",
      "3JHC    1510379\n",
      "2JHC    1140674\n",
      "1JHC     709416\n",
      "3JHH     590611\n",
      "2JHH     378036\n",
      "3JHN     166415\n",
      "2JHN     119253\n",
      "1JHN      43363\n",
      "Name: type, dtype: int64\n",
      "----------------------------------\n",
      "molecule_name                object\n",
      "atom_index_0                  int64\n",
      "atom_index_1                  int64\n",
      "type                         object\n",
      "scalar_coupling_constant    float64\n",
      "dtype: object\n"
     ]
    }
   ],
   "source": [
    "print('Shape:', train_df.shape)\n",
    "print (\"----------------------------------\")\n",
    "print ( train_df['type'].unique() )\n",
    "print (\"----------------------------------\")\n",
    "print ( 'type','  Count')\n",
    "print (train_df['type'].value_counts())\n",
    "print (\"----------------------------------\")\n",
    "print (train_df.dtypes)"
   ]
  },
  {
   "cell_type": "code",
   "execution_count": 34,
   "metadata": {},
   "outputs": [],
   "source": [
    "\"\"\"\n",
    "III. test.csv:\n",
    "\n",
    "1- molecule_name: the name of the molecule where the coupling constant originates\n",
    "2- molecule id\n",
    "3&4- atom_index_0,atom_index_1 are the atom indices of the atom-pair creating the coupling\n",
    "5-   scalar_coupling_constant is the scalar coupling constant that we want to be able to predict\n",
    "\"\"\"\n",
    "file_name = 'test.csv'\n",
    "test_df = pd.read_csv(file_path+file_name)"
   ]
  },
  {
   "cell_type": "code",
   "execution_count": 37,
   "metadata": {},
   "outputs": [],
   "source": [
    "test_df.set_index('id', inplace = True)"
   ]
  },
  {
   "cell_type": "code",
   "execution_count": 38,
   "metadata": {},
   "outputs": [
    {
     "data": {
      "text/html": [
       "<div>\n",
       "<style scoped>\n",
       "    .dataframe tbody tr th:only-of-type {\n",
       "        vertical-align: middle;\n",
       "    }\n",
       "\n",
       "    .dataframe tbody tr th {\n",
       "        vertical-align: top;\n",
       "    }\n",
       "\n",
       "    .dataframe thead th {\n",
       "        text-align: right;\n",
       "    }\n",
       "</style>\n",
       "<table border=\"1\" class=\"dataframe\">\n",
       "  <thead>\n",
       "    <tr style=\"text-align: right;\">\n",
       "      <th></th>\n",
       "      <th>molecule_name</th>\n",
       "      <th>atom_index_0</th>\n",
       "      <th>atom_index_1</th>\n",
       "      <th>type</th>\n",
       "    </tr>\n",
       "    <tr>\n",
       "      <th>id</th>\n",
       "      <th></th>\n",
       "      <th></th>\n",
       "      <th></th>\n",
       "      <th></th>\n",
       "    </tr>\n",
       "  </thead>\n",
       "  <tbody>\n",
       "    <tr>\n",
       "      <th>4658147</th>\n",
       "      <td>dsgdb9nsd_000004</td>\n",
       "      <td>2</td>\n",
       "      <td>0</td>\n",
       "      <td>2JHC</td>\n",
       "    </tr>\n",
       "  </tbody>\n",
       "</table>\n",
       "</div>"
      ],
      "text/plain": [
       "            molecule_name  atom_index_0  atom_index_1  type\n",
       "id                                                         \n",
       "4658147  dsgdb9nsd_000004             2             0  2JHC"
      ]
     },
     "execution_count": 38,
     "metadata": {},
     "output_type": "execute_result"
    }
   ],
   "source": [
    "test_df.head(1)"
   ]
  },
  {
   "cell_type": "code",
   "execution_count": 39,
   "metadata": {},
   "outputs": [
    {
     "data": {
      "text/html": [
       "<div>\n",
       "<style scoped>\n",
       "    .dataframe tbody tr th:only-of-type {\n",
       "        vertical-align: middle;\n",
       "    }\n",
       "\n",
       "    .dataframe tbody tr th {\n",
       "        vertical-align: top;\n",
       "    }\n",
       "\n",
       "    .dataframe thead th {\n",
       "        text-align: right;\n",
       "    }\n",
       "</style>\n",
       "<table border=\"1\" class=\"dataframe\">\n",
       "  <thead>\n",
       "    <tr style=\"text-align: right;\">\n",
       "      <th></th>\n",
       "      <th>molecule_name</th>\n",
       "      <th>atom_index_0</th>\n",
       "      <th>atom_index_1</th>\n",
       "      <th>type</th>\n",
       "    </tr>\n",
       "    <tr>\n",
       "      <th>id</th>\n",
       "      <th></th>\n",
       "      <th></th>\n",
       "      <th></th>\n",
       "      <th></th>\n",
       "    </tr>\n",
       "  </thead>\n",
       "  <tbody>\n",
       "    <tr>\n",
       "      <th>7163688</th>\n",
       "      <td>dsgdb9nsd_133885</td>\n",
       "      <td>15</td>\n",
       "      <td>8</td>\n",
       "      <td>1JHC</td>\n",
       "    </tr>\n",
       "  </tbody>\n",
       "</table>\n",
       "</div>"
      ],
      "text/plain": [
       "            molecule_name  atom_index_0  atom_index_1  type\n",
       "id                                                         \n",
       "7163688  dsgdb9nsd_133885            15             8  1JHC"
      ]
     },
     "execution_count": 39,
     "metadata": {},
     "output_type": "execute_result"
    }
   ],
   "source": [
    "test_df.tail(1)"
   ]
  },
  {
   "cell_type": "code",
   "execution_count": 44,
   "metadata": {},
   "outputs": [
    {
     "name": "stdout",
     "output_type": "stream",
     "text": [
      "Shape: (2505542, 4)\n",
      "----------------------------------\n",
      "['2JHC' '1JHC' '3JHH' '3JHC' '2JHH' '1JHN' '3JHN' '2JHN']\n",
      "----------------------------------\n",
      "type   Count\n",
      "3JHC    811999\n",
      "2JHC    613138\n",
      "1JHC    380609\n",
      "3JHH    317435\n",
      "2JHH    203126\n",
      "3JHN     90616\n",
      "2JHN     64424\n",
      "1JHN     24195\n",
      "Name: type, dtype: int64\n",
      "----------------------------------\n",
      "molecule_name    object\n",
      "atom_index_0      int64\n",
      "atom_index_1      int64\n",
      "type             object\n",
      "dtype: object\n"
     ]
    }
   ],
   "source": [
    "print('Shape:', test_df.shape)\n",
    "print (\"----------------------------------\")\n",
    "print ( test_df['type'].unique() )\n",
    "print (\"----------------------------------\")\n",
    "print ( 'type','  Count')\n",
    "print (test_df['type'].value_counts())\n",
    "print (\"----------------------------------\")\n",
    "print (test_df.dtypes)"
   ]
  },
  {
   "cell_type": "markdown",
   "metadata": {},
   "source": [
    "### Thoughts:"
   ]
  },
  {
   "cell_type": "code",
   "execution_count": 45,
   "metadata": {},
   "outputs": [
    {
     "data": {
      "text/html": [
       "<div>\n",
       "<style scoped>\n",
       "    .dataframe tbody tr th:only-of-type {\n",
       "        vertical-align: middle;\n",
       "    }\n",
       "\n",
       "    .dataframe tbody tr th {\n",
       "        vertical-align: top;\n",
       "    }\n",
       "\n",
       "    .dataframe thead th {\n",
       "        text-align: right;\n",
       "    }\n",
       "</style>\n",
       "<table border=\"1\" class=\"dataframe\">\n",
       "  <thead>\n",
       "    <tr style=\"text-align: right;\">\n",
       "      <th></th>\n",
       "      <th>molecule_name</th>\n",
       "      <th>atom_index</th>\n",
       "      <th>atom</th>\n",
       "      <th>x</th>\n",
       "      <th>y</th>\n",
       "      <th>z</th>\n",
       "    </tr>\n",
       "  </thead>\n",
       "  <tbody>\n",
       "    <tr>\n",
       "      <th>0</th>\n",
       "      <td>dsgdb9nsd_000001</td>\n",
       "      <td>0</td>\n",
       "      <td>C</td>\n",
       "      <td>-0.012698</td>\n",
       "      <td>1.085804</td>\n",
       "      <td>0.008001</td>\n",
       "    </tr>\n",
       "  </tbody>\n",
       "</table>\n",
       "</div>"
      ],
      "text/plain": [
       "      molecule_name  atom_index atom         x         y         z\n",
       "0  dsgdb9nsd_000001           0    C -0.012698  1.085804  0.008001"
      ]
     },
     "execution_count": 45,
     "metadata": {},
     "output_type": "execute_result"
    }
   ],
   "source": [
    "struct_df.head(1)"
   ]
  },
  {
   "cell_type": "code",
   "execution_count": 46,
   "metadata": {},
   "outputs": [
    {
     "data": {
      "text/html": [
       "<div>\n",
       "<style scoped>\n",
       "    .dataframe tbody tr th:only-of-type {\n",
       "        vertical-align: middle;\n",
       "    }\n",
       "\n",
       "    .dataframe tbody tr th {\n",
       "        vertical-align: top;\n",
       "    }\n",
       "\n",
       "    .dataframe thead th {\n",
       "        text-align: right;\n",
       "    }\n",
       "</style>\n",
       "<table border=\"1\" class=\"dataframe\">\n",
       "  <thead>\n",
       "    <tr style=\"text-align: right;\">\n",
       "      <th></th>\n",
       "      <th>molecule_name</th>\n",
       "      <th>atom_index</th>\n",
       "      <th>atom</th>\n",
       "      <th>x</th>\n",
       "      <th>y</th>\n",
       "      <th>z</th>\n",
       "    </tr>\n",
       "  </thead>\n",
       "  <tbody>\n",
       "    <tr>\n",
       "      <th>2358656</th>\n",
       "      <td>dsgdb9nsd_133885</td>\n",
       "      <td>15</td>\n",
       "      <td>H</td>\n",
       "      <td>1.260745</td>\n",
       "      <td>-1.246754</td>\n",
       "      <td>-1.906767</td>\n",
       "    </tr>\n",
       "  </tbody>\n",
       "</table>\n",
       "</div>"
      ],
      "text/plain": [
       "            molecule_name  atom_index atom         x         y         z\n",
       "2358656  dsgdb9nsd_133885          15    H  1.260745 -1.246754 -1.906767"
      ]
     },
     "execution_count": 46,
     "metadata": {},
     "output_type": "execute_result"
    }
   ],
   "source": [
    "struct_df.tail(1)"
   ]
  },
  {
   "cell_type": "code",
   "execution_count": 53,
   "metadata": {},
   "outputs": [
    {
     "data": {
      "text/html": [
       "<div>\n",
       "<style scoped>\n",
       "    .dataframe tbody tr th:only-of-type {\n",
       "        vertical-align: middle;\n",
       "    }\n",
       "\n",
       "    .dataframe tbody tr th {\n",
       "        vertical-align: top;\n",
       "    }\n",
       "\n",
       "    .dataframe thead th {\n",
       "        text-align: right;\n",
       "    }\n",
       "</style>\n",
       "<table border=\"1\" class=\"dataframe\">\n",
       "  <thead>\n",
       "    <tr style=\"text-align: right;\">\n",
       "      <th></th>\n",
       "      <th>molecule_name</th>\n",
       "      <th>atom_index_0</th>\n",
       "      <th>atom_index_1</th>\n",
       "      <th>type</th>\n",
       "      <th>scalar_coupling_constant</th>\n",
       "    </tr>\n",
       "    <tr>\n",
       "      <th>id</th>\n",
       "      <th></th>\n",
       "      <th></th>\n",
       "      <th></th>\n",
       "      <th></th>\n",
       "      <th></th>\n",
       "    </tr>\n",
       "  </thead>\n",
       "  <tbody>\n",
       "    <tr>\n",
       "      <th>0</th>\n",
       "      <td>dsgdb9nsd_000001</td>\n",
       "      <td>1</td>\n",
       "      <td>0</td>\n",
       "      <td>1JHC</td>\n",
       "      <td>84.8076</td>\n",
       "    </tr>\n",
       "  </tbody>\n",
       "</table>\n",
       "</div>"
      ],
      "text/plain": [
       "       molecule_name  atom_index_0  atom_index_1  type  \\\n",
       "id                                                       \n",
       "0   dsgdb9nsd_000001             1             0  1JHC   \n",
       "\n",
       "    scalar_coupling_constant  \n",
       "id                            \n",
       "0                    84.8076  "
      ]
     },
     "execution_count": 53,
     "metadata": {},
     "output_type": "execute_result"
    }
   ],
   "source": [
    "train_df.head(1)"
   ]
  },
  {
   "cell_type": "code",
   "execution_count": 41,
   "metadata": {},
   "outputs": [
    {
     "data": {
      "text/html": [
       "<div>\n",
       "<style scoped>\n",
       "    .dataframe tbody tr th:only-of-type {\n",
       "        vertical-align: middle;\n",
       "    }\n",
       "\n",
       "    .dataframe tbody tr th {\n",
       "        vertical-align: top;\n",
       "    }\n",
       "\n",
       "    .dataframe thead th {\n",
       "        text-align: right;\n",
       "    }\n",
       "</style>\n",
       "<table border=\"1\" class=\"dataframe\">\n",
       "  <thead>\n",
       "    <tr style=\"text-align: right;\">\n",
       "      <th></th>\n",
       "      <th>molecule_name</th>\n",
       "      <th>atom_index_0</th>\n",
       "      <th>atom_index_1</th>\n",
       "      <th>type</th>\n",
       "      <th>scalar_coupling_constant</th>\n",
       "    </tr>\n",
       "    <tr>\n",
       "      <th>id</th>\n",
       "      <th></th>\n",
       "      <th></th>\n",
       "      <th></th>\n",
       "      <th></th>\n",
       "      <th></th>\n",
       "    </tr>\n",
       "  </thead>\n",
       "  <tbody>\n",
       "    <tr>\n",
       "      <th>4658146</th>\n",
       "      <td>dsgdb9nsd_133884</td>\n",
       "      <td>17</td>\n",
       "      <td>8</td>\n",
       "      <td>1JHC</td>\n",
       "      <td>117.934</td>\n",
       "    </tr>\n",
       "  </tbody>\n",
       "</table>\n",
       "</div>"
      ],
      "text/plain": [
       "            molecule_name  atom_index_0  atom_index_1  type  \\\n",
       "id                                                            \n",
       "4658146  dsgdb9nsd_133884            17             8  1JHC   \n",
       "\n",
       "         scalar_coupling_constant  \n",
       "id                                 \n",
       "4658146                   117.934  "
      ]
     },
     "execution_count": 41,
     "metadata": {},
     "output_type": "execute_result"
    }
   ],
   "source": [
    "train_df.tail(1)"
   ]
  },
  {
   "cell_type": "code",
   "execution_count": 47,
   "metadata": {},
   "outputs": [
    {
     "data": {
      "text/html": [
       "<div>\n",
       "<style scoped>\n",
       "    .dataframe tbody tr th:only-of-type {\n",
       "        vertical-align: middle;\n",
       "    }\n",
       "\n",
       "    .dataframe tbody tr th {\n",
       "        vertical-align: top;\n",
       "    }\n",
       "\n",
       "    .dataframe thead th {\n",
       "        text-align: right;\n",
       "    }\n",
       "</style>\n",
       "<table border=\"1\" class=\"dataframe\">\n",
       "  <thead>\n",
       "    <tr style=\"text-align: right;\">\n",
       "      <th></th>\n",
       "      <th>molecule_name</th>\n",
       "      <th>atom_index_0</th>\n",
       "      <th>atom_index_1</th>\n",
       "      <th>type</th>\n",
       "    </tr>\n",
       "    <tr>\n",
       "      <th>id</th>\n",
       "      <th></th>\n",
       "      <th></th>\n",
       "      <th></th>\n",
       "      <th></th>\n",
       "    </tr>\n",
       "  </thead>\n",
       "  <tbody>\n",
       "    <tr>\n",
       "      <th>4658147</th>\n",
       "      <td>dsgdb9nsd_000004</td>\n",
       "      <td>2</td>\n",
       "      <td>0</td>\n",
       "      <td>2JHC</td>\n",
       "    </tr>\n",
       "  </tbody>\n",
       "</table>\n",
       "</div>"
      ],
      "text/plain": [
       "            molecule_name  atom_index_0  atom_index_1  type\n",
       "id                                                         \n",
       "4658147  dsgdb9nsd_000004             2             0  2JHC"
      ]
     },
     "execution_count": 47,
     "metadata": {},
     "output_type": "execute_result"
    }
   ],
   "source": [
    "test_df.head(1)"
   ]
  },
  {
   "cell_type": "code",
   "execution_count": 48,
   "metadata": {},
   "outputs": [
    {
     "data": {
      "text/html": [
       "<div>\n",
       "<style scoped>\n",
       "    .dataframe tbody tr th:only-of-type {\n",
       "        vertical-align: middle;\n",
       "    }\n",
       "\n",
       "    .dataframe tbody tr th {\n",
       "        vertical-align: top;\n",
       "    }\n",
       "\n",
       "    .dataframe thead th {\n",
       "        text-align: right;\n",
       "    }\n",
       "</style>\n",
       "<table border=\"1\" class=\"dataframe\">\n",
       "  <thead>\n",
       "    <tr style=\"text-align: right;\">\n",
       "      <th></th>\n",
       "      <th>molecule_name</th>\n",
       "      <th>atom_index_0</th>\n",
       "      <th>atom_index_1</th>\n",
       "      <th>type</th>\n",
       "    </tr>\n",
       "    <tr>\n",
       "      <th>id</th>\n",
       "      <th></th>\n",
       "      <th></th>\n",
       "      <th></th>\n",
       "      <th></th>\n",
       "    </tr>\n",
       "  </thead>\n",
       "  <tbody>\n",
       "    <tr>\n",
       "      <th>7163688</th>\n",
       "      <td>dsgdb9nsd_133885</td>\n",
       "      <td>15</td>\n",
       "      <td>8</td>\n",
       "      <td>1JHC</td>\n",
       "    </tr>\n",
       "  </tbody>\n",
       "</table>\n",
       "</div>"
      ],
      "text/plain": [
       "            molecule_name  atom_index_0  atom_index_1  type\n",
       "id                                                         \n",
       "7163688  dsgdb9nsd_133885            15             8  1JHC"
      ]
     },
     "execution_count": 48,
     "metadata": {},
     "output_type": "execute_result"
    }
   ],
   "source": [
    "test_df.tail(1)"
   ]
  },
  {
   "cell_type": "markdown",
   "metadata": {},
   "source": [
    "1. struct_df dataset contains all the molecule structures\n",
    "2. SCC (scale coupling_constant) is given for just the train_df data set, and therefore, we can combine both data sets without the scc column to perform all the required mathematical calculations."
   ]
  },
  {
   "cell_type": "markdown",
   "metadata": {},
   "source": [
    "## Part II: Features"
   ]
  },
  {
   "cell_type": "markdown",
   "metadata": {},
   "source": [
    "The problem allow us to only create features out of the XYZ coordinates, and given atom pairs. The following are the features to be created: <br>\n",
    "1. The distance between two points in 3D space\n",
    "2. The distance between two points on the XY plane\n",
    "3. The distance between two points on the YZ plane \n",
    "4. The distance between two points on the XZ plane\n",
    "5. Atom pairs where 0 will mean both atom pairs are of the same type (ex: C & C), otherwise 1\n",
    "6. Number of coupling interactions within a given molecule\n",
    "7. Number of atoms within a given molecule"
   ]
  },
  {
   "cell_type": "code",
   "execution_count": 60,
   "metadata": {},
   "outputs": [],
   "source": [
    "df = pd.merge(train_df.drop(['scalar_coupling_constant'], axis=1), test_df, how='outer')"
   ]
  },
  {
   "cell_type": "code",
   "execution_count": 68,
   "metadata": {},
   "outputs": [
    {
     "name": "stdout",
     "output_type": "stream",
     "text": [
      "7163689\n"
     ]
    }
   ],
   "source": [
    "print (len(df)) #very big"
   ]
  },
  {
   "cell_type": "code",
   "execution_count": 61,
   "metadata": {},
   "outputs": [
    {
     "data": {
      "text/html": [
       "<div>\n",
       "<style scoped>\n",
       "    .dataframe tbody tr th:only-of-type {\n",
       "        vertical-align: middle;\n",
       "    }\n",
       "\n",
       "    .dataframe tbody tr th {\n",
       "        vertical-align: top;\n",
       "    }\n",
       "\n",
       "    .dataframe thead th {\n",
       "        text-align: right;\n",
       "    }\n",
       "</style>\n",
       "<table border=\"1\" class=\"dataframe\">\n",
       "  <thead>\n",
       "    <tr style=\"text-align: right;\">\n",
       "      <th></th>\n",
       "      <th>molecule_name</th>\n",
       "      <th>atom_index_0</th>\n",
       "      <th>atom_index_1</th>\n",
       "      <th>type</th>\n",
       "    </tr>\n",
       "  </thead>\n",
       "  <tbody>\n",
       "    <tr>\n",
       "      <th>0</th>\n",
       "      <td>dsgdb9nsd_000001</td>\n",
       "      <td>1</td>\n",
       "      <td>0</td>\n",
       "      <td>1JHC</td>\n",
       "    </tr>\n",
       "  </tbody>\n",
       "</table>\n",
       "</div>"
      ],
      "text/plain": [
       "      molecule_name  atom_index_0  atom_index_1  type\n",
       "0  dsgdb9nsd_000001             1             0  1JHC"
      ]
     },
     "execution_count": 61,
     "metadata": {},
     "output_type": "execute_result"
    }
   ],
   "source": [
    "df.head(1)"
   ]
  },
  {
   "cell_type": "code",
   "execution_count": 62,
   "metadata": {},
   "outputs": [
    {
     "data": {
      "text/html": [
       "<div>\n",
       "<style scoped>\n",
       "    .dataframe tbody tr th:only-of-type {\n",
       "        vertical-align: middle;\n",
       "    }\n",
       "\n",
       "    .dataframe tbody tr th {\n",
       "        vertical-align: top;\n",
       "    }\n",
       "\n",
       "    .dataframe thead th {\n",
       "        text-align: right;\n",
       "    }\n",
       "</style>\n",
       "<table border=\"1\" class=\"dataframe\">\n",
       "  <thead>\n",
       "    <tr style=\"text-align: right;\">\n",
       "      <th></th>\n",
       "      <th>molecule_name</th>\n",
       "      <th>atom_index_0</th>\n",
       "      <th>atom_index_1</th>\n",
       "      <th>type</th>\n",
       "    </tr>\n",
       "  </thead>\n",
       "  <tbody>\n",
       "    <tr>\n",
       "      <th>7163688</th>\n",
       "      <td>dsgdb9nsd_133885</td>\n",
       "      <td>15</td>\n",
       "      <td>8</td>\n",
       "      <td>1JHC</td>\n",
       "    </tr>\n",
       "  </tbody>\n",
       "</table>\n",
       "</div>"
      ],
      "text/plain": [
       "            molecule_name  atom_index_0  atom_index_1  type\n",
       "7163688  dsgdb9nsd_133885            15             8  1JHC"
      ]
     },
     "execution_count": 62,
     "metadata": {},
     "output_type": "execute_result"
    }
   ],
   "source": [
    "df.tail(1)"
   ]
  },
  {
   "cell_type": "code",
   "execution_count": 67,
   "metadata": {},
   "outputs": [
    {
     "name": "stderr",
     "output_type": "stream",
     "text": [
      "100% |########################################################################|\n"
     ]
    }
   ],
   "source": [
    "# first i will creat arrays of the coordinates (XYZ, XY, YZ, & XZ)\n",
    "\n",
    "XYZ_list = []\n",
    "XY_list = []\n",
    "YZ_list = []\n",
    "XZ_list = []\n",
    "\n",
    "pbar = ProgressBar(maxval=len(struct_df))\n",
    "pbar.start()\n",
    "\n",
    "for index,row in struct_df.iterrows():\n",
    "    \n",
    "    XYZ = np.array([struct_df.iloc[index]['x'],struct_df.iloc[index]['y'],struct_df.iloc[index]['z']])\n",
    "    XYZ_list.append(XYZ)\n",
    "    \n",
    "    XY = np.array([struct_df.iloc[index]['x'],struct_df.iloc[index]['y']])\n",
    "    XY_list.append(XY)\n",
    "    \n",
    "    YZ = np.array([struct_df.iloc[index]['y'],struct_df.iloc[index]['z']])\n",
    "    YZ_list.append(YZ)\n",
    "    \n",
    "    XZ = np.array([struct_df.iloc[index]['x'],struct_df.iloc[index]['z']])\n",
    "    XZ_list.append(XZ)\n",
    "    \n",
    "    pbar.update(index+1)\n",
    "pbar.finish()"
   ]
  },
  {
   "cell_type": "code",
   "execution_count": 70,
   "metadata": {},
   "outputs": [],
   "source": [
    "struct_df['XYZ']= XYZ_list\n",
    "struct_df['XY']= XY_list\n",
    "struct_df['YZ']= YZ_list\n",
    "struct_df['XZ']= XZ_list"
   ]
  },
  {
   "cell_type": "code",
   "execution_count": 72,
   "metadata": {},
   "outputs": [
    {
     "data": {
      "text/html": [
       "<div>\n",
       "<style scoped>\n",
       "    .dataframe tbody tr th:only-of-type {\n",
       "        vertical-align: middle;\n",
       "    }\n",
       "\n",
       "    .dataframe tbody tr th {\n",
       "        vertical-align: top;\n",
       "    }\n",
       "\n",
       "    .dataframe thead th {\n",
       "        text-align: right;\n",
       "    }\n",
       "</style>\n",
       "<table border=\"1\" class=\"dataframe\">\n",
       "  <thead>\n",
       "    <tr style=\"text-align: right;\">\n",
       "      <th></th>\n",
       "      <th>molecule_name</th>\n",
       "      <th>atom_index</th>\n",
       "      <th>atom</th>\n",
       "      <th>XYZ</th>\n",
       "      <th>XY</th>\n",
       "      <th>YZ</th>\n",
       "      <th>XZ</th>\n",
       "    </tr>\n",
       "  </thead>\n",
       "  <tbody>\n",
       "    <tr>\n",
       "      <th>0</th>\n",
       "      <td>dsgdb9nsd_000001</td>\n",
       "      <td>0</td>\n",
       "      <td>C</td>\n",
       "      <td>[-0.012698135900000001, 1.085804158, 0.0080009...</td>\n",
       "      <td>[-0.012698135900000001, 1.085804158]</td>\n",
       "      <td>[1.085804158, 0.008000995799999999]</td>\n",
       "      <td>[-0.012698135900000001, 0.008000995799999999]</td>\n",
       "    </tr>\n",
       "  </tbody>\n",
       "</table>\n",
       "</div>"
      ],
      "text/plain": [
       "      molecule_name  atom_index atom  \\\n",
       "0  dsgdb9nsd_000001           0    C   \n",
       "\n",
       "                                                 XYZ  \\\n",
       "0  [-0.012698135900000001, 1.085804158, 0.0080009...   \n",
       "\n",
       "                                     XY                                   YZ  \\\n",
       "0  [-0.012698135900000001, 1.085804158]  [1.085804158, 0.008000995799999999]   \n",
       "\n",
       "                                              XZ  \n",
       "0  [-0.012698135900000001, 0.008000995799999999]  "
      ]
     },
     "execution_count": 72,
     "metadata": {},
     "output_type": "execute_result"
    }
   ],
   "source": [
    "struct_df.drop(['x','y','z'],axis = 1, inplace = True)\n",
    "struct_df.head(1)"
   ]
  },
  {
   "cell_type": "code",
   "execution_count": 196,
   "metadata": {},
   "outputs": [],
   "source": [
    "# The distance between two points formula\n",
    "\n",
    "def distance_calculator(a,b,col):\n",
    "    \n",
    "    return sqrt(((df0.iloc[b][col]-df0.iloc[a][col])**2).sum())"
   ]
  },
  {
   "cell_type": "code",
   "execution_count": 203,
   "metadata": {},
   "outputs": [
    {
     "name": "stderr",
     "output_type": "stream",
     "text": [
      "100% |########################################################################|\n"
     ]
    }
   ],
   "source": [
    "# This loop will calculate the distance between two points using XYZ, XU, YZ, or XZ coordinates\n",
    "\n",
    "XYZdistance_list = []\n",
    "XYdistance_list = []\n",
    "YZdistance_list = []\n",
    "XZdistance_list = []\n",
    "\n",
    "struct_dfg = struct_df.groupby('molecule_name')       # consider changing it\n",
    "\n",
    "pbar = ProgressBar(maxval=len(df))\n",
    "pbar.start()\n",
    "\n",
    "for index,row in df.iterrows():\n",
    "    \n",
    "    df0 = struct_dfg.get_group(row.molecule_name)\n",
    "    a,b = row['atom_index_0'],row['atom_index_1']\n",
    "    \n",
    "    XYZdistance_list.append(distance_calculator(a,b,'XYZ'))\n",
    "    XYdistance_list.append(distance_calculator(a,b,'XY'))\n",
    "    YZdistance_list.append(distance_calculator(a,b,'YZ'))\n",
    "    XZdistance_list.append(distance_calculator(a,b,'XZ'))\n",
    "    \n",
    "    pbar.update(index+1)\n",
    "pbar.finish()"
   ]
  },
  {
   "cell_type": "code",
   "execution_count": 208,
   "metadata": {},
   "outputs": [],
   "source": [
    "df['XYZ_distance']= XYZdistance_list\n",
    "df['XY_distance']=  XYdistance_list\n",
    "df['YZ_distance']=  YZdistance_list\n",
    "df['XZ_distance']=  XZdistance_list"
   ]
  },
  {
   "cell_type": "code",
   "execution_count": 209,
   "metadata": {},
   "outputs": [
    {
     "data": {
      "text/html": [
       "<div>\n",
       "<style scoped>\n",
       "    .dataframe tbody tr th:only-of-type {\n",
       "        vertical-align: middle;\n",
       "    }\n",
       "\n",
       "    .dataframe tbody tr th {\n",
       "        vertical-align: top;\n",
       "    }\n",
       "\n",
       "    .dataframe thead th {\n",
       "        text-align: right;\n",
       "    }\n",
       "</style>\n",
       "<table border=\"1\" class=\"dataframe\">\n",
       "  <thead>\n",
       "    <tr style=\"text-align: right;\">\n",
       "      <th></th>\n",
       "      <th>molecule_name</th>\n",
       "      <th>atom_index_0</th>\n",
       "      <th>atom_index_1</th>\n",
       "      <th>type</th>\n",
       "      <th>XYZ_distance</th>\n",
       "      <th>XY_distance</th>\n",
       "      <th>YZ_distance</th>\n",
       "      <th>XZ_distance</th>\n",
       "    </tr>\n",
       "  </thead>\n",
       "  <tbody>\n",
       "    <tr>\n",
       "      <th>0</th>\n",
       "      <td>dsgdb9nsd_000001</td>\n",
       "      <td>1</td>\n",
       "      <td>0</td>\n",
       "      <td>1JHC</td>\n",
       "      <td>1.091953</td>\n",
       "      <td>1.091936</td>\n",
       "      <td>1.091852</td>\n",
       "      <td>0.016024</td>\n",
       "    </tr>\n",
       "  </tbody>\n",
       "</table>\n",
       "</div>"
      ],
      "text/plain": [
       "      molecule_name  atom_index_0  atom_index_1  type  XYZ_distance  \\\n",
       "0  dsgdb9nsd_000001             1             0  1JHC      1.091953   \n",
       "\n",
       "   XY_distance  YZ_distance  XZ_distance  \n",
       "0     1.091936     1.091852     0.016024  "
      ]
     },
     "execution_count": 209,
     "metadata": {},
     "output_type": "execute_result"
    }
   ],
   "source": [
    "df.head(1)"
   ]
  },
  {
   "cell_type": "code",
   "execution_count": 78,
   "metadata": {},
   "outputs": [],
   "source": [
    "struct_grouped = struct.groupby('molecule_name')\n",
    "df_grouped = df.groupby('molecule_name')"
   ]
  },
  {
   "cell_type": "code",
   "execution_count": 79,
   "metadata": {},
   "outputs": [
    {
     "name": "stderr",
     "output_type": "stream",
     "text": [
      "100% |########################################################################|\n"
     ]
    }
   ],
   "source": [
    "# This loops will check wthear the two atoms are of the same type or not. (reminder: 0 = both are the same, 1 = otherwise)\n",
    "\n",
    "atoms_pairslist = []\n",
    "\n",
    "pbar = ProgressBar(maxval=len(df))\n",
    "pbar.start()\n",
    "\n",
    "for index,row in df.iterrows(): \n",
    "    \n",
    "    df0 = struct_grouped.get_group(row.molecule_name)\n",
    "    a,b = row['atom_index_0'],row['atom_index_1']\n",
    "    if (df0.iloc[a]['atom']==df0.iloc[b]['atom']):\n",
    "        atoms_pairslist.append(0)\n",
    "    else:\n",
    "        atoms_pairslist.append(1)\n",
    "        \n",
    "    pbar.update(index+1)\n",
    "pbar.finish()"
   ]
  },
  {
   "cell_type": "code",
   "execution_count": 210,
   "metadata": {},
   "outputs": [],
   "source": [
    "df['atom_pairs']= atoms_pairslist\n",
    "#df['atom_pairs'] = df['atom_pairs'].astype('category')  maybe ?"
   ]
  },
  {
   "cell_type": "code",
   "execution_count": 81,
   "metadata": {},
   "outputs": [
    {
     "name": "stderr",
     "output_type": "stream",
     "text": [
      "100% |########################################################################|\n"
     ]
    }
   ],
   "source": [
    "# This loop will count the number of atoms and interactions within a given molecule\n",
    "\n",
    "atoms_numberlist = []\n",
    "interactionslist = []\n",
    "\n",
    "pbar = ProgressBar(maxval=len(df))\n",
    "pbar.start()\n",
    "\n",
    "for index,row in df.iterrows():\n",
    "    \n",
    "    atoms_numberlist.append(len(struct_grouped.get_group(row.molecule_name)))\n",
    "    interactionslist.append(len(df_grouped.get_group(row.molecule_name))) \n",
    "    \n",
    "    pbar.update(index+1)\n",
    "pbar.finish()"
   ]
  },
  {
   "cell_type": "code",
   "execution_count": 211,
   "metadata": {},
   "outputs": [],
   "source": [
    "df['atoms_number']= atoms_numberlist\n",
    "df['interactions_number']=  interactionslist"
   ]
  },
  {
   "cell_type": "code",
   "execution_count": 212,
   "metadata": {},
   "outputs": [
    {
     "data": {
      "text/html": [
       "<div>\n",
       "<style scoped>\n",
       "    .dataframe tbody tr th:only-of-type {\n",
       "        vertical-align: middle;\n",
       "    }\n",
       "\n",
       "    .dataframe tbody tr th {\n",
       "        vertical-align: top;\n",
       "    }\n",
       "\n",
       "    .dataframe thead th {\n",
       "        text-align: right;\n",
       "    }\n",
       "</style>\n",
       "<table border=\"1\" class=\"dataframe\">\n",
       "  <thead>\n",
       "    <tr style=\"text-align: right;\">\n",
       "      <th></th>\n",
       "      <th>molecule_name</th>\n",
       "      <th>atom_index_0</th>\n",
       "      <th>atom_index_1</th>\n",
       "      <th>type</th>\n",
       "      <th>XYZ_distance</th>\n",
       "      <th>XY_distance</th>\n",
       "      <th>YZ_distance</th>\n",
       "      <th>XZ_distance</th>\n",
       "      <th>atom_pairs</th>\n",
       "      <th>atoms_number</th>\n",
       "      <th>interactions_number</th>\n",
       "    </tr>\n",
       "  </thead>\n",
       "  <tbody>\n",
       "    <tr>\n",
       "      <th>0</th>\n",
       "      <td>dsgdb9nsd_000001</td>\n",
       "      <td>1</td>\n",
       "      <td>0</td>\n",
       "      <td>1JHC</td>\n",
       "      <td>1.091953</td>\n",
       "      <td>1.091936</td>\n",
       "      <td>1.091852</td>\n",
       "      <td>0.016024</td>\n",
       "      <td>1</td>\n",
       "      <td>5</td>\n",
       "      <td>10</td>\n",
       "    </tr>\n",
       "  </tbody>\n",
       "</table>\n",
       "</div>"
      ],
      "text/plain": [
       "      molecule_name  atom_index_0  atom_index_1  type  XYZ_distance  \\\n",
       "0  dsgdb9nsd_000001             1             0  1JHC      1.091953   \n",
       "\n",
       "   XY_distance  YZ_distance  XZ_distance  atom_pairs  atoms_number  \\\n",
       "0     1.091936     1.091852     0.016024           1             5   \n",
       "\n",
       "   interactions_number  \n",
       "0                   10  "
      ]
     },
     "execution_count": 212,
     "metadata": {},
     "output_type": "execute_result"
    }
   ],
   "source": [
    "df.head(1)"
   ]
  },
  {
   "cell_type": "code",
   "execution_count": 213,
   "metadata": {},
   "outputs": [
    {
     "data": {
      "text/html": [
       "<div>\n",
       "<style scoped>\n",
       "    .dataframe tbody tr th:only-of-type {\n",
       "        vertical-align: middle;\n",
       "    }\n",
       "\n",
       "    .dataframe tbody tr th {\n",
       "        vertical-align: top;\n",
       "    }\n",
       "\n",
       "    .dataframe thead th {\n",
       "        text-align: right;\n",
       "    }\n",
       "</style>\n",
       "<table border=\"1\" class=\"dataframe\">\n",
       "  <thead>\n",
       "    <tr style=\"text-align: right;\">\n",
       "      <th></th>\n",
       "      <th>molecule_name</th>\n",
       "      <th>atom_index_0</th>\n",
       "      <th>atom_index_1</th>\n",
       "      <th>type</th>\n",
       "      <th>XYZ_distance</th>\n",
       "      <th>XY_distance</th>\n",
       "      <th>YZ_distance</th>\n",
       "      <th>XZ_distance</th>\n",
       "      <th>atom_pairs</th>\n",
       "      <th>atoms_number</th>\n",
       "      <th>interactions_number</th>\n",
       "    </tr>\n",
       "  </thead>\n",
       "  <tbody>\n",
       "    <tr>\n",
       "      <th>7163688</th>\n",
       "      <td>dsgdb9nsd_133885</td>\n",
       "      <td>15</td>\n",
       "      <td>8</td>\n",
       "      <td>1JHC</td>\n",
       "      <td>1.080482</td>\n",
       "      <td>0.620698</td>\n",
       "      <td>0.985018</td>\n",
       "      <td>0.989625</td>\n",
       "      <td>1</td>\n",
       "      <td>16</td>\n",
       "      <td>52</td>\n",
       "    </tr>\n",
       "  </tbody>\n",
       "</table>\n",
       "</div>"
      ],
      "text/plain": [
       "            molecule_name  atom_index_0  atom_index_1  type  XYZ_distance  \\\n",
       "7163688  dsgdb9nsd_133885            15             8  1JHC      1.080482   \n",
       "\n",
       "         XY_distance  YZ_distance  XZ_distance  atom_pairs  atoms_number  \\\n",
       "7163688     0.620698     0.985018     0.989625           1            16   \n",
       "\n",
       "         interactions_number  \n",
       "7163688                   52  "
      ]
     },
     "execution_count": 213,
     "metadata": {},
     "output_type": "execute_result"
    }
   ],
   "source": [
    "df.tail(1)"
   ]
  },
  {
   "cell_type": "code",
   "execution_count": 214,
   "metadata": {},
   "outputs": [],
   "source": [
    "# we know the last value of the orginal train_df table is 4658146 \n",
    "\n",
    "df11 = df[0:4658147]    # the new train_df table with features\n",
    "df22 = df[4658147:]     # the new test _df with features"
   ]
  },
  {
   "cell_type": "code",
   "execution_count": 220,
   "metadata": {},
   "outputs": [
    {
     "data": {
      "text/html": [
       "<div>\n",
       "<style scoped>\n",
       "    .dataframe tbody tr th:only-of-type {\n",
       "        vertical-align: middle;\n",
       "    }\n",
       "\n",
       "    .dataframe tbody tr th {\n",
       "        vertical-align: top;\n",
       "    }\n",
       "\n",
       "    .dataframe thead th {\n",
       "        text-align: right;\n",
       "    }\n",
       "</style>\n",
       "<table border=\"1\" class=\"dataframe\">\n",
       "  <thead>\n",
       "    <tr style=\"text-align: right;\">\n",
       "      <th></th>\n",
       "      <th>molecule_name</th>\n",
       "      <th>atom_index_0</th>\n",
       "      <th>atom_index_1</th>\n",
       "      <th>type</th>\n",
       "      <th>XYZ_distance</th>\n",
       "      <th>XY_distance</th>\n",
       "      <th>YZ_distance</th>\n",
       "      <th>XZ_distance</th>\n",
       "      <th>atom_pairs</th>\n",
       "      <th>atoms_number</th>\n",
       "      <th>interactions_number</th>\n",
       "      <th>scalar_coupling_constant</th>\n",
       "    </tr>\n",
       "  </thead>\n",
       "  <tbody>\n",
       "    <tr>\n",
       "      <th>0</th>\n",
       "      <td>dsgdb9nsd_000001</td>\n",
       "      <td>1</td>\n",
       "      <td>0</td>\n",
       "      <td>1JHC</td>\n",
       "      <td>1.091953</td>\n",
       "      <td>1.091936</td>\n",
       "      <td>1.091852</td>\n",
       "      <td>0.016024</td>\n",
       "      <td>1</td>\n",
       "      <td>5</td>\n",
       "      <td>10</td>\n",
       "      <td>84.8076</td>\n",
       "    </tr>\n",
       "  </tbody>\n",
       "</table>\n",
       "</div>"
      ],
      "text/plain": [
       "      molecule_name  atom_index_0  atom_index_1  type  XYZ_distance  \\\n",
       "0  dsgdb9nsd_000001             1             0  1JHC      1.091953   \n",
       "\n",
       "   XY_distance  YZ_distance  XZ_distance  atom_pairs  atoms_number  \\\n",
       "0     1.091936     1.091852     0.016024           1             5   \n",
       "\n",
       "   interactions_number  scalar_coupling_constant  \n",
       "0                   10                   84.8076  "
      ]
     },
     "execution_count": 220,
     "metadata": {},
     "output_type": "execute_result"
    }
   ],
   "source": [
    "df11.head(1)"
   ]
  },
  {
   "cell_type": "code",
   "execution_count": 221,
   "metadata": {},
   "outputs": [
    {
     "data": {
      "text/html": [
       "<div>\n",
       "<style scoped>\n",
       "    .dataframe tbody tr th:only-of-type {\n",
       "        vertical-align: middle;\n",
       "    }\n",
       "\n",
       "    .dataframe tbody tr th {\n",
       "        vertical-align: top;\n",
       "    }\n",
       "\n",
       "    .dataframe thead th {\n",
       "        text-align: right;\n",
       "    }\n",
       "</style>\n",
       "<table border=\"1\" class=\"dataframe\">\n",
       "  <thead>\n",
       "    <tr style=\"text-align: right;\">\n",
       "      <th></th>\n",
       "      <th>molecule_name</th>\n",
       "      <th>atom_index_0</th>\n",
       "      <th>atom_index_1</th>\n",
       "      <th>type</th>\n",
       "      <th>XYZ_distance</th>\n",
       "      <th>XY_distance</th>\n",
       "      <th>YZ_distance</th>\n",
       "      <th>XZ_distance</th>\n",
       "      <th>atom_pairs</th>\n",
       "      <th>atoms_number</th>\n",
       "      <th>interactions_number</th>\n",
       "      <th>scalar_coupling_constant</th>\n",
       "    </tr>\n",
       "  </thead>\n",
       "  <tbody>\n",
       "    <tr>\n",
       "      <th>4658146</th>\n",
       "      <td>dsgdb9nsd_133884</td>\n",
       "      <td>17</td>\n",
       "      <td>8</td>\n",
       "      <td>1JHC</td>\n",
       "      <td>1.080997</td>\n",
       "      <td>0.611106</td>\n",
       "      <td>1.026535</td>\n",
       "      <td>0.95388</td>\n",
       "      <td>1</td>\n",
       "      <td>18</td>\n",
       "      <td>78</td>\n",
       "      <td>117.934</td>\n",
       "    </tr>\n",
       "  </tbody>\n",
       "</table>\n",
       "</div>"
      ],
      "text/plain": [
       "            molecule_name  atom_index_0  atom_index_1  type  XYZ_distance  \\\n",
       "4658146  dsgdb9nsd_133884            17             8  1JHC      1.080997   \n",
       "\n",
       "         XY_distance  YZ_distance  XZ_distance  atom_pairs  atoms_number  \\\n",
       "4658146     0.611106     1.026535      0.95388           1            18   \n",
       "\n",
       "         interactions_number  scalar_coupling_constant  \n",
       "4658146                   78                   117.934  "
      ]
     },
     "execution_count": 221,
     "metadata": {},
     "output_type": "execute_result"
    }
   ],
   "source": [
    "df11.tail(1) "
   ]
  },
  {
   "cell_type": "code",
   "execution_count": 217,
   "metadata": {},
   "outputs": [
    {
     "data": {
      "text/html": [
       "<div>\n",
       "<style scoped>\n",
       "    .dataframe tbody tr th:only-of-type {\n",
       "        vertical-align: middle;\n",
       "    }\n",
       "\n",
       "    .dataframe tbody tr th {\n",
       "        vertical-align: top;\n",
       "    }\n",
       "\n",
       "    .dataframe thead th {\n",
       "        text-align: right;\n",
       "    }\n",
       "</style>\n",
       "<table border=\"1\" class=\"dataframe\">\n",
       "  <thead>\n",
       "    <tr style=\"text-align: right;\">\n",
       "      <th></th>\n",
       "      <th>molecule_name</th>\n",
       "      <th>atom_index_0</th>\n",
       "      <th>atom_index_1</th>\n",
       "      <th>type</th>\n",
       "      <th>XYZ_distance</th>\n",
       "      <th>XY_distance</th>\n",
       "      <th>YZ_distance</th>\n",
       "      <th>XZ_distance</th>\n",
       "      <th>atom_pairs</th>\n",
       "      <th>atoms_number</th>\n",
       "      <th>interactions_number</th>\n",
       "    </tr>\n",
       "  </thead>\n",
       "  <tbody>\n",
       "    <tr>\n",
       "      <th>4658147</th>\n",
       "      <td>dsgdb9nsd_000004</td>\n",
       "      <td>2</td>\n",
       "      <td>0</td>\n",
       "      <td>2JHC</td>\n",
       "      <td>2.261178</td>\n",
       "      <td>2.261178</td>\n",
       "      <td>0.0</td>\n",
       "      <td>2.261178</td>\n",
       "      <td>1</td>\n",
       "      <td>4</td>\n",
       "      <td>5</td>\n",
       "    </tr>\n",
       "  </tbody>\n",
       "</table>\n",
       "</div>"
      ],
      "text/plain": [
       "            molecule_name  atom_index_0  atom_index_1  type  XYZ_distance  \\\n",
       "4658147  dsgdb9nsd_000004             2             0  2JHC      2.261178   \n",
       "\n",
       "         XY_distance  YZ_distance  XZ_distance  atom_pairs  atoms_number  \\\n",
       "4658147     2.261178          0.0     2.261178           1             4   \n",
       "\n",
       "         interactions_number  \n",
       "4658147                    5  "
      ]
     },
     "execution_count": 217,
     "metadata": {},
     "output_type": "execute_result"
    }
   ],
   "source": [
    "df22.head(1)"
   ]
  },
  {
   "cell_type": "code",
   "execution_count": 218,
   "metadata": {},
   "outputs": [
    {
     "data": {
      "text/html": [
       "<div>\n",
       "<style scoped>\n",
       "    .dataframe tbody tr th:only-of-type {\n",
       "        vertical-align: middle;\n",
       "    }\n",
       "\n",
       "    .dataframe tbody tr th {\n",
       "        vertical-align: top;\n",
       "    }\n",
       "\n",
       "    .dataframe thead th {\n",
       "        text-align: right;\n",
       "    }\n",
       "</style>\n",
       "<table border=\"1\" class=\"dataframe\">\n",
       "  <thead>\n",
       "    <tr style=\"text-align: right;\">\n",
       "      <th></th>\n",
       "      <th>molecule_name</th>\n",
       "      <th>atom_index_0</th>\n",
       "      <th>atom_index_1</th>\n",
       "      <th>type</th>\n",
       "      <th>XYZ_distance</th>\n",
       "      <th>XY_distance</th>\n",
       "      <th>YZ_distance</th>\n",
       "      <th>XZ_distance</th>\n",
       "      <th>atom_pairs</th>\n",
       "      <th>atoms_number</th>\n",
       "      <th>interactions_number</th>\n",
       "    </tr>\n",
       "  </thead>\n",
       "  <tbody>\n",
       "    <tr>\n",
       "      <th>7163688</th>\n",
       "      <td>dsgdb9nsd_133885</td>\n",
       "      <td>15</td>\n",
       "      <td>8</td>\n",
       "      <td>1JHC</td>\n",
       "      <td>1.080482</td>\n",
       "      <td>0.620698</td>\n",
       "      <td>0.985018</td>\n",
       "      <td>0.989625</td>\n",
       "      <td>1</td>\n",
       "      <td>16</td>\n",
       "      <td>52</td>\n",
       "    </tr>\n",
       "  </tbody>\n",
       "</table>\n",
       "</div>"
      ],
      "text/plain": [
       "            molecule_name  atom_index_0  atom_index_1  type  XYZ_distance  \\\n",
       "7163688  dsgdb9nsd_133885            15             8  1JHC      1.080482   \n",
       "\n",
       "         XY_distance  YZ_distance  XZ_distance  atom_pairs  atoms_number  \\\n",
       "7163688     0.620698     0.985018     0.989625           1            16   \n",
       "\n",
       "         interactions_number  \n",
       "7163688                   52  "
      ]
     },
     "execution_count": 218,
     "metadata": {},
     "output_type": "execute_result"
    }
   ],
   "source": [
    "df22.tail(1)"
   ]
  },
  {
   "cell_type": "code",
   "execution_count": 219,
   "metadata": {},
   "outputs": [
    {
     "name": "stderr",
     "output_type": "stream",
     "text": [
      "C:\\Users\\MMESA\\Anaconda3\\lib\\site-packages\\ipykernel_launcher.py:1: SettingWithCopyWarning: \n",
      "A value is trying to be set on a copy of a slice from a DataFrame.\n",
      "Try using .loc[row_indexer,col_indexer] = value instead\n",
      "\n",
      "See the caveats in the documentation: http://pandas.pydata.org/pandas-docs/stable/indexing.html#indexing-view-versus-copy\n",
      "  \"\"\"Entry point for launching an IPython kernel.\n"
     ]
    }
   ],
   "source": [
    "df11['scalar_coupling_constant']=train_df['scalar_coupling_constant']"
   ]
  },
  {
   "cell_type": "code",
   "execution_count": 222,
   "metadata": {},
   "outputs": [],
   "source": [
    "# Saving it into a new csv file \n",
    "df11.to_csv('train_df1.csv', index=False)     #JUST in case, so i don't have to redo all the long calculations.\n",
    "df22.to_csv('test_df1.csv', index=False)     #JUST in case, so i don't have to redo all the long calculations."
   ]
  },
  {
   "cell_type": "markdown",
   "metadata": {},
   "source": [
    "## Part III: Data Exploration & Visualization"
   ]
  },
  {
   "cell_type": "code",
   "execution_count": 223,
   "metadata": {},
   "outputs": [],
   "source": [
    "file_path = 'C:\\\\Users\\\\MMESA\\\\Desktop\\\\MyWork\\\\'\n",
    "\n",
    "file_name = 'train_df1.csv'\n",
    "df1 = pd.read_csv(file_path+file_name)\n",
    "\n",
    "file_name = 'test_df1.csv'\n",
    "df2 = pd.read_csv(file_path+file_name)"
   ]
  },
  {
   "cell_type": "code",
   "execution_count": 224,
   "metadata": {},
   "outputs": [
    {
     "data": {
      "text/html": [
       "<div>\n",
       "<style scoped>\n",
       "    .dataframe tbody tr th:only-of-type {\n",
       "        vertical-align: middle;\n",
       "    }\n",
       "\n",
       "    .dataframe tbody tr th {\n",
       "        vertical-align: top;\n",
       "    }\n",
       "\n",
       "    .dataframe thead th {\n",
       "        text-align: right;\n",
       "    }\n",
       "</style>\n",
       "<table border=\"1\" class=\"dataframe\">\n",
       "  <thead>\n",
       "    <tr style=\"text-align: right;\">\n",
       "      <th></th>\n",
       "      <th>molecule_name</th>\n",
       "      <th>atom_index_0</th>\n",
       "      <th>atom_index_1</th>\n",
       "      <th>type</th>\n",
       "      <th>XYZ_distance</th>\n",
       "      <th>XY_distance</th>\n",
       "      <th>YZ_distance</th>\n",
       "      <th>XZ_distance</th>\n",
       "      <th>atom_pairs</th>\n",
       "      <th>atoms_number</th>\n",
       "      <th>interactions_number</th>\n",
       "      <th>scalar_coupling_constant</th>\n",
       "    </tr>\n",
       "  </thead>\n",
       "  <tbody>\n",
       "    <tr>\n",
       "      <th>0</th>\n",
       "      <td>dsgdb9nsd_000001</td>\n",
       "      <td>1</td>\n",
       "      <td>0</td>\n",
       "      <td>1JHC</td>\n",
       "      <td>1.091953</td>\n",
       "      <td>1.091936</td>\n",
       "      <td>1.091852</td>\n",
       "      <td>0.016024</td>\n",
       "      <td>1</td>\n",
       "      <td>5</td>\n",
       "      <td>10</td>\n",
       "      <td>84.8076</td>\n",
       "    </tr>\n",
       "  </tbody>\n",
       "</table>\n",
       "</div>"
      ],
      "text/plain": [
       "      molecule_name  atom_index_0  atom_index_1  type  XYZ_distance  \\\n",
       "0  dsgdb9nsd_000001             1             0  1JHC      1.091953   \n",
       "\n",
       "   XY_distance  YZ_distance  XZ_distance  atom_pairs  atoms_number  \\\n",
       "0     1.091936     1.091852     0.016024           1             5   \n",
       "\n",
       "   interactions_number  scalar_coupling_constant  \n",
       "0                   10                   84.8076  "
      ]
     },
     "execution_count": 224,
     "metadata": {},
     "output_type": "execute_result"
    }
   ],
   "source": [
    "df1.head(1)"
   ]
  },
  {
   "cell_type": "code",
   "execution_count": 225,
   "metadata": {},
   "outputs": [
    {
     "data": {
      "text/html": [
       "<div>\n",
       "<style scoped>\n",
       "    .dataframe tbody tr th:only-of-type {\n",
       "        vertical-align: middle;\n",
       "    }\n",
       "\n",
       "    .dataframe tbody tr th {\n",
       "        vertical-align: top;\n",
       "    }\n",
       "\n",
       "    .dataframe thead th {\n",
       "        text-align: right;\n",
       "    }\n",
       "</style>\n",
       "<table border=\"1\" class=\"dataframe\">\n",
       "  <thead>\n",
       "    <tr style=\"text-align: right;\">\n",
       "      <th></th>\n",
       "      <th>molecule_name</th>\n",
       "      <th>atom_index_0</th>\n",
       "      <th>atom_index_1</th>\n",
       "      <th>type</th>\n",
       "      <th>XYZ_distance</th>\n",
       "      <th>XY_distance</th>\n",
       "      <th>YZ_distance</th>\n",
       "      <th>XZ_distance</th>\n",
       "      <th>atom_pairs</th>\n",
       "      <th>atoms_number</th>\n",
       "      <th>interactions_number</th>\n",
       "    </tr>\n",
       "  </thead>\n",
       "  <tbody>\n",
       "    <tr>\n",
       "      <th>0</th>\n",
       "      <td>dsgdb9nsd_000004</td>\n",
       "      <td>2</td>\n",
       "      <td>0</td>\n",
       "      <td>2JHC</td>\n",
       "      <td>2.261178</td>\n",
       "      <td>2.261178</td>\n",
       "      <td>0.0</td>\n",
       "      <td>2.261178</td>\n",
       "      <td>1</td>\n",
       "      <td>4</td>\n",
       "      <td>5</td>\n",
       "    </tr>\n",
       "  </tbody>\n",
       "</table>\n",
       "</div>"
      ],
      "text/plain": [
       "      molecule_name  atom_index_0  atom_index_1  type  XYZ_distance  \\\n",
       "0  dsgdb9nsd_000004             2             0  2JHC      2.261178   \n",
       "\n",
       "   XY_distance  YZ_distance  XZ_distance  atom_pairs  atoms_number  \\\n",
       "0     2.261178          0.0     2.261178           1             4   \n",
       "\n",
       "   interactions_number  \n",
       "0                    5  "
      ]
     },
     "execution_count": 225,
     "metadata": {},
     "output_type": "execute_result"
    }
   ],
   "source": [
    "df2.head(1)"
   ]
  },
  {
   "cell_type": "code",
   "execution_count": 226,
   "metadata": {},
   "outputs": [
    {
     "name": "stdout",
     "output_type": "stream",
     "text": [
      "Shape: (4658147, 12)\n",
      "----------------------------------\n",
      "['1JHC' '2JHH' '1JHN' '2JHN' '2JHC' '3JHH' '3JHC' '3JHN']\n",
      "----------------------------------\n",
      "type   Count\n",
      "3JHC    1510379\n",
      "2JHC    1140674\n",
      "1JHC     709416\n",
      "3JHH     590611\n",
      "2JHH     378036\n",
      "3JHN     166415\n",
      "2JHN     119253\n",
      "1JHN      43363\n",
      "Name: type, dtype: int64\n",
      "----------------------------------\n",
      "molecule_name                object\n",
      "atom_index_0                  int64\n",
      "atom_index_1                  int64\n",
      "type                         object\n",
      "XYZ_distance                float64\n",
      "XY_distance                 float64\n",
      "YZ_distance                 float64\n",
      "XZ_distance                 float64\n",
      "atom_pairs                    int64\n",
      "atoms_number                  int64\n",
      "interactions_number           int64\n",
      "scalar_coupling_constant    float64\n",
      "dtype: object\n"
     ]
    }
   ],
   "source": [
    "print('Shape:', df1.shape)\n",
    "print (\"----------------------------------\")\n",
    "print ( df1['type'].unique() )\n",
    "print (\"----------------------------------\")\n",
    "print ( 'type','  Count')\n",
    "print (df1['type'].value_counts())\n",
    "print (\"----------------------------------\")\n",
    "print (df1.dtypes)"
   ]
  },
  {
   "cell_type": "code",
   "execution_count": 227,
   "metadata": {},
   "outputs": [
    {
     "name": "stdout",
     "output_type": "stream",
     "text": [
      "Shape: (2505542, 11)\n",
      "----------------------------------\n",
      "['2JHC' '1JHC' '3JHH' '3JHC' '2JHH' '1JHN' '3JHN' '2JHN']\n",
      "----------------------------------\n",
      "type   Count\n",
      "3JHC    811999\n",
      "2JHC    613138\n",
      "1JHC    380609\n",
      "3JHH    317435\n",
      "2JHH    203126\n",
      "3JHN     90616\n",
      "2JHN     64424\n",
      "1JHN     24195\n",
      "Name: type, dtype: int64\n",
      "----------------------------------\n",
      "molecule_name           object\n",
      "atom_index_0             int64\n",
      "atom_index_1             int64\n",
      "type                    object\n",
      "XYZ_distance           float64\n",
      "XY_distance            float64\n",
      "YZ_distance            float64\n",
      "XZ_distance            float64\n",
      "atom_pairs               int64\n",
      "atoms_number             int64\n",
      "interactions_number      int64\n",
      "dtype: object\n"
     ]
    }
   ],
   "source": [
    "print('Shape:', df2.shape)\n",
    "print (\"----------------------------------\")\n",
    "print ( df2['type'].unique() )\n",
    "print (\"----------------------------------\")\n",
    "print ( 'type','  Count')\n",
    "print (df2['type'].value_counts())\n",
    "print (\"----------------------------------\")\n",
    "print (df2.dtypes)"
   ]
  },
  {
   "cell_type": "code",
   "execution_count": 228,
   "metadata": {},
   "outputs": [],
   "source": [
    "df1_grouped = df1.groupby('type')"
   ]
  },
  {
   "cell_type": "code",
   "execution_count": 238,
   "metadata": {},
   "outputs": [
    {
     "data": {
      "text/html": [
       "<div>\n",
       "<style scoped>\n",
       "    .dataframe tbody tr th:only-of-type {\n",
       "        vertical-align: middle;\n",
       "    }\n",
       "\n",
       "    .dataframe tbody tr th {\n",
       "        vertical-align: top;\n",
       "    }\n",
       "\n",
       "    .dataframe thead th {\n",
       "        text-align: right;\n",
       "    }\n",
       "</style>\n",
       "<table border=\"1\" class=\"dataframe\">\n",
       "  <thead>\n",
       "    <tr style=\"text-align: right;\">\n",
       "      <th></th>\n",
       "      <th>molecule_name</th>\n",
       "      <th>atom_index_0</th>\n",
       "      <th>atom_index_1</th>\n",
       "      <th>type</th>\n",
       "      <th>XYZ_distance</th>\n",
       "      <th>XY_distance</th>\n",
       "      <th>YZ_distance</th>\n",
       "      <th>XZ_distance</th>\n",
       "      <th>atom_pairs</th>\n",
       "      <th>atoms_number</th>\n",
       "      <th>interactions_number</th>\n",
       "    </tr>\n",
       "  </thead>\n",
       "  <tbody>\n",
       "    <tr>\n",
       "      <th>0</th>\n",
       "      <td>dsgdb9nsd_000001</td>\n",
       "      <td>1</td>\n",
       "      <td>0</td>\n",
       "      <td>1JHC</td>\n",
       "      <td>1.091953</td>\n",
       "      <td>1.091936</td>\n",
       "      <td>1.091852</td>\n",
       "      <td>0.016024</td>\n",
       "      <td>1</td>\n",
       "      <td>5</td>\n",
       "      <td>10</td>\n",
       "    </tr>\n",
       "  </tbody>\n",
       "</table>\n",
       "</div>"
      ],
      "text/plain": [
       "      molecule_name  atom_index_0  atom_index_1  type  XYZ_distance  \\\n",
       "0  dsgdb9nsd_000001             1             0  1JHC      1.091953   \n",
       "\n",
       "   XY_distance  YZ_distance  XZ_distance  atom_pairs  atoms_number  \\\n",
       "0     1.091936     1.091852     0.016024           1             5   \n",
       "\n",
       "   interactions_number  \n",
       "0                   10  "
      ]
     },
     "execution_count": 238,
     "metadata": {},
     "output_type": "execute_result"
    }
   ],
   "source": [
    "df.head(1)"
   ]
  },
  {
   "cell_type": "code",
   "execution_count": 229,
   "metadata": {},
   "outputs": [],
   "source": [
    "df_2JHC = df1_grouped.get_group('2JHC')\n",
    "df_1JHC = df1_grouped.get_group('1JHC')\n",
    "\n",
    "df_3JHN = df1_grouped.get_group('3JHN')\n",
    "df_3JHC = df1_grouped.get_group('3JHC')\n",
    "\n",
    "df_2JHH = df1_grouped.get_group('2JHH')\n",
    "df_1JHN = df1_grouped.get_group('1JHN')\n",
    "\n",
    "df_2JHH = df1_grouped.get_group('3JHN')\n",
    "df_2JHN = df1_grouped.get_group('2JHN')"
   ]
  },
  {
   "cell_type": "code",
   "execution_count": 247,
   "metadata": {},
   "outputs": [
    {
     "data": {
      "text/plain": [
       "<matplotlib.collections.PathCollection at 0x1fbbd936f60>"
      ]
     },
     "execution_count": 247,
     "metadata": {},
     "output_type": "execute_result"
    },
    {
     "data": {
      "image/png": "[encoded data removed]",
      "text/plain": [
       "<Figure size 432x288 with 1 Axes>"
      ]
     },
     "metadata": {
      "needs_background": "light"
     },
     "output_type": "display_data"
    }
   ],
   "source": [
    "x = df_2JHC['XYZ_distance']\n",
    "y = df_2JHC['scalar_coupling_constant']\n",
    "plt.scatter(x,y)"
   ]
  },
  {
   "cell_type": "code",
   "execution_count": 248,
   "metadata": {},
   "outputs": [
    {
     "data": {
      "text/plain": [
       "<matplotlib.collections.PathCollection at 0x1fbbd9a2550>"
      ]
     },
     "execution_count": 248,
     "metadata": {},
     "output_type": "execute_result"
    },
    {
     "data": {
      "image/png": "[encoded data removed]",
      "text/plain": [
       "<Figure size 432x288 with 1 Axes>"
      ]
     },
     "metadata": {
      "needs_background": "light"
     },
     "output_type": "display_data"
    }
   ],
   "source": [
    "x = df_1JHC['XYZ_distance']\n",
    "y = df_1JHC['scalar_coupling_constant']\n",
    "plt.scatter(x,y)                    "
   ]
  },
  {
   "cell_type": "code",
   "execution_count": 249,
   "metadata": {},
   "outputs": [
    {
     "data": {
      "text/plain": [
       "<matplotlib.collections.PathCollection at 0x1fbbda00898>"
      ]
     },
     "execution_count": 249,
     "metadata": {},
     "output_type": "execute_result"
    },
    {
     "data": {
      "image/png": "[encoded data removed]",
      "text/plain": [
       "<Figure size 432x288 with 1 Axes>"
      ]
     },
     "metadata": {
      "needs_background": "light"
     },
     "output_type": "display_data"
    }
   ],
   "source": [
    "x = df_3JHN['XYZ_distance']\n",
    "y = df_3JHN['scalar_coupling_constant']\n",
    "plt.scatter(x,y) "
   ]
  },
  {
   "cell_type": "code",
   "execution_count": 250,
   "metadata": {},
   "outputs": [
    {
     "data": {
      "text/plain": [
       "<matplotlib.collections.PathCollection at 0x1fbbda5bef0>"
      ]
     },
     "execution_count": 250,
     "metadata": {},
     "output_type": "execute_result"
    },
    {
     "data": {
      "image/png": "[encoded data removed]",
      "text/plain": [
       "<Figure size 432x288 with 1 Axes>"
      ]
     },
     "metadata": {
      "needs_background": "light"
     },
     "output_type": "display_data"
    }
   ],
   "source": [
    "x = df_3JHC['XYZ_distance']\n",
    "y = df_3JHC['scalar_coupling_constant']\n",
    "plt.scatter(x,y) "
   ]
  },
  {
   "cell_type": "code",
   "execution_count": 251,
   "metadata": {},
   "outputs": [
    {
     "data": {
      "text/plain": [
       "<matplotlib.collections.PathCollection at 0x1fbcc9e5cc0>"
      ]
     },
     "execution_count": 251,
     "metadata": {},
     "output_type": "execute_result"
    },
    {
     "data": {
      "image/png": "[encoded data removed]",
      "text/plain": [
       "<Figure size 432x288 with 1 Axes>"
      ]
     },
     "metadata": {
      "needs_background": "light"
     },
     "output_type": "display_data"
    }
   ],
   "source": [
    "x = df_2JHH['XYZ_distance']\n",
    "y = df_2JHH['scalar_coupling_constant']\n",
    "plt.scatter(x,y)"
   ]
  },
  {
   "cell_type": "code",
   "execution_count": 252,
   "metadata": {},
   "outputs": [
    {
     "data": {
      "text/plain": [
       "<matplotlib.collections.PathCollection at 0x1fbd9dfa518>"
      ]
     },
     "execution_count": 252,
     "metadata": {},
     "output_type": "execute_result"
    },
    {
     "data": {
      "image/png": "[encoded data removed]",
      "text/plain": [
       "<Figure size 432x288 with 1 Axes>"
      ]
     },
     "metadata": {
      "needs_background": "light"
     },
     "output_type": "display_data"
    }
   ],
   "source": [
    "x = df_1JHN['XYZ_distance']\n",
    "y = df_1JHN['scalar_coupling_constant']\n",
    "plt.scatter(x,y)"
   ]
  },
  {
   "cell_type": "code",
   "execution_count": 253,
   "metadata": {},
   "outputs": [
    {
     "data": {
      "text/plain": [
       "<matplotlib.collections.PathCollection at 0x1fbd9e57e80>"
      ]
     },
     "execution_count": 253,
     "metadata": {},
     "output_type": "execute_result"
    },
    {
     "data": {
      "image/png": "[encoded data removed]",
      "text/plain": [
       "<Figure size 432x288 with 1 Axes>"
      ]
     },
     "metadata": {
      "needs_background": "light"
     },
     "output_type": "display_data"
    }
   ],
   "source": [
    "x = df_2JHH['XYZ_distance']\n",
    "y = df_2JHH['scalar_coupling_constant']\n",
    "plt.scatter(x,y)"
   ]
  },
  {
   "cell_type": "code",
   "execution_count": 254,
   "metadata": {},
   "outputs": [
    {
     "data": {
      "text/plain": [
       "<matplotlib.collections.PathCollection at 0x1fbd9eb80f0>"
      ]
     },
     "execution_count": 254,
     "metadata": {},
     "output_type": "execute_result"
    },
    {
     "data": {
      "image/png": "[encoded data removed]",
      "text/plain": [
       "<Figure size 432x288 with 1 Axes>"
      ]
     },
     "metadata": {
      "needs_background": "light"
     },
     "output_type": "display_data"
    }
   ],
   "source": [
    "x = df_1JHN['XYZ_distance']\n",
    "y = df_1JHN['scalar_coupling_constant']\n",
    "plt.scatter(x,y)"
   ]
  },
  {
   "cell_type": "markdown",
   "metadata": {},
   "source": [
    "1. Some of the graphs seems to have a linear relationship between distance in 3d space and SCC\n",
    "2. It is obvious that SCC is not the only variable affecting the SCC"
   ]
  },
  {
   "cell_type": "markdown",
   "metadata": {},
   "source": [
    "## Part IV: Machine Learning"
   ]
  },
  {
   "cell_type": "markdown",
   "metadata": {},
   "source": [
    "Since we are predicting a quanity, linear regression is going to be our best option to start with. "
   ]
  },
  {
   "cell_type": "code",
   "execution_count": 284,
   "metadata": {},
   "outputs": [],
   "source": [
    "# Machine Learning Libaries\n",
    "import sklearn\n",
    "\n",
    "from sklearn import linear_model\n",
    "from sklearn.linear_model import LinearRegression\n",
    "from sklearn.utils import shuffle\n",
    "from sklearn.preprocessing import LabelEncoder, OneHotEncoder\n",
    "from sklearn.model_selection import train_test_split\n",
    "from sklearn.metrics import mean_absolute_error\n",
    "from sklearn.metrics import mean_squared_error\n",
    "from sklearn.metrics import r2_score"
   ]
  },
  {
   "cell_type": "code",
   "execution_count": 260,
   "metadata": {},
   "outputs": [
    {
     "data": {
      "text/html": [
       "<div>\n",
       "<style scoped>\n",
       "    .dataframe tbody tr th:only-of-type {\n",
       "        vertical-align: middle;\n",
       "    }\n",
       "\n",
       "    .dataframe tbody tr th {\n",
       "        vertical-align: top;\n",
       "    }\n",
       "\n",
       "    .dataframe thead th {\n",
       "        text-align: right;\n",
       "    }\n",
       "</style>\n",
       "<table border=\"1\" class=\"dataframe\">\n",
       "  <thead>\n",
       "    <tr style=\"text-align: right;\">\n",
       "      <th></th>\n",
       "      <th>molecule_name</th>\n",
       "      <th>atom_index_0</th>\n",
       "      <th>atom_index_1</th>\n",
       "      <th>type</th>\n",
       "      <th>XYZ_distance</th>\n",
       "      <th>XY_distance</th>\n",
       "      <th>YZ_distance</th>\n",
       "      <th>XZ_distance</th>\n",
       "      <th>atom_pairs</th>\n",
       "      <th>atoms_number</th>\n",
       "      <th>interactions_number</th>\n",
       "    </tr>\n",
       "  </thead>\n",
       "  <tbody>\n",
       "    <tr>\n",
       "      <th>0</th>\n",
       "      <td>dsgdb9nsd_000001</td>\n",
       "      <td>1</td>\n",
       "      <td>0</td>\n",
       "      <td>1JHC</td>\n",
       "      <td>1.091953</td>\n",
       "      <td>1.091936</td>\n",
       "      <td>1.091852</td>\n",
       "      <td>0.016024</td>\n",
       "      <td>1</td>\n",
       "      <td>5</td>\n",
       "      <td>10</td>\n",
       "    </tr>\n",
       "  </tbody>\n",
       "</table>\n",
       "</div>"
      ],
      "text/plain": [
       "      molecule_name  atom_index_0  atom_index_1  type  XYZ_distance  \\\n",
       "0  dsgdb9nsd_000001             1             0  1JHC      1.091953   \n",
       "\n",
       "   XY_distance  YZ_distance  XZ_distance  atom_pairs  atoms_number  \\\n",
       "0     1.091936     1.091852     0.016024           1             5   \n",
       "\n",
       "   interactions_number  \n",
       "0                   10  "
      ]
     },
     "execution_count": 260,
     "metadata": {},
     "output_type": "execute_result"
    }
   ],
   "source": [
    "df.head(1)"
   ]
  },
  {
   "cell_type": "code",
   "execution_count": 258,
   "metadata": {},
   "outputs": [
    {
     "name": "stdout",
     "output_type": "stream",
     "text": [
      "molecule_name                object\n",
      "atom_index_0                  int64\n",
      "atom_index_1                  int64\n",
      "type                         object\n",
      "XYZ_distance                float64\n",
      "XY_distance                 float64\n",
      "YZ_distance                 float64\n",
      "XZ_distance                 float64\n",
      "atom_pairs                    int64\n",
      "atoms_number                  int64\n",
      "interactions_number           int64\n",
      "scalar_coupling_constant    float64\n",
      "dtype: object\n"
     ]
    }
   ],
   "source": [
    "print (df1.dtypes)"
   ]
  },
  {
   "cell_type": "code",
   "execution_count": 259,
   "metadata": {},
   "outputs": [
    {
     "data": {
      "text/plain": [
       "molecule_name           object\n",
       "atom_index_0             int64\n",
       "atom_index_1             int64\n",
       "type                    object\n",
       "XYZ_distance           float64\n",
       "XY_distance            float64\n",
       "YZ_distance            float64\n",
       "XZ_distance            float64\n",
       "atom_pairs               int64\n",
       "atoms_number             int64\n",
       "interactions_number      int64\n",
       "dtype: object"
      ]
     },
     "execution_count": 259,
     "metadata": {},
     "output_type": "execute_result"
    }
   ],
   "source": [
    "df2.dtypes"
   ]
  },
  {
   "cell_type": "code",
   "execution_count": 265,
   "metadata": {},
   "outputs": [
    {
     "data": {
      "text/html": [
       "<div>\n",
       "<style scoped>\n",
       "    .dataframe tbody tr th:only-of-type {\n",
       "        vertical-align: middle;\n",
       "    }\n",
       "\n",
       "    .dataframe tbody tr th {\n",
       "        vertical-align: top;\n",
       "    }\n",
       "\n",
       "    .dataframe thead th {\n",
       "        text-align: right;\n",
       "    }\n",
       "</style>\n",
       "<table border=\"1\" class=\"dataframe\">\n",
       "  <thead>\n",
       "    <tr style=\"text-align: right;\">\n",
       "      <th></th>\n",
       "      <th>molecule_name</th>\n",
       "      <th>atom_index_0</th>\n",
       "      <th>atom_index_1</th>\n",
       "      <th>type</th>\n",
       "      <th>XYZ_distance</th>\n",
       "      <th>XY_distance</th>\n",
       "      <th>YZ_distance</th>\n",
       "      <th>XZ_distance</th>\n",
       "      <th>atom_pairs</th>\n",
       "      <th>atoms_number</th>\n",
       "      <th>interactions_number</th>\n",
       "      <th>scalar_coupling_constant</th>\n",
       "    </tr>\n",
       "  </thead>\n",
       "  <tbody>\n",
       "    <tr>\n",
       "      <th>0</th>\n",
       "      <td>dsgdb9nsd_000001</td>\n",
       "      <td>1</td>\n",
       "      <td>0</td>\n",
       "      <td>1JHC</td>\n",
       "      <td>1.091953</td>\n",
       "      <td>1.091936</td>\n",
       "      <td>1.091852</td>\n",
       "      <td>0.016024</td>\n",
       "      <td>1</td>\n",
       "      <td>5</td>\n",
       "      <td>10</td>\n",
       "      <td>84.8076</td>\n",
       "    </tr>\n",
       "  </tbody>\n",
       "</table>\n",
       "</div>"
      ],
      "text/plain": [
       "      molecule_name  atom_index_0  atom_index_1  type  XYZ_distance  \\\n",
       "0  dsgdb9nsd_000001             1             0  1JHC      1.091953   \n",
       "\n",
       "   XY_distance  YZ_distance  XZ_distance  atom_pairs  atoms_number  \\\n",
       "0     1.091936     1.091852     0.016024           1             5   \n",
       "\n",
       "   interactions_number  scalar_coupling_constant  \n",
       "0                   10                   84.8076  "
      ]
     },
     "execution_count": 265,
     "metadata": {},
     "output_type": "execute_result"
    }
   ],
   "source": [
    "df1.head(1)"
   ]
  },
  {
   "cell_type": "code",
   "execution_count": 266,
   "metadata": {},
   "outputs": [],
   "source": [
    "df1 = df1[['type','XYZ_distance','XY_distance','YZ_distance','XZ_distance'\n",
    "          ,'atom_pairs','atoms_number','interactions_number','scalar_coupling_constant']]\n",
    "df2 = df2[['type','XYZ_distance','XY_distance','YZ_distance','XZ_distance'\n",
    "          ,'atom_pairs','atoms_number','interactions_number']]"
   ]
  },
  {
   "cell_type": "code",
   "execution_count": 294,
   "metadata": {},
   "outputs": [],
   "source": [
    "# type should be a cat type\n",
    "X = df1.iloc[:,:-1].values\n",
    "y = df1.iloc[:,8].values"
   ]
  },
  {
   "cell_type": "code",
   "execution_count": 295,
   "metadata": {},
   "outputs": [
    {
     "name": "stderr",
     "output_type": "stream",
     "text": [
      "C:\\Users\\MMESA\\Anaconda3\\lib\\site-packages\\sklearn\\preprocessing\\_encoders.py:371: FutureWarning: The handling of integer data will change in version 0.22. Currently, the categories are determined based on the range [0, max(values)], while in the future they will be determined based on the unique values.\n",
      "If you want the future behaviour and silence this warning, you can specify \"categories='auto'\".\n",
      "In case you used a LabelEncoder before this OneHotEncoder to convert the categories to integers, then you can now use the OneHotEncoder directly.\n",
      "  warnings.warn(msg, FutureWarning)\n",
      "C:\\Users\\MMESA\\Anaconda3\\lib\\site-packages\\sklearn\\preprocessing\\_encoders.py:392: DeprecationWarning: The 'categorical_features' keyword is deprecated in version 0.20 and will be removed in 0.22. You can use the ColumnTransformer instead.\n",
      "  \"use the ColumnTransformer instead.\", DeprecationWarning)\n"
     ]
    }
   ],
   "source": [
    "labelencoder=LabelEncoder()\n",
    "\n",
    "X[:,0] = labelencoder.fit_transform(X[:,0])\n",
    "\n",
    "onehotencoder = OneHotEncoder(categorical_features=[0])\n",
    "X= onehotencoder.fit_transform(X).toarray()"
   ]
  },
  {
   "cell_type": "code",
   "execution_count": 296,
   "metadata": {},
   "outputs": [],
   "source": [
    "X_train, X_test, y_train, y_test = train_test_split(X,y, test_size = 0.2, random_state = 0)"
   ]
  },
  {
   "cell_type": "code",
   "execution_count": 297,
   "metadata": {},
   "outputs": [
    {
     "data": {
      "text/plain": [
       "LinearRegression(copy_X=True, fit_intercept=True, n_jobs=None,\n",
       "         normalize=False)"
      ]
     },
     "execution_count": 297,
     "metadata": {},
     "output_type": "execute_result"
    }
   ],
   "source": [
    "lr = LinearRegression()\n",
    "lr.fit(X_train,y_train)"
   ]
  },
  {
   "cell_type": "code",
   "execution_count": 298,
   "metadata": {},
   "outputs": [
    {
     "data": {
      "text/plain": [
       "array([ 4.97464657, -0.57462692, 47.94394016, ...,  5.1866951 ,\n",
       "        4.38471794, -0.52479935])"
      ]
     },
     "execution_count": 298,
     "metadata": {},
     "output_type": "execute_result"
    }
   ],
   "source": [
    "y_pred = lr.predict(X_test)\n",
    "y_pred"
   ]
  },
  {
   "cell_type": "markdown",
   "metadata": {},
   "source": [
    "### Evaluation"
   ]
  },
  {
   "cell_type": "code",
   "execution_count": 299,
   "metadata": {},
   "outputs": [
    {
     "name": "stdout",
     "output_type": "stream",
     "text": [
      "4.217799692914003\n",
      "62.398672946613814\n",
      "0.9490854089359707\n"
     ]
    }
   ],
   "source": [
    "print (mean_absolute_error(y_test,y_pred))\n",
    "print (mean_squared_error(y_test,y_pred))\n",
    "print (r2_score(y_test,y_pred))"
   ]
  },
  {
   "cell_type": "markdown",
   "metadata": {},
   "source": [
    "- r2 score is close to one"
   ]
  },
  {
   "cell_type": "markdown",
   "metadata": {},
   "source": [
    "### Predicting the unkown SCC values for df2:"
   ]
  },
  {
   "cell_type": "code",
   "execution_count": 303,
   "metadata": {},
   "outputs": [],
   "source": [
    "X2 = df2.iloc[:,:].values"
   ]
  },
  {
   "cell_type": "code",
   "execution_count": 305,
   "metadata": {},
   "outputs": [
    {
     "name": "stderr",
     "output_type": "stream",
     "text": [
      "C:\\Users\\MMESA\\Anaconda3\\lib\\site-packages\\sklearn\\preprocessing\\_encoders.py:371: FutureWarning: The handling of integer data will change in version 0.22. Currently, the categories are determined based on the range [0, max(values)], while in the future they will be determined based on the unique values.\n",
      "If you want the future behaviour and silence this warning, you can specify \"categories='auto'\".\n",
      "In case you used a LabelEncoder before this OneHotEncoder to convert the categories to integers, then you can now use the OneHotEncoder directly.\n",
      "  warnings.warn(msg, FutureWarning)\n",
      "C:\\Users\\MMESA\\Anaconda3\\lib\\site-packages\\sklearn\\preprocessing\\_encoders.py:392: DeprecationWarning: The 'categorical_features' keyword is deprecated in version 0.20 and will be removed in 0.22. You can use the ColumnTransformer instead.\n",
      "  \"use the ColumnTransformer instead.\", DeprecationWarning)\n"
     ]
    }
   ],
   "source": [
    "labelencoder=LabelEncoder()\n",
    "\n",
    "X2[:,0] = labelencoder.fit_transform(X2[:,0])\n",
    "\n",
    "onehotencoder = OneHotEncoder(categorical_features=[0])\n",
    "X2= onehotencoder.fit_transform(X2).toarray()"
   ]
  },
  {
   "cell_type": "code",
   "execution_count": 306,
   "metadata": {},
   "outputs": [],
   "source": [
    "y_pred = lr.predict(X2)"
   ]
  },
  {
   "cell_type": "code",
   "execution_count": 308,
   "metadata": {},
   "outputs": [
    {
     "data": {
      "text/plain": [
       "2505542"
      ]
     },
     "execution_count": 308,
     "metadata": {},
     "output_type": "execute_result"
    }
   ],
   "source": [
    "len(y_pred)"
   ]
  },
  {
   "cell_type": "code",
   "execution_count": 315,
   "metadata": {},
   "outputs": [],
   "source": [
    "df2['scalar_coupling_constant'] = y_pred"
   ]
  },
  {
   "cell_type": "code",
   "execution_count": 316,
   "metadata": {},
   "outputs": [
    {
     "data": {
      "text/html": [
       "<div>\n",
       "<style scoped>\n",
       "    .dataframe tbody tr th:only-of-type {\n",
       "        vertical-align: middle;\n",
       "    }\n",
       "\n",
       "    .dataframe tbody tr th {\n",
       "        vertical-align: top;\n",
       "    }\n",
       "\n",
       "    .dataframe thead th {\n",
       "        text-align: right;\n",
       "    }\n",
       "</style>\n",
       "<table border=\"1\" class=\"dataframe\">\n",
       "  <thead>\n",
       "    <tr style=\"text-align: right;\">\n",
       "      <th></th>\n",
       "      <th>type</th>\n",
       "      <th>XYZ_distance</th>\n",
       "      <th>XY_distance</th>\n",
       "      <th>YZ_distance</th>\n",
       "      <th>XZ_distance</th>\n",
       "      <th>atom_pairs</th>\n",
       "      <th>atoms_number</th>\n",
       "      <th>interactions_number</th>\n",
       "      <th>scalar_coupling_constant</th>\n",
       "    </tr>\n",
       "  </thead>\n",
       "  <tbody>\n",
       "    <tr>\n",
       "      <th>0</th>\n",
       "      <td>2JHC</td>\n",
       "      <td>2.261178</td>\n",
       "      <td>2.261178</td>\n",
       "      <td>0.0</td>\n",
       "      <td>2.261178</td>\n",
       "      <td>1</td>\n",
       "      <td>4</td>\n",
       "      <td>5</td>\n",
       "      <td>5.358058</td>\n",
       "    </tr>\n",
       "    <tr>\n",
       "      <th>1</th>\n",
       "      <td>1JHC</td>\n",
       "      <td>1.062099</td>\n",
       "      <td>1.062099</td>\n",
       "      <td>0.0</td>\n",
       "      <td>1.062099</td>\n",
       "      <td>1</td>\n",
       "      <td>4</td>\n",
       "      <td>5</td>\n",
       "      <td>100.249794</td>\n",
       "    </tr>\n",
       "    <tr>\n",
       "      <th>2</th>\n",
       "      <td>3JHH</td>\n",
       "      <td>3.323277</td>\n",
       "      <td>3.323277</td>\n",
       "      <td>0.0</td>\n",
       "      <td>3.323277</td>\n",
       "      <td>0</td>\n",
       "      <td>4</td>\n",
       "      <td>5</td>\n",
       "      <td>12.443716</td>\n",
       "    </tr>\n",
       "    <tr>\n",
       "      <th>3</th>\n",
       "      <td>1JHC</td>\n",
       "      <td>1.062099</td>\n",
       "      <td>1.062099</td>\n",
       "      <td>0.0</td>\n",
       "      <td>1.062099</td>\n",
       "      <td>1</td>\n",
       "      <td>4</td>\n",
       "      <td>5</td>\n",
       "      <td>100.249794</td>\n",
       "    </tr>\n",
       "    <tr>\n",
       "      <th>4</th>\n",
       "      <td>2JHC</td>\n",
       "      <td>2.261178</td>\n",
       "      <td>2.261178</td>\n",
       "      <td>0.0</td>\n",
       "      <td>2.261178</td>\n",
       "      <td>1</td>\n",
       "      <td>4</td>\n",
       "      <td>5</td>\n",
       "      <td>5.358058</td>\n",
       "    </tr>\n",
       "  </tbody>\n",
       "</table>\n",
       "</div>"
      ],
      "text/plain": [
       "   type  XYZ_distance  XY_distance  YZ_distance  XZ_distance  atom_pairs  \\\n",
       "0  2JHC      2.261178     2.261178          0.0     2.261178           1   \n",
       "1  1JHC      1.062099     1.062099          0.0     1.062099           1   \n",
       "2  3JHH      3.323277     3.323277          0.0     3.323277           0   \n",
       "3  1JHC      1.062099     1.062099          0.0     1.062099           1   \n",
       "4  2JHC      2.261178     2.261178          0.0     2.261178           1   \n",
       "\n",
       "   atoms_number  interactions_number  scalar_coupling_constant  \n",
       "0             4                    5                  5.358058  \n",
       "1             4                    5                100.249794  \n",
       "2             4                    5                 12.443716  \n",
       "3             4                    5                100.249794  \n",
       "4             4                    5                  5.358058  "
      ]
     },
     "execution_count": 316,
     "metadata": {},
     "output_type": "execute_result"
    }
   ],
   "source": [
    "df2.head()"
   ]
  },
  {
   "cell_type": "markdown",
   "metadata": {},
   "source": [
    "### File Submission:"
   ]
  },
  {
   "cell_type": "code",
   "execution_count": 319,
   "metadata": {},
   "outputs": [],
   "source": [
    "file_path = 'C:\\\\Users\\\\MMESA\\\\Desktop\\\\MyWork\\\\Data\\\\'\n",
    "file_name = 'sample_submission.csv'\n",
    "submission = pd.read_csv(file_path+file_name)"
   ]
  },
  {
   "cell_type": "code",
   "execution_count": 320,
   "metadata": {},
   "outputs": [
    {
     "data": {
      "text/html": [
       "<div>\n",
       "<style scoped>\n",
       "    .dataframe tbody tr th:only-of-type {\n",
       "        vertical-align: middle;\n",
       "    }\n",
       "\n",
       "    .dataframe tbody tr th {\n",
       "        vertical-align: top;\n",
       "    }\n",
       "\n",
       "    .dataframe thead th {\n",
       "        text-align: right;\n",
       "    }\n",
       "</style>\n",
       "<table border=\"1\" class=\"dataframe\">\n",
       "  <thead>\n",
       "    <tr style=\"text-align: right;\">\n",
       "      <th></th>\n",
       "      <th>id</th>\n",
       "      <th>scalar_coupling_constant</th>\n",
       "    </tr>\n",
       "  </thead>\n",
       "  <tbody>\n",
       "    <tr>\n",
       "      <th>0</th>\n",
       "      <td>4658147</td>\n",
       "      <td>0</td>\n",
       "    </tr>\n",
       "    <tr>\n",
       "      <th>1</th>\n",
       "      <td>4658148</td>\n",
       "      <td>0</td>\n",
       "    </tr>\n",
       "    <tr>\n",
       "      <th>2</th>\n",
       "      <td>4658149</td>\n",
       "      <td>0</td>\n",
       "    </tr>\n",
       "    <tr>\n",
       "      <th>3</th>\n",
       "      <td>4658150</td>\n",
       "      <td>0</td>\n",
       "    </tr>\n",
       "    <tr>\n",
       "      <th>4</th>\n",
       "      <td>4658151</td>\n",
       "      <td>0</td>\n",
       "    </tr>\n",
       "  </tbody>\n",
       "</table>\n",
       "</div>"
      ],
      "text/plain": [
       "        id  scalar_coupling_constant\n",
       "0  4658147                         0\n",
       "1  4658148                         0\n",
       "2  4658149                         0\n",
       "3  4658150                         0\n",
       "4  4658151                         0"
      ]
     },
     "execution_count": 320,
     "metadata": {},
     "output_type": "execute_result"
    }
   ],
   "source": [
    "submission.head()"
   ]
  },
  {
   "cell_type": "code",
   "execution_count": 326,
   "metadata": {},
   "outputs": [],
   "source": [
    "submission.drop(['scalar_coupling_constant'],axis=1, inplace=True)"
   ]
  },
  {
   "cell_type": "code",
   "execution_count": 327,
   "metadata": {},
   "outputs": [],
   "source": [
    "submission ['scalar_coupling_constant'] = y_pred"
   ]
  },
  {
   "cell_type": "code",
   "execution_count": 328,
   "metadata": {},
   "outputs": [
    {
     "data": {
      "text/html": [
       "<div>\n",
       "<style scoped>\n",
       "    .dataframe tbody tr th:only-of-type {\n",
       "        vertical-align: middle;\n",
       "    }\n",
       "\n",
       "    .dataframe tbody tr th {\n",
       "        vertical-align: top;\n",
       "    }\n",
       "\n",
       "    .dataframe thead th {\n",
       "        text-align: right;\n",
       "    }\n",
       "</style>\n",
       "<table border=\"1\" class=\"dataframe\">\n",
       "  <thead>\n",
       "    <tr style=\"text-align: right;\">\n",
       "      <th></th>\n",
       "      <th>id</th>\n",
       "      <th>scalar_coupling_constant</th>\n",
       "    </tr>\n",
       "  </thead>\n",
       "  <tbody>\n",
       "    <tr>\n",
       "      <th>0</th>\n",
       "      <td>4658147</td>\n",
       "      <td>5.358058</td>\n",
       "    </tr>\n",
       "    <tr>\n",
       "      <th>1</th>\n",
       "      <td>4658148</td>\n",
       "      <td>100.249794</td>\n",
       "    </tr>\n",
       "    <tr>\n",
       "      <th>2</th>\n",
       "      <td>4658149</td>\n",
       "      <td>12.443716</td>\n",
       "    </tr>\n",
       "    <tr>\n",
       "      <th>3</th>\n",
       "      <td>4658150</td>\n",
       "      <td>100.249794</td>\n",
       "    </tr>\n",
       "    <tr>\n",
       "      <th>4</th>\n",
       "      <td>4658151</td>\n",
       "      <td>5.358058</td>\n",
       "    </tr>\n",
       "  </tbody>\n",
       "</table>\n",
       "</div>"
      ],
      "text/plain": [
       "        id  scalar_coupling_constant\n",
       "0  4658147                  5.358058\n",
       "1  4658148                100.249794\n",
       "2  4658149                 12.443716\n",
       "3  4658150                100.249794\n",
       "4  4658151                  5.358058"
      ]
     },
     "execution_count": 328,
     "metadata": {},
     "output_type": "execute_result"
    }
   ],
   "source": [
    "submission.head()"
   ]
  },
  {
   "cell_type": "code",
   "execution_count": 329,
   "metadata": {},
   "outputs": [],
   "source": [
    "submission.to_csv('submission.csv', index=False)     #JUST in case, so i don't have to redo all the long calculations."
   ]
  }
 ],
 "metadata": {
  "kernelspec": {
   "display_name": "Python 3",
   "language": "python",
   "name": "python3"
  },
  "language_info": {
   "codemirror_mode": {
    "name": "ipython",
    "version": 3
   },
   "file_extension": ".py",
   "mimetype": "text/x-python",
   "name": "python",
   "nbconvert_exporter": "python",
   "pygments_lexer": "ipython3",
   "version": "3.7.3"
  }
 },
 "nbformat": 4,
 "nbformat_minor": 2
}
